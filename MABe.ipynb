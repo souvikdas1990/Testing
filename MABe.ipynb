{
  "metadata": {
    "kernelspec": {
      "display_name": "Python 3",
      "name": "python3"
    },
    "language_info": {
      "name": "python",
      "version": "3.11.13",
      "mimetype": "text/x-python",
      "codemirror_mode": {
        "name": "ipython",
        "version": 3
      },
      "pygments_lexer": "ipython3",
      "nbconvert_exporter": "python",
      "file_extension": ".py"
    },
    "kaggle": {
      "accelerator": "none",
      "dataSources": [
        {
          "sourceId": 59156,
          "databundleVersionId": 13874099,
          "sourceType": "competition"
        }
      ],
      "dockerImageVersionId": 31090,
      "isInternetEnabled": true,
      "language": "python",
      "sourceType": "notebook",
      "isGpuEnabled": false
    },
    "colab": {
      "name": "MABe LTSM",
      "provenance": [],
      "machine_shape": "hm",
      "gpuType": "A100",
      "include_colab_link": true
    },
    "accelerator": "GPU",
    "widgets": {
      "application/vnd.jupyter.widget-state+json": {
        "d4c38ce237de4aecb248dcb3a22a2b68": {
          "model_module": "@jupyter-widgets/controls",
          "model_name": "VBoxModel",
          "model_module_version": "1.5.0",
          "state": {
            "_dom_classes": [],
            "_model_module": "@jupyter-widgets/controls",
            "_model_module_version": "1.5.0",
            "_model_name": "VBoxModel",
            "_view_count": null,
            "_view_module": "@jupyter-widgets/controls",
            "_view_module_version": "1.5.0",
            "_view_name": "VBoxView",
            "box_style": "",
            "children": [
              "IPY_MODEL_227ae342be1a4c76abab876e0a562e2c",
              "IPY_MODEL_835612dd08d24ec4a868a7ccd6467a5f",
              "IPY_MODEL_2cff76f32a0a4f46802311cf68d2584d",
              "IPY_MODEL_feb85b533f454ffcb24d09da14e01e47",
              "IPY_MODEL_2a5f3c2c0d4e4594a64cde385e032b40"
            ],
            "layout": "IPY_MODEL_b469438460f04007bdb039e069367b82"
          }
        },
        "227ae342be1a4c76abab876e0a562e2c": {
          "model_module": "@jupyter-widgets/controls",
          "model_name": "HTMLModel",
          "model_module_version": "1.5.0",
          "state": {
            "_dom_classes": [],
            "_model_module": "@jupyter-widgets/controls",
            "_model_module_version": "1.5.0",
            "_model_name": "HTMLModel",
            "_view_count": null,
            "_view_module": "@jupyter-widgets/controls",
            "_view_module_version": "1.5.0",
            "_view_name": "HTMLView",
            "description": "",
            "description_tooltip": null,
            "layout": "IPY_MODEL_6bbfa330b1d0440b9e245e917c8fc08e",
            "placeholder": "​",
            "style": "IPY_MODEL_1c893576399a4023a5d5e53f4360dcf4",
            "value": "<center> <img\nsrc=https://www.kaggle.com/static/images/site-logo.png\nalt='Kaggle'> <br> Create an API token from <a\nhref=\"https://www.kaggle.com/settings/account\" target=\"_blank\">your Kaggle\nsettings page</a> and paste it below along with your Kaggle username. <br> </center>"
          }
        },
        "835612dd08d24ec4a868a7ccd6467a5f": {
          "model_module": "@jupyter-widgets/controls",
          "model_name": "TextModel",
          "model_module_version": "1.5.0",
          "state": {
            "_dom_classes": [],
            "_model_module": "@jupyter-widgets/controls",
            "_model_module_version": "1.5.0",
            "_model_name": "TextModel",
            "_view_count": null,
            "_view_module": "@jupyter-widgets/controls",
            "_view_module_version": "1.5.0",
            "_view_name": "TextView",
            "continuous_update": true,
            "description": "Username:",
            "description_tooltip": null,
            "disabled": false,
            "layout": "IPY_MODEL_54d599cc472640f5bcee665a71e93068",
            "placeholder": "​",
            "style": "IPY_MODEL_f27a3efaac724fdaa450ef95465ec419",
            "value": ""
          }
        },
        "2cff76f32a0a4f46802311cf68d2584d": {
          "model_module": "@jupyter-widgets/controls",
          "model_name": "PasswordModel",
          "model_module_version": "1.5.0",
          "state": {
            "_dom_classes": [],
            "_model_module": "@jupyter-widgets/controls",
            "_model_module_version": "1.5.0",
            "_model_name": "PasswordModel",
            "_view_count": null,
            "_view_module": "@jupyter-widgets/controls",
            "_view_module_version": "1.5.0",
            "_view_name": "PasswordView",
            "continuous_update": true,
            "description": "Token:",
            "description_tooltip": null,
            "disabled": false,
            "layout": "IPY_MODEL_99ead0b0a757434690d57a108c557d58",
            "placeholder": "​",
            "style": "IPY_MODEL_09a9ccea9ad44b92aaeb84d08c20a1e1",
            "value": ""
          }
        },
        "feb85b533f454ffcb24d09da14e01e47": {
          "model_module": "@jupyter-widgets/controls",
          "model_name": "ButtonModel",
          "model_module_version": "1.5.0",
          "state": {
            "_dom_classes": [],
            "_model_module": "@jupyter-widgets/controls",
            "_model_module_version": "1.5.0",
            "_model_name": "ButtonModel",
            "_view_count": null,
            "_view_module": "@jupyter-widgets/controls",
            "_view_module_version": "1.5.0",
            "_view_name": "ButtonView",
            "button_style": "",
            "description": "Login",
            "disabled": false,
            "icon": "",
            "layout": "IPY_MODEL_157550ac6f6346dba5bdd919d4963b4a",
            "style": "IPY_MODEL_49102729792741a8bb6e82b472dd1a28",
            "tooltip": ""
          }
        },
        "2a5f3c2c0d4e4594a64cde385e032b40": {
          "model_module": "@jupyter-widgets/controls",
          "model_name": "HTMLModel",
          "model_module_version": "1.5.0",
          "state": {
            "_dom_classes": [],
            "_model_module": "@jupyter-widgets/controls",
            "_model_module_version": "1.5.0",
            "_model_name": "HTMLModel",
            "_view_count": null,
            "_view_module": "@jupyter-widgets/controls",
            "_view_module_version": "1.5.0",
            "_view_name": "HTMLView",
            "description": "",
            "description_tooltip": null,
            "layout": "IPY_MODEL_c2eff3bdba6e427cbadd4ee3b94d52bb",
            "placeholder": "​",
            "style": "IPY_MODEL_339d26c2cb8e4398bb3797959a1aa3ff",
            "value": "\n<b>Thank You</b></center>"
          }
        },
        "b469438460f04007bdb039e069367b82": {
          "model_module": "@jupyter-widgets/base",
          "model_name": "LayoutModel",
          "model_module_version": "1.2.0",
          "state": {
            "_model_module": "@jupyter-widgets/base",
            "_model_module_version": "1.2.0",
            "_model_name": "LayoutModel",
            "_view_count": null,
            "_view_module": "@jupyter-widgets/base",
            "_view_module_version": "1.2.0",
            "_view_name": "LayoutView",
            "align_content": null,
            "align_items": "center",
            "align_self": null,
            "border": null,
            "bottom": null,
            "display": "flex",
            "flex": null,
            "flex_flow": "column",
            "grid_area": null,
            "grid_auto_columns": null,
            "grid_auto_flow": null,
            "grid_auto_rows": null,
            "grid_column": null,
            "grid_gap": null,
            "grid_row": null,
            "grid_template_areas": null,
            "grid_template_columns": null,
            "grid_template_rows": null,
            "height": null,
            "justify_content": null,
            "justify_items": null,
            "left": null,
            "margin": null,
            "max_height": null,
            "max_width": null,
            "min_height": null,
            "min_width": null,
            "object_fit": null,
            "object_position": null,
            "order": null,
            "overflow": null,
            "overflow_x": null,
            "overflow_y": null,
            "padding": null,
            "right": null,
            "top": null,
            "visibility": null,
            "width": "50%"
          }
        },
        "6bbfa330b1d0440b9e245e917c8fc08e": {
          "model_module": "@jupyter-widgets/base",
          "model_name": "LayoutModel",
          "model_module_version": "1.2.0",
          "state": {
            "_model_module": "@jupyter-widgets/base",
            "_model_module_version": "1.2.0",
            "_model_name": "LayoutModel",
            "_view_count": null,
            "_view_module": "@jupyter-widgets/base",
            "_view_module_version": "1.2.0",
            "_view_name": "LayoutView",
            "align_content": null,
            "align_items": null,
            "align_self": null,
            "border": null,
            "bottom": null,
            "display": null,
            "flex": null,
            "flex_flow": null,
            "grid_area": null,
            "grid_auto_columns": null,
            "grid_auto_flow": null,
            "grid_auto_rows": null,
            "grid_column": null,
            "grid_gap": null,
            "grid_row": null,
            "grid_template_areas": null,
            "grid_template_columns": null,
            "grid_template_rows": null,
            "height": null,
            "justify_content": null,
            "justify_items": null,
            "left": null,
            "margin": null,
            "max_height": null,
            "max_width": null,
            "min_height": null,
            "min_width": null,
            "object_fit": null,
            "object_position": null,
            "order": null,
            "overflow": null,
            "overflow_x": null,
            "overflow_y": null,
            "padding": null,
            "right": null,
            "top": null,
            "visibility": null,
            "width": null
          }
        },
        "1c893576399a4023a5d5e53f4360dcf4": {
          "model_module": "@jupyter-widgets/controls",
          "model_name": "DescriptionStyleModel",
          "model_module_version": "1.5.0",
          "state": {
            "_model_module": "@jupyter-widgets/controls",
            "_model_module_version": "1.5.0",
            "_model_name": "DescriptionStyleModel",
            "_view_count": null,
            "_view_module": "@jupyter-widgets/base",
            "_view_module_version": "1.2.0",
            "_view_name": "StyleView",
            "description_width": ""
          }
        },
        "54d599cc472640f5bcee665a71e93068": {
          "model_module": "@jupyter-widgets/base",
          "model_name": "LayoutModel",
          "model_module_version": "1.2.0",
          "state": {
            "_model_module": "@jupyter-widgets/base",
            "_model_module_version": "1.2.0",
            "_model_name": "LayoutModel",
            "_view_count": null,
            "_view_module": "@jupyter-widgets/base",
            "_view_module_version": "1.2.0",
            "_view_name": "LayoutView",
            "align_content": null,
            "align_items": null,
            "align_self": null,
            "border": null,
            "bottom": null,
            "display": null,
            "flex": null,
            "flex_flow": null,
            "grid_area": null,
            "grid_auto_columns": null,
            "grid_auto_flow": null,
            "grid_auto_rows": null,
            "grid_column": null,
            "grid_gap": null,
            "grid_row": null,
            "grid_template_areas": null,
            "grid_template_columns": null,
            "grid_template_rows": null,
            "height": null,
            "justify_content": null,
            "justify_items": null,
            "left": null,
            "margin": null,
            "max_height": null,
            "max_width": null,
            "min_height": null,
            "min_width": null,
            "object_fit": null,
            "object_position": null,
            "order": null,
            "overflow": null,
            "overflow_x": null,
            "overflow_y": null,
            "padding": null,
            "right": null,
            "top": null,
            "visibility": null,
            "width": null
          }
        },
        "f27a3efaac724fdaa450ef95465ec419": {
          "model_module": "@jupyter-widgets/controls",
          "model_name": "DescriptionStyleModel",
          "model_module_version": "1.5.0",
          "state": {
            "_model_module": "@jupyter-widgets/controls",
            "_model_module_version": "1.5.0",
            "_model_name": "DescriptionStyleModel",
            "_view_count": null,
            "_view_module": "@jupyter-widgets/base",
            "_view_module_version": "1.2.0",
            "_view_name": "StyleView",
            "description_width": ""
          }
        },
        "99ead0b0a757434690d57a108c557d58": {
          "model_module": "@jupyter-widgets/base",
          "model_name": "LayoutModel",
          "model_module_version": "1.2.0",
          "state": {
            "_model_module": "@jupyter-widgets/base",
            "_model_module_version": "1.2.0",
            "_model_name": "LayoutModel",
            "_view_count": null,
            "_view_module": "@jupyter-widgets/base",
            "_view_module_version": "1.2.0",
            "_view_name": "LayoutView",
            "align_content": null,
            "align_items": null,
            "align_self": null,
            "border": null,
            "bottom": null,
            "display": null,
            "flex": null,
            "flex_flow": null,
            "grid_area": null,
            "grid_auto_columns": null,
            "grid_auto_flow": null,
            "grid_auto_rows": null,
            "grid_column": null,
            "grid_gap": null,
            "grid_row": null,
            "grid_template_areas": null,
            "grid_template_columns": null,
            "grid_template_rows": null,
            "height": null,
            "justify_content": null,
            "justify_items": null,
            "left": null,
            "margin": null,
            "max_height": null,
            "max_width": null,
            "min_height": null,
            "min_width": null,
            "object_fit": null,
            "object_position": null,
            "order": null,
            "overflow": null,
            "overflow_x": null,
            "overflow_y": null,
            "padding": null,
            "right": null,
            "top": null,
            "visibility": null,
            "width": null
          }
        },
        "09a9ccea9ad44b92aaeb84d08c20a1e1": {
          "model_module": "@jupyter-widgets/controls",
          "model_name": "DescriptionStyleModel",
          "model_module_version": "1.5.0",
          "state": {
            "_model_module": "@jupyter-widgets/controls",
            "_model_module_version": "1.5.0",
            "_model_name": "DescriptionStyleModel",
            "_view_count": null,
            "_view_module": "@jupyter-widgets/base",
            "_view_module_version": "1.2.0",
            "_view_name": "StyleView",
            "description_width": ""
          }
        },
        "157550ac6f6346dba5bdd919d4963b4a": {
          "model_module": "@jupyter-widgets/base",
          "model_name": "LayoutModel",
          "model_module_version": "1.2.0",
          "state": {
            "_model_module": "@jupyter-widgets/base",
            "_model_module_version": "1.2.0",
            "_model_name": "LayoutModel",
            "_view_count": null,
            "_view_module": "@jupyter-widgets/base",
            "_view_module_version": "1.2.0",
            "_view_name": "LayoutView",
            "align_content": null,
            "align_items": null,
            "align_self": null,
            "border": null,
            "bottom": null,
            "display": null,
            "flex": null,
            "flex_flow": null,
            "grid_area": null,
            "grid_auto_columns": null,
            "grid_auto_flow": null,
            "grid_auto_rows": null,
            "grid_column": null,
            "grid_gap": null,
            "grid_row": null,
            "grid_template_areas": null,
            "grid_template_columns": null,
            "grid_template_rows": null,
            "height": null,
            "justify_content": null,
            "justify_items": null,
            "left": null,
            "margin": null,
            "max_height": null,
            "max_width": null,
            "min_height": null,
            "min_width": null,
            "object_fit": null,
            "object_position": null,
            "order": null,
            "overflow": null,
            "overflow_x": null,
            "overflow_y": null,
            "padding": null,
            "right": null,
            "top": null,
            "visibility": null,
            "width": null
          }
        },
        "49102729792741a8bb6e82b472dd1a28": {
          "model_module": "@jupyter-widgets/controls",
          "model_name": "ButtonStyleModel",
          "model_module_version": "1.5.0",
          "state": {
            "_model_module": "@jupyter-widgets/controls",
            "_model_module_version": "1.5.0",
            "_model_name": "ButtonStyleModel",
            "_view_count": null,
            "_view_module": "@jupyter-widgets/base",
            "_view_module_version": "1.2.0",
            "_view_name": "StyleView",
            "button_color": null,
            "font_weight": ""
          }
        },
        "c2eff3bdba6e427cbadd4ee3b94d52bb": {
          "model_module": "@jupyter-widgets/base",
          "model_name": "LayoutModel",
          "model_module_version": "1.2.0",
          "state": {
            "_model_module": "@jupyter-widgets/base",
            "_model_module_version": "1.2.0",
            "_model_name": "LayoutModel",
            "_view_count": null,
            "_view_module": "@jupyter-widgets/base",
            "_view_module_version": "1.2.0",
            "_view_name": "LayoutView",
            "align_content": null,
            "align_items": null,
            "align_self": null,
            "border": null,
            "bottom": null,
            "display": null,
            "flex": null,
            "flex_flow": null,
            "grid_area": null,
            "grid_auto_columns": null,
            "grid_auto_flow": null,
            "grid_auto_rows": null,
            "grid_column": null,
            "grid_gap": null,
            "grid_row": null,
            "grid_template_areas": null,
            "grid_template_columns": null,
            "grid_template_rows": null,
            "height": null,
            "justify_content": null,
            "justify_items": null,
            "left": null,
            "margin": null,
            "max_height": null,
            "max_width": null,
            "min_height": null,
            "min_width": null,
            "object_fit": null,
            "object_position": null,
            "order": null,
            "overflow": null,
            "overflow_x": null,
            "overflow_y": null,
            "padding": null,
            "right": null,
            "top": null,
            "visibility": null,
            "width": null
          }
        },
        "339d26c2cb8e4398bb3797959a1aa3ff": {
          "model_module": "@jupyter-widgets/controls",
          "model_name": "DescriptionStyleModel",
          "model_module_version": "1.5.0",
          "state": {
            "_model_module": "@jupyter-widgets/controls",
            "_model_module_version": "1.5.0",
            "_model_name": "DescriptionStyleModel",
            "_view_count": null,
            "_view_module": "@jupyter-widgets/base",
            "_view_module_version": "1.2.0",
            "_view_name": "StyleView",
            "description_width": ""
          }
        }
      }
    }
  },
  "nbformat_minor": 0,
  "nbformat": 4,
  "cells": [
    {
      "cell_type": "markdown",
      "metadata": {
        "id": "view-in-github",
        "colab_type": "text"
      },
      "source": [
        "<a href=\"https://colab.research.google.com/github/souvikdas1990/Testing/blob/main/MABe.ipynb\" target=\"_parent\"><img src=\"https://colab.research.google.com/assets/colab-badge.svg\" alt=\"Open In Colab\"/></a>"
      ]
    },
    {
      "source": [
        "# IMPORTANT: SOME KAGGLE DATA SOURCES ARE PRIVATE\n",
        "# RUN THIS CELL IN ORDER TO IMPORT YOUR KAGGLE DATA SOURCES.\n",
        "import kagglehub\n",
        "kagglehub.login()\n"
      ],
      "metadata": {
        "id": "YlWPRDZYaecY",
        "outputId": "599f07b5-6d20-4262-8714-a19f8b4c30e5",
        "colab": {
          "base_uri": "https://localhost:8080/",
          "height": 273,
          "referenced_widgets": [
            "d4c38ce237de4aecb248dcb3a22a2b68",
            "227ae342be1a4c76abab876e0a562e2c",
            "835612dd08d24ec4a868a7ccd6467a5f",
            "2cff76f32a0a4f46802311cf68d2584d",
            "feb85b533f454ffcb24d09da14e01e47",
            "2a5f3c2c0d4e4594a64cde385e032b40",
            "b469438460f04007bdb039e069367b82",
            "6bbfa330b1d0440b9e245e917c8fc08e",
            "1c893576399a4023a5d5e53f4360dcf4",
            "54d599cc472640f5bcee665a71e93068",
            "f27a3efaac724fdaa450ef95465ec419",
            "99ead0b0a757434690d57a108c557d58",
            "09a9ccea9ad44b92aaeb84d08c20a1e1",
            "157550ac6f6346dba5bdd919d4963b4a",
            "49102729792741a8bb6e82b472dd1a28",
            "c2eff3bdba6e427cbadd4ee3b94d52bb",
            "339d26c2cb8e4398bb3797959a1aa3ff"
          ]
        }
      },
      "cell_type": "code",
      "outputs": [
        {
          "output_type": "display_data",
          "data": {
            "text/plain": [
              "VBox(children=(HTML(value='<center> <img\\nsrc=https://www.kaggle.com/static/images/site-logo.png\\nalt=\\'Kaggle…"
            ],
            "application/vnd.jupyter.widget-view+json": {
              "version_major": 2,
              "version_minor": 0,
              "model_id": "d4c38ce237de4aecb248dcb3a22a2b68"
            }
          },
          "metadata": {}
        }
      ],
      "execution_count": 1
    },
    {
      "source": [
        "# IMPORTANT: RUN THIS CELL IN ORDER TO IMPORT YOUR KAGGLE DATA SOURCES,\n",
        "# THEN FEEL FREE TO DELETE THIS CELL.\n",
        "# NOTE: THIS NOTEBOOK ENVIRONMENT DIFFERS FROM KAGGLE'S PYTHON\n",
        "# ENVIRONMENT SO THERE MAY BE MISSING LIBRARIES USED BY YOUR\n",
        "# NOTEBOOK.\n",
        "\n",
        "mabe_mouse_behavior_detection_path = kagglehub.competition_download('MABe-mouse-behavior-detection')\n",
        "\n",
        "print('Data source import complete.')\n"
      ],
      "metadata": {
        "id": "3vpI6Dcaaecf"
      },
      "cell_type": "code",
      "outputs": [],
      "execution_count": null
    },
    {
      "cell_type": "code",
      "source": [
        "import re\n",
        "import cv2\n",
        "import gc\n",
        "import os\n",
        "import json\n",
        "import glob\n",
        "import pandas as pd\n",
        "import numpy as np\n",
        "import torch\n",
        "import torch.nn as nn\n",
        "from torch.optim import Adam\n",
        "from sklearn.utils import resample\n",
        "from torch.utils.data import Dataset, DataLoader\n",
        "from sklearn.preprocessing import LabelEncoder\n",
        "from sklearn.metrics import accuracy_score\n",
        "from sklearn.model_selection import train_test_split, StratifiedKFold\n",
        "from torch.cuda.amp import autocast, GradScaler\n",
        "import time\n",
        "from pathlib import Path"
      ],
      "metadata": {
        "_uuid": "8f2839f25d086af736a60e9eeb907d3b93b6e0e5",
        "_cell_guid": "b1076dfc-b9ad-4769-8c92-a6c4dae69d19",
        "trusted": true,
        "execution": {
          "iopub.status.busy": "2025-10-11T05:18:20.0799Z",
          "iopub.execute_input": "2025-10-11T05:18:20.080226Z",
          "iopub.status.idle": "2025-10-11T05:18:25.877243Z",
          "shell.execute_reply.started": "2025-10-11T05:18:20.080201Z",
          "shell.execute_reply": "2025-10-11T05:18:25.876298Z"
        },
        "id": "2ZFlXwxRaech"
      },
      "outputs": [],
      "execution_count": null
    },
    {
      "cell_type": "code",
      "source": [
        "\n",
        "tracking_path = '/kaggle/input/MABe-mouse-behavior-detection/train_tracking/'\n",
        "annotation_path = '/kaggle/input/MABe-mouse-behavior-detection/train_annotation/'\n",
        "train_csv_path = '/kaggle/input/MABe-mouse-behavior-detection/train.csv'\n",
        "\n",
        "try:\n",
        "    train_df = pd.read_csv(train_csv_path)\n",
        "    print(\"First 5 rows of train.csv:\")\n",
        "    display(train_df.head())\n",
        "    print(train_df.shape)\n",
        "except FileNotFoundError:\n",
        "    print(f\"Error: train.csv not found at {train_csv_path}\")\n",
        "except Exception as e:\n",
        "    print(f\"An error occurred while reading train.csv: {e}\")"
      ],
      "metadata": {
        "trusted": true,
        "execution": {
          "iopub.status.busy": "2025-10-11T05:18:25.878964Z",
          "iopub.execute_input": "2025-10-11T05:18:25.87987Z",
          "iopub.status.idle": "2025-10-11T05:18:26.048861Z",
          "shell.execute_reply.started": "2025-10-11T05:18:25.879845Z",
          "shell.execute_reply": "2025-10-11T05:18:26.048044Z"
        },
        "id": "fYLPlQ8Aaecj",
        "outputId": "7decc398-df79-4631-c3a7-45e4ded0a422"
      },
      "outputs": [
        {
          "name": "stdout",
          "text": "First 5 rows of train.csv:\n",
          "output_type": "stream"
        },
        {
          "output_type": "display_data",
          "data": {
            "text/plain": "           lab_id   video_id mouse1_strain mouse1_color mouse1_sex  mouse1_id  \\\n0  AdaptableSnail   44566106    CD-1 (ICR)        white       male       10.0   \n1  AdaptableSnail  143861384    CD-1 (ICR)        white       male        3.0   \n2  AdaptableSnail  209576908    CD-1 (ICR)        white       male        7.0   \n3  AdaptableSnail  278643799    CD-1 (ICR)        white       male       11.0   \n4  AdaptableSnail  351967631    CD-1 (ICR)        white       male       14.0   \n\n   mouse1_age mouse1_condition mouse2_strain mouse2_color  ...  \\\n0  8-12 weeks  wireless device    CD-1 (ICR)        white  ...   \n1  8-12 weeks              NaN    CD-1 (ICR)        white  ...   \n2  8-12 weeks              NaN    CD-1 (ICR)        white  ...   \n3  8-12 weeks  wireless device    CD-1 (ICR)        white  ...   \n4  8-12 weeks              NaN    CD-1 (ICR)        white  ...   \n\n  pix_per_cm_approx  video_width_pix video_height_pix arena_width_cm  \\\n0              16.0             1228             1068           60.0   \n1               9.7              968              608           60.0   \n2              16.0             1266             1100           60.0   \n3              16.0             1224             1100           60.0   \n4              16.0             1204             1068           60.0   \n\n  arena_height_cm arena_shape arena_type  \\\n0            60.0      square   familiar   \n1            60.0      square   familiar   \n2            60.0      square   familiar   \n3            60.0      square   familiar   \n4            60.0      square   familiar   \n\n                                  body_parts_tracked  \\\n0  [\"body_center\", \"ear_left\", \"ear_right\", \"head...   \n1  [\"body_center\", \"ear_left\", \"ear_right\", \"late...   \n2  [\"body_center\", \"ear_left\", \"ear_right\", \"late...   \n3  [\"body_center\", \"ear_left\", \"ear_right\", \"head...   \n4  [\"body_center\", \"ear_left\", \"ear_right\", \"late...   \n\n                                   behaviors_labeled tracking_method  \n0  [\"mouse1,mouse2,approach\", \"mouse1,mouse2,atta...      DeepLabCut  \n1  [\"mouse1,mouse2,approach\", \"mouse1,mouse2,atta...      DeepLabCut  \n2  [\"mouse1,mouse2,approach\", \"mouse1,mouse2,atta...      DeepLabCut  \n3  [\"mouse1,mouse2,approach\", \"mouse1,mouse2,atta...      DeepLabCut  \n4  [\"mouse1,mouse2,approach\", \"mouse1,mouse2,atta...      DeepLabCut  \n\n[5 rows x 38 columns]",
            "text/html": "<div>\n<style scoped>\n    .dataframe tbody tr th:only-of-type {\n        vertical-align: middle;\n    }\n\n    .dataframe tbody tr th {\n        vertical-align: top;\n    }\n\n    .dataframe thead th {\n        text-align: right;\n    }\n</style>\n<table border=\"1\" class=\"dataframe\">\n  <thead>\n    <tr style=\"text-align: right;\">\n      <th></th>\n      <th>lab_id</th>\n      <th>video_id</th>\n      <th>mouse1_strain</th>\n      <th>mouse1_color</th>\n      <th>mouse1_sex</th>\n      <th>mouse1_id</th>\n      <th>mouse1_age</th>\n      <th>mouse1_condition</th>\n      <th>mouse2_strain</th>\n      <th>mouse2_color</th>\n      <th>...</th>\n      <th>pix_per_cm_approx</th>\n      <th>video_width_pix</th>\n      <th>video_height_pix</th>\n      <th>arena_width_cm</th>\n      <th>arena_height_cm</th>\n      <th>arena_shape</th>\n      <th>arena_type</th>\n      <th>body_parts_tracked</th>\n      <th>behaviors_labeled</th>\n      <th>tracking_method</th>\n    </tr>\n  </thead>\n  <tbody>\n    <tr>\n      <th>0</th>\n      <td>AdaptableSnail</td>\n      <td>44566106</td>\n      <td>CD-1 (ICR)</td>\n      <td>white</td>\n      <td>male</td>\n      <td>10.0</td>\n      <td>8-12 weeks</td>\n      <td>wireless device</td>\n      <td>CD-1 (ICR)</td>\n      <td>white</td>\n      <td>...</td>\n      <td>16.0</td>\n      <td>1228</td>\n      <td>1068</td>\n      <td>60.0</td>\n      <td>60.0</td>\n      <td>square</td>\n      <td>familiar</td>\n      <td>[\"body_center\", \"ear_left\", \"ear_right\", \"head...</td>\n      <td>[\"mouse1,mouse2,approach\", \"mouse1,mouse2,atta...</td>\n      <td>DeepLabCut</td>\n    </tr>\n    <tr>\n      <th>1</th>\n      <td>AdaptableSnail</td>\n      <td>143861384</td>\n      <td>CD-1 (ICR)</td>\n      <td>white</td>\n      <td>male</td>\n      <td>3.0</td>\n      <td>8-12 weeks</td>\n      <td>NaN</td>\n      <td>CD-1 (ICR)</td>\n      <td>white</td>\n      <td>...</td>\n      <td>9.7</td>\n      <td>968</td>\n      <td>608</td>\n      <td>60.0</td>\n      <td>60.0</td>\n      <td>square</td>\n      <td>familiar</td>\n      <td>[\"body_center\", \"ear_left\", \"ear_right\", \"late...</td>\n      <td>[\"mouse1,mouse2,approach\", \"mouse1,mouse2,atta...</td>\n      <td>DeepLabCut</td>\n    </tr>\n    <tr>\n      <th>2</th>\n      <td>AdaptableSnail</td>\n      <td>209576908</td>\n      <td>CD-1 (ICR)</td>\n      <td>white</td>\n      <td>male</td>\n      <td>7.0</td>\n      <td>8-12 weeks</td>\n      <td>NaN</td>\n      <td>CD-1 (ICR)</td>\n      <td>white</td>\n      <td>...</td>\n      <td>16.0</td>\n      <td>1266</td>\n      <td>1100</td>\n      <td>60.0</td>\n      <td>60.0</td>\n      <td>square</td>\n      <td>familiar</td>\n      <td>[\"body_center\", \"ear_left\", \"ear_right\", \"late...</td>\n      <td>[\"mouse1,mouse2,approach\", \"mouse1,mouse2,atta...</td>\n      <td>DeepLabCut</td>\n    </tr>\n    <tr>\n      <th>3</th>\n      <td>AdaptableSnail</td>\n      <td>278643799</td>\n      <td>CD-1 (ICR)</td>\n      <td>white</td>\n      <td>male</td>\n      <td>11.0</td>\n      <td>8-12 weeks</td>\n      <td>wireless device</td>\n      <td>CD-1 (ICR)</td>\n      <td>white</td>\n      <td>...</td>\n      <td>16.0</td>\n      <td>1224</td>\n      <td>1100</td>\n      <td>60.0</td>\n      <td>60.0</td>\n      <td>square</td>\n      <td>familiar</td>\n      <td>[\"body_center\", \"ear_left\", \"ear_right\", \"head...</td>\n      <td>[\"mouse1,mouse2,approach\", \"mouse1,mouse2,atta...</td>\n      <td>DeepLabCut</td>\n    </tr>\n    <tr>\n      <th>4</th>\n      <td>AdaptableSnail</td>\n      <td>351967631</td>\n      <td>CD-1 (ICR)</td>\n      <td>white</td>\n      <td>male</td>\n      <td>14.0</td>\n      <td>8-12 weeks</td>\n      <td>NaN</td>\n      <td>CD-1 (ICR)</td>\n      <td>white</td>\n      <td>...</td>\n      <td>16.0</td>\n      <td>1204</td>\n      <td>1068</td>\n      <td>60.0</td>\n      <td>60.0</td>\n      <td>square</td>\n      <td>familiar</td>\n      <td>[\"body_center\", \"ear_left\", \"ear_right\", \"late...</td>\n      <td>[\"mouse1,mouse2,approach\", \"mouse1,mouse2,atta...</td>\n      <td>DeepLabCut</td>\n    </tr>\n  </tbody>\n</table>\n<p>5 rows × 38 columns</p>\n</div>"
          },
          "metadata": {}
        },
        {
          "name": "stdout",
          "text": "(8789, 38)\n",
          "output_type": "stream"
        }
      ],
      "execution_count": null
    },
    {
      "cell_type": "code",
      "source": [
        "valid_pairs = []\n",
        "\n",
        "# Walk over each lab folder in annotation_path\n",
        "for lab in os.listdir(annotation_path):\n",
        "    ann_lab_folder = os.path.join(annotation_path, lab)\n",
        "    if not os.path.isdir(ann_lab_folder):\n",
        "        continue\n",
        "    # collect all video_ids (strip .parquet)\n",
        "    ann_files = [f.replace(\".parquet\", \"\") for f in os.listdir(ann_lab_folder) if f.endswith(\".parquet\")]\n",
        "    for vid in ann_files:\n",
        "        valid_pairs.append((lab, vid))\n",
        "\n",
        "# Build a DataFrame of valid (lab_id, video_id) pairs\n",
        "valid_df = pd.DataFrame(valid_pairs, columns=[\"lab_id\", \"video_id\"])\n",
        "\n",
        "# Filter train_df to only keep rows that appear in valid_df\n",
        "train_df[\"video_id\"] = train_df[\"video_id\"].astype(str)\n",
        "valid_df[\"video_id\"] = valid_df[\"video_id\"].astype(str)\n",
        "train_df = train_df.merge(valid_df, on=[\"lab_id\",\"video_id\"], how=\"inner\")\n",
        "\n",
        "print(\"After filtering, train_df shape:\", train_df.shape)\n",
        "print(\"Unique labs left:\", train_df[\"lab_id\"].nunique())\n"
      ],
      "metadata": {
        "trusted": true,
        "execution": {
          "iopub.status.busy": "2025-10-11T05:18:26.04982Z",
          "iopub.execute_input": "2025-10-11T05:18:26.050114Z",
          "iopub.status.idle": "2025-10-11T05:18:26.188998Z",
          "shell.execute_reply.started": "2025-10-11T05:18:26.05009Z",
          "shell.execute_reply": "2025-10-11T05:18:26.188261Z"
        },
        "id": "iD8pGdLlaecm",
        "outputId": "ce466ed4-228b-4223-9c8e-4f74d9cf2dde"
      },
      "outputs": [
        {
          "name": "stdout",
          "text": "After filtering, train_df shape: (847, 38)\nUnique labs left: 19\n",
          "output_type": "stream"
        }
      ],
      "execution_count": null
    },
    {
      "cell_type": "code",
      "source": [
        "# ====================================================\n",
        "# Build merged labeled dataset from tracking + annotation parquet files\n",
        "# ====================================================\n",
        "\n",
        "KEEP_NIL_FRAC = 0  # keep 10% of NIL rows\n",
        "\n",
        "all_chunks = []   # collect per-video DataFrames (beware memory if you keep all)\n",
        "\n",
        "for _, row in train_df.iterrows():\n",
        "    lab_id   = row['lab_id']\n",
        "    video_id = row['video_id']\n",
        "\n",
        "    tracking_file_path   = os.path.join(tracking_path,   lab_id, f'{video_id}.parquet')\n",
        "    annotation_file_path = os.path.join(annotation_path, lab_id, f'{video_id}.parquet')\n",
        "\n",
        "    print(f\"Processing Lab ID: {lab_id}, Video ID: {video_id}\")\n",
        "\n",
        "    # --- load tracking ---\n",
        "    try:\n",
        "        df_tracking = pd.read_parquet(tracking_file_path)\n",
        "        # init default labels\n",
        "        df_tracking['target_id'] = 0\n",
        "        df_tracking['action'] = \"NIL\"\n",
        "    except Exception as e:\n",
        "        print(f\"  Error reading tracking file: {e}\")\n",
        "        continue\n",
        "\n",
        "    # --- load annotations & stamp agent rows ---\n",
        "    try:\n",
        "        df_annotation = pd.read_parquet(annotation_file_path)\n",
        "\n",
        "        # minimal safety check\n",
        "        need = {'start_frame','stop_frame','agent_id','target_id','action'}\n",
        "        if not need.issubset(df_annotation.columns):\n",
        "            print(f\"  Annotation missing cols {need - set(df_annotation.columns)}; skipping labels.\")\n",
        "\n",
        "        else:\n",
        "            for _, ann in df_annotation.iterrows():\n",
        "                mask_agent = (\n",
        "                    (df_tracking['video_frame'] >= ann['start_frame']) &\n",
        "                    (df_tracking['video_frame'] <= ann['stop_frame']) &\n",
        "                    (df_tracking['mouse_id'] == ann['agent_id'])\n",
        "                )\n",
        "                df_tracking.loc[mask_agent, 'target_id'] = ann['target_id']\n",
        "                df_tracking.loc[mask_agent, 'action']    = ann['action']\n",
        "\n",
        "                # (optional) also tag target rows with same action:\n",
        "                # if pd.notna(ann['target_id']):\n",
        "                #     mask_target = (\n",
        "                #         (df_tracking['video_frame'] >= ann['start_frame']) &\n",
        "                #         (df_tracking['video_frame'] <= ann['stop_frame']) &\n",
        "                #         (df_tracking['mouse_id'] == ann['target_id'])\n",
        "                #     )\n",
        "                #     df_tracking.loc[mask_target, 'action'] = ann['action']\n",
        "                #     df_tracking.loc[mask_target, 'target_id'] = ann['agent_id']\n",
        "\n",
        "    except Exception as e:\n",
        "        print(f\"  Error reading annotation file: {e}\")\n",
        "\n",
        "    # --- add metadata columns first ---\n",
        "    df_tracking['lab_id'] = lab_id\n",
        "    df_tracking['video_id'] = video_id\n",
        "    cols = ['lab_id', 'video_id'] + [c for c in df_tracking.columns if c not in ('lab_id','video_id')]\n",
        "    df_tracking = df_tracking[cols]\n",
        "\n",
        "    # --- drop 90% of NIL rows (keep only 10%) per video ---\n",
        "    nil_mask = (df_tracking['action'] == 'NIL')\n",
        "\n",
        "    # per-video deterministic RNG seed\n",
        "    seed = (hash((str(lab_id), str(video_id))) & 0xFFFFFFFF)\n",
        "    rng = np.random.RandomState(seed)\n",
        "\n",
        "    # vectorized keep mask: keep all positives + 10% of NILs\n",
        "    keep_nil_mask = nil_mask & (rng.rand(len(df_tracking)) < KEEP_NIL_FRAC)\n",
        "    pos_mask = ~nil_mask\n",
        "    keep_mask = pos_mask | keep_nil_mask\n",
        "\n",
        "    df_tracking = df_tracking.loc[keep_mask].reset_index(drop=True)\n",
        "\n",
        "    # append reduced per-video chunk\n",
        "    all_chunks.append(df_tracking)\n",
        "\n",
        "# --- concatenate all reduced chunks ---\n",
        "df_merged = pd.concat(all_chunks, ignore_index=True)\n",
        "\n",
        "print(f\"Merged (reduced) dataset shape = {df_merged.shape}\")\n",
        "\n",
        "# Optionally save\n",
        "# out_path = \"/kaggle/working/merged_dataset.parquet\"\n",
        "# df_merged.to_parquet(out_path, index=False)\n"
      ],
      "metadata": {
        "trusted": true,
        "execution": {
          "iopub.status.busy": "2025-10-11T05:18:26.18981Z",
          "iopub.execute_input": "2025-10-11T05:18:26.190081Z",
          "iopub.status.idle": "2025-10-11T05:23:59.419099Z",
          "shell.execute_reply.started": "2025-10-11T05:18:26.190061Z",
          "shell.execute_reply": "2025-10-11T05:23:59.41806Z"
        },
        "id": "6nnxiypIaecn",
        "outputId": "1dd1d281-709f-4d25-975e-a57f1bb018cf"
      },
      "outputs": [
        {
          "name": "stdout",
          "text": "Processing Lab ID: AdaptableSnail, Video ID: 44566106\nProcessing Lab ID: AdaptableSnail, Video ID: 143861384\nProcessing Lab ID: AdaptableSnail, Video ID: 209576908\nProcessing Lab ID: AdaptableSnail, Video ID: 278643799\nProcessing Lab ID: AdaptableSnail, Video ID: 351967631\nProcessing Lab ID: AdaptableSnail, Video ID: 355542626\nProcessing Lab ID: AdaptableSnail, Video ID: 678426900\nProcessing Lab ID: AdaptableSnail, Video ID: 705948978\nProcessing Lab ID: AdaptableSnail, Video ID: 878123481\nProcessing Lab ID: AdaptableSnail, Video ID: 1212811043\nProcessing Lab ID: AdaptableSnail, Video ID: 1260392287\nProcessing Lab ID: AdaptableSnail, Video ID: 1351098077\nProcessing Lab ID: AdaptableSnail, Video ID: 1408652858\nProcessing Lab ID: AdaptableSnail, Video ID: 1596473327\nProcessing Lab ID: AdaptableSnail, Video ID: 1643942986\nProcessing Lab ID: AdaptableSnail, Video ID: 1717182687\nProcessing Lab ID: AdaptableSnail, Video ID: 2078515636\nProcessing Lab ID: BoisterousParrot, Video ID: 402963089\nProcessing Lab ID: BoisterousParrot, Video ID: 459610814\nProcessing Lab ID: BoisterousParrot, Video ID: 613246188\nProcessing Lab ID: BoisterousParrot, Video ID: 1059582964\nProcessing Lab ID: BoisterousParrot, Video ID: 1184291605\nProcessing Lab ID: BoisterousParrot, Video ID: 1201849558\nProcessing Lab ID: BoisterousParrot, Video ID: 1459695188\nProcessing Lab ID: BoisterousParrot, Video ID: 1985626297\nProcessing Lab ID: CRIM13, Video ID: 363958890\nProcessing Lab ID: CRIM13, Video ID: 415181540\nProcessing Lab ID: CRIM13, Video ID: 670907179\nProcessing Lab ID: CRIM13, Video ID: 793202924\nProcessing Lab ID: CRIM13, Video ID: 840324395\nProcessing Lab ID: CRIM13, Video ID: 1009459450\nProcessing Lab ID: CRIM13, Video ID: 1057221056\nProcessing Lab ID: CRIM13, Video ID: 1149348188\nProcessing Lab ID: CRIM13, Video ID: 1213233769\nProcessing Lab ID: CRIM13, Video ID: 1313797424\nProcessing Lab ID: CRIM13, Video ID: 1319309143\nProcessing Lab ID: CRIM13, Video ID: 1381910096\nProcessing Lab ID: CRIM13, Video ID: 1490000283\nProcessing Lab ID: CRIM13, Video ID: 1592386054\nProcessing Lab ID: CRIM13, Video ID: 1695807459\nProcessing Lab ID: CRIM13, Video ID: 1733903958\nProcessing Lab ID: CRIM13, Video ID: 1763467574\nProcessing Lab ID: CRIM13, Video ID: 1836572955\nProcessing Lab ID: CRIM13, Video ID: 1846302042\nProcessing Lab ID: CRIM13, Video ID: 1976539996\nProcessing Lab ID: CRIM13, Video ID: 2134094751\nProcessing Lab ID: CalMS21_supplemental, Video ID: 17308182\nProcessing Lab ID: CalMS21_supplemental, Video ID: 29204526\nProcessing Lab ID: CalMS21_supplemental, Video ID: 29829833\nProcessing Lab ID: CalMS21_supplemental, Video ID: 31444359\nProcessing Lab ID: CalMS21_supplemental, Video ID: 35021334\nProcessing Lab ID: CalMS21_supplemental, Video ID: 40742782\nProcessing Lab ID: CalMS21_supplemental, Video ID: 40750804\nProcessing Lab ID: CalMS21_supplemental, Video ID: 42319786\nProcessing Lab ID: CalMS21_supplemental, Video ID: 48387399\nProcessing Lab ID: CalMS21_supplemental, Video ID: 52039908\nProcessing Lab ID: CalMS21_supplemental, Video ID: 54306566\nProcessing Lab ID: CalMS21_supplemental, Video ID: 56352203\nProcessing Lab ID: CalMS21_supplemental, Video ID: 64642705\nProcessing Lab ID: CalMS21_supplemental, Video ID: 72488788\nProcessing Lab ID: CalMS21_supplemental, Video ID: 74402262\nProcessing Lab ID: CalMS21_supplemental, Video ID: 93380531\nProcessing Lab ID: CalMS21_supplemental, Video ID: 109675929\nProcessing Lab ID: CalMS21_supplemental, Video ID: 110342188\nProcessing Lab ID: CalMS21_supplemental, Video ID: 119456810\nProcessing Lab ID: CalMS21_supplemental, Video ID: 121783441\nProcessing Lab ID: CalMS21_supplemental, Video ID: 129371066\nProcessing Lab ID: CalMS21_supplemental, Video ID: 139083951\nProcessing Lab ID: CalMS21_supplemental, Video ID: 158696718\nProcessing Lab ID: CalMS21_supplemental, Video ID: 162065037\nProcessing Lab ID: CalMS21_supplemental, Video ID: 162657728\nProcessing Lab ID: CalMS21_supplemental, Video ID: 163541934\nProcessing Lab ID: CalMS21_supplemental, Video ID: 165039922\nProcessing Lab ID: CalMS21_supplemental, Video ID: 176648153\nProcessing Lab ID: CalMS21_supplemental, Video ID: 182143115\nProcessing Lab ID: CalMS21_supplemental, Video ID: 199044781\nProcessing Lab ID: CalMS21_supplemental, Video ID: 204814054\nProcessing Lab ID: CalMS21_supplemental, Video ID: 206411405\nProcessing Lab ID: CalMS21_supplemental, Video ID: 211473435\nProcessing Lab ID: CalMS21_supplemental, Video ID: 229613936\nProcessing Lab ID: CalMS21_supplemental, Video ID: 247581397\nProcessing Lab ID: CalMS21_supplemental, Video ID: 257443481\nProcessing Lab ID: CalMS21_supplemental, Video ID: 270605934\nProcessing Lab ID: CalMS21_supplemental, Video ID: 283078835\nProcessing Lab ID: CalMS21_supplemental, Video ID: 287957149\nProcessing Lab ID: CalMS21_supplemental, Video ID: 292722123\nProcessing Lab ID: CalMS21_supplemental, Video ID: 293032904\nProcessing Lab ID: CalMS21_supplemental, Video ID: 293971737\nProcessing Lab ID: CalMS21_supplemental, Video ID: 298840331\nProcessing Lab ID: CalMS21_supplemental, Video ID: 304455631\nProcessing Lab ID: CalMS21_supplemental, Video ID: 311944917\nProcessing Lab ID: CalMS21_supplemental, Video ID: 318716558\nProcessing Lab ID: CalMS21_supplemental, Video ID: 320652992\nProcessing Lab ID: CalMS21_supplemental, Video ID: 321538526\nProcessing Lab ID: CalMS21_supplemental, Video ID: 324704866\nProcessing Lab ID: CalMS21_supplemental, Video ID: 352625654\nProcessing Lab ID: CalMS21_supplemental, Video ID: 358516464\nProcessing Lab ID: CalMS21_supplemental, Video ID: 379027684\nProcessing Lab ID: CalMS21_supplemental, Video ID: 379641005\nProcessing Lab ID: CalMS21_supplemental, Video ID: 397643142\nProcessing Lab ID: CalMS21_supplemental, Video ID: 398952794\nProcessing Lab ID: CalMS21_supplemental, Video ID: 416793024\nProcessing Lab ID: CalMS21_supplemental, Video ID: 419242179\nProcessing Lab ID: CalMS21_supplemental, Video ID: 423087515\nProcessing Lab ID: CalMS21_supplemental, Video ID: 427319973\nProcessing Lab ID: CalMS21_supplemental, Video ID: 427774009\nProcessing Lab ID: CalMS21_supplemental, Video ID: 436212660\nProcessing Lab ID: CalMS21_supplemental, Video ID: 446352765\nProcessing Lab ID: CalMS21_supplemental, Video ID: 452068803\nProcessing Lab ID: CalMS21_supplemental, Video ID: 455337890\nProcessing Lab ID: CalMS21_supplemental, Video ID: 456109830\nProcessing Lab ID: CalMS21_supplemental, Video ID: 461440057\nProcessing Lab ID: CalMS21_supplemental, Video ID: 467701507\nProcessing Lab ID: CalMS21_supplemental, Video ID: 495791948\nProcessing Lab ID: CalMS21_supplemental, Video ID: 501836189\nProcessing Lab ID: CalMS21_supplemental, Video ID: 502201747\nProcessing Lab ID: CalMS21_supplemental, Video ID: 506737762\nProcessing Lab ID: CalMS21_supplemental, Video ID: 512573715\nProcessing Lab ID: CalMS21_supplemental, Video ID: 518945549\nProcessing Lab ID: CalMS21_supplemental, Video ID: 518985954\nProcessing Lab ID: CalMS21_supplemental, Video ID: 522883468\nProcessing Lab ID: CalMS21_supplemental, Video ID: 531583938\nProcessing Lab ID: CalMS21_supplemental, Video ID: 531669534\nProcessing Lab ID: CalMS21_supplemental, Video ID: 537555916\nProcessing Lab ID: CalMS21_supplemental, Video ID: 543628016\nProcessing Lab ID: CalMS21_supplemental, Video ID: 544047008\nProcessing Lab ID: CalMS21_supplemental, Video ID: 550605327\nProcessing Lab ID: CalMS21_supplemental, Video ID: 552808855\nProcessing Lab ID: CalMS21_supplemental, Video ID: 553713693\nProcessing Lab ID: CalMS21_supplemental, Video ID: 560149373\nProcessing Lab ID: CalMS21_supplemental, Video ID: 564614304\nProcessing Lab ID: CalMS21_supplemental, Video ID: 566896495\nProcessing Lab ID: CalMS21_supplemental, Video ID: 571702992\nProcessing Lab ID: CalMS21_supplemental, Video ID: 577041568\nProcessing Lab ID: CalMS21_supplemental, Video ID: 583997490\nProcessing Lab ID: CalMS21_supplemental, Video ID: 591324785\nProcessing Lab ID: CalMS21_supplemental, Video ID: 598974879\nProcessing Lab ID: CalMS21_supplemental, Video ID: 605925180\nProcessing Lab ID: CalMS21_supplemental, Video ID: 616524351\nProcessing Lab ID: CalMS21_supplemental, Video ID: 629313314\nProcessing Lab ID: CalMS21_supplemental, Video ID: 650064423\nProcessing Lab ID: CalMS21_supplemental, Video ID: 659029417\nProcessing Lab ID: CalMS21_supplemental, Video ID: 672951482\nProcessing Lab ID: CalMS21_supplemental, Video ID: 680884492\nProcessing Lab ID: CalMS21_supplemental, Video ID: 685535880\nProcessing Lab ID: CalMS21_supplemental, Video ID: 695462600\nProcessing Lab ID: CalMS21_supplemental, Video ID: 708536757\nProcessing Lab ID: CalMS21_supplemental, Video ID: 716655035\nProcessing Lab ID: CalMS21_supplemental, Video ID: 720733765\nProcessing Lab ID: CalMS21_supplemental, Video ID: 729100934\nProcessing Lab ID: CalMS21_supplemental, Video ID: 736444046\nProcessing Lab ID: CalMS21_supplemental, Video ID: 737848535\nProcessing Lab ID: CalMS21_supplemental, Video ID: 748397509\nProcessing Lab ID: CalMS21_supplemental, Video ID: 751868515\nProcessing Lab ID: CalMS21_supplemental, Video ID: 761253861\nProcessing Lab ID: CalMS21_supplemental, Video ID: 763575760\nProcessing Lab ID: CalMS21_supplemental, Video ID: 766946181\nProcessing Lab ID: CalMS21_supplemental, Video ID: 767129341\nProcessing Lab ID: CalMS21_supplemental, Video ID: 771126279\nProcessing Lab ID: CalMS21_supplemental, Video ID: 777923084\nProcessing Lab ID: CalMS21_supplemental, Video ID: 778173181\nProcessing Lab ID: CalMS21_supplemental, Video ID: 783482595\nProcessing Lab ID: CalMS21_supplemental, Video ID: 811059680\nProcessing Lab ID: CalMS21_supplemental, Video ID: 812315940\nProcessing Lab ID: CalMS21_supplemental, Video ID: 818194272\nProcessing Lab ID: CalMS21_supplemental, Video ID: 826874848\nProcessing Lab ID: CalMS21_supplemental, Video ID: 859466703\nProcessing Lab ID: CalMS21_supplemental, Video ID: 861175984\nProcessing Lab ID: CalMS21_supplemental, Video ID: 867664247\nProcessing Lab ID: CalMS21_supplemental, Video ID: 868794783\nProcessing Lab ID: CalMS21_supplemental, Video ID: 878542442\nProcessing Lab ID: CalMS21_supplemental, Video ID: 880329423\nProcessing Lab ID: CalMS21_supplemental, Video ID: 888737494\nProcessing Lab ID: CalMS21_supplemental, Video ID: 889801833\nProcessing Lab ID: CalMS21_supplemental, Video ID: 892931209\nProcessing Lab ID: CalMS21_supplemental, Video ID: 895050858\nProcessing Lab ID: CalMS21_supplemental, Video ID: 898612783\nProcessing Lab ID: CalMS21_supplemental, Video ID: 906511432\nProcessing Lab ID: CalMS21_supplemental, Video ID: 918178571\nProcessing Lab ID: CalMS21_supplemental, Video ID: 947901691\nProcessing Lab ID: CalMS21_supplemental, Video ID: 950513978\nProcessing Lab ID: CalMS21_supplemental, Video ID: 950827076\nProcessing Lab ID: CalMS21_supplemental, Video ID: 961477544\nProcessing Lab ID: CalMS21_supplemental, Video ID: 961918556\nProcessing Lab ID: CalMS21_supplemental, Video ID: 973541620\nProcessing Lab ID: CalMS21_supplemental, Video ID: 979756439\nProcessing Lab ID: CalMS21_supplemental, Video ID: 986093463\nProcessing Lab ID: CalMS21_supplemental, Video ID: 996373370\nProcessing Lab ID: CalMS21_supplemental, Video ID: 997548234\nProcessing Lab ID: CalMS21_supplemental, Video ID: 1006083669\nProcessing Lab ID: CalMS21_supplemental, Video ID: 1012566686\nProcessing Lab ID: CalMS21_supplemental, Video ID: 1012566850\nProcessing Lab ID: CalMS21_supplemental, Video ID: 1013428301\nProcessing Lab ID: CalMS21_supplemental, Video ID: 1014350333\nProcessing Lab ID: CalMS21_supplemental, Video ID: 1015291592\nProcessing Lab ID: CalMS21_supplemental, Video ID: 1017236040\nProcessing Lab ID: CalMS21_supplemental, Video ID: 1019240807\nProcessing Lab ID: CalMS21_supplemental, Video ID: 1032773418\nProcessing Lab ID: CalMS21_supplemental, Video ID: 1039672228\nProcessing Lab ID: CalMS21_supplemental, Video ID: 1047608795\nProcessing Lab ID: CalMS21_supplemental, Video ID: 1082445110\nProcessing Lab ID: CalMS21_supplemental, Video ID: 1085810295\nProcessing Lab ID: CalMS21_supplemental, Video ID: 1088021251\nProcessing Lab ID: CalMS21_supplemental, Video ID: 1092798869\nProcessing Lab ID: CalMS21_supplemental, Video ID: 1094348590\nProcessing Lab ID: CalMS21_supplemental, Video ID: 1105042798\nProcessing Lab ID: CalMS21_supplemental, Video ID: 1110611032\nProcessing Lab ID: CalMS21_supplemental, Video ID: 1116444590\nProcessing Lab ID: CalMS21_supplemental, Video ID: 1132476818\nProcessing Lab ID: CalMS21_supplemental, Video ID: 1133807709\nProcessing Lab ID: CalMS21_supplemental, Video ID: 1138789923\nProcessing Lab ID: CalMS21_supplemental, Video ID: 1142036064\nProcessing Lab ID: CalMS21_supplemental, Video ID: 1149399074\nProcessing Lab ID: CalMS21_supplemental, Video ID: 1158341062\nProcessing Lab ID: CalMS21_supplemental, Video ID: 1161382388\nProcessing Lab ID: CalMS21_supplemental, Video ID: 1161513440\nProcessing Lab ID: CalMS21_supplemental, Video ID: 1180251359\nProcessing Lab ID: CalMS21_supplemental, Video ID: 1185620508\nProcessing Lab ID: CalMS21_supplemental, Video ID: 1197353862\nProcessing Lab ID: CalMS21_supplemental, Video ID: 1207553838\nProcessing Lab ID: CalMS21_supplemental, Video ID: 1231968667\nProcessing Lab ID: CalMS21_supplemental, Video ID: 1267508818\nProcessing Lab ID: CalMS21_supplemental, Video ID: 1272568731\nProcessing Lab ID: CalMS21_supplemental, Video ID: 1272974030\nProcessing Lab ID: CalMS21_supplemental, Video ID: 1277377564\nProcessing Lab ID: CalMS21_supplemental, Video ID: 1278319432\nProcessing Lab ID: CalMS21_supplemental, Video ID: 1293027619\nProcessing Lab ID: CalMS21_supplemental, Video ID: 1301288495\nProcessing Lab ID: CalMS21_supplemental, Video ID: 1320201420\nProcessing Lab ID: CalMS21_supplemental, Video ID: 1327458782\nProcessing Lab ID: CalMS21_supplemental, Video ID: 1349102959\nProcessing Lab ID: CalMS21_supplemental, Video ID: 1356723283\nProcessing Lab ID: CalMS21_supplemental, Video ID: 1357765938\nProcessing Lab ID: CalMS21_supplemental, Video ID: 1362255317\nProcessing Lab ID: CalMS21_supplemental, Video ID: 1369858702\nProcessing Lab ID: CalMS21_supplemental, Video ID: 1383011506\nProcessing Lab ID: CalMS21_supplemental, Video ID: 1390249533\nProcessing Lab ID: CalMS21_supplemental, Video ID: 1411405064\nProcessing Lab ID: CalMS21_supplemental, Video ID: 1431927054\nProcessing Lab ID: CalMS21_supplemental, Video ID: 1432635091\nProcessing Lab ID: CalMS21_supplemental, Video ID: 1433266993\nProcessing Lab ID: CalMS21_supplemental, Video ID: 1442492479\nProcessing Lab ID: CalMS21_supplemental, Video ID: 1450277210\nProcessing Lab ID: CalMS21_supplemental, Video ID: 1458368239\nProcessing Lab ID: CalMS21_supplemental, Video ID: 1465225735\nProcessing Lab ID: CalMS21_supplemental, Video ID: 1465845118\nProcessing Lab ID: CalMS21_supplemental, Video ID: 1474034537\nProcessing Lab ID: CalMS21_supplemental, Video ID: 1480402902\nProcessing Lab ID: CalMS21_supplemental, Video ID: 1491960718\nProcessing Lab ID: CalMS21_supplemental, Video ID: 1498476778\nProcessing Lab ID: CalMS21_supplemental, Video ID: 1500887132\nProcessing Lab ID: CalMS21_supplemental, Video ID: 1501429415\nProcessing Lab ID: CalMS21_supplemental, Video ID: 1505228483\nProcessing Lab ID: CalMS21_supplemental, Video ID: 1508568688\nProcessing Lab ID: CalMS21_supplemental, Video ID: 1512101591\nProcessing Lab ID: CalMS21_supplemental, Video ID: 1516524771\nProcessing Lab ID: CalMS21_supplemental, Video ID: 1520746939\nProcessing Lab ID: CalMS21_supplemental, Video ID: 1523817911\nProcessing Lab ID: CalMS21_supplemental, Video ID: 1525217575\nProcessing Lab ID: CalMS21_supplemental, Video ID: 1531311092\nProcessing Lab ID: CalMS21_supplemental, Video ID: 1536671381\nProcessing Lab ID: CalMS21_supplemental, Video ID: 1542354568\nProcessing Lab ID: CalMS21_supplemental, Video ID: 1543288869\nProcessing Lab ID: CalMS21_supplemental, Video ID: 1573791367\nProcessing Lab ID: CalMS21_supplemental, Video ID: 1576527395\nProcessing Lab ID: CalMS21_supplemental, Video ID: 1580520873\nProcessing Lab ID: CalMS21_supplemental, Video ID: 1591554758\nProcessing Lab ID: CalMS21_supplemental, Video ID: 1591747692\nProcessing Lab ID: CalMS21_supplemental, Video ID: 1591757847\nProcessing Lab ID: CalMS21_supplemental, Video ID: 1600524631\nProcessing Lab ID: CalMS21_supplemental, Video ID: 1602849635\nProcessing Lab ID: CalMS21_supplemental, Video ID: 1622496449\nProcessing Lab ID: CalMS21_supplemental, Video ID: 1630924702\nProcessing Lab ID: CalMS21_supplemental, Video ID: 1639493039\nProcessing Lab ID: CalMS21_supplemental, Video ID: 1639810716\nProcessing Lab ID: CalMS21_supplemental, Video ID: 1644423633\nProcessing Lab ID: CalMS21_supplemental, Video ID: 1652683860\nProcessing Lab ID: CalMS21_supplemental, Video ID: 1658817801\nProcessing Lab ID: CalMS21_supplemental, Video ID: 1675950633\nProcessing Lab ID: CalMS21_supplemental, Video ID: 1683673468\nProcessing Lab ID: CalMS21_supplemental, Video ID: 1691279417\nProcessing Lab ID: CalMS21_supplemental, Video ID: 1691760122\nProcessing Lab ID: CalMS21_supplemental, Video ID: 1692251795\nProcessing Lab ID: CalMS21_supplemental, Video ID: 1695342547\nProcessing Lab ID: CalMS21_supplemental, Video ID: 1695348554\nProcessing Lab ID: CalMS21_supplemental, Video ID: 1703310497\nProcessing Lab ID: CalMS21_supplemental, Video ID: 1706585169\nProcessing Lab ID: CalMS21_supplemental, Video ID: 1724547877\nProcessing Lab ID: CalMS21_supplemental, Video ID: 1727431909\nProcessing Lab ID: CalMS21_supplemental, Video ID: 1729232290\nProcessing Lab ID: CalMS21_supplemental, Video ID: 1733995999\nProcessing Lab ID: CalMS21_supplemental, Video ID: 1741457167\nProcessing Lab ID: CalMS21_supplemental, Video ID: 1743317707\nProcessing Lab ID: CalMS21_supplemental, Video ID: 1744212563\nProcessing Lab ID: CalMS21_supplemental, Video ID: 1761366259\nProcessing Lab ID: CalMS21_supplemental, Video ID: 1771120435\nProcessing Lab ID: CalMS21_supplemental, Video ID: 1774554697\nProcessing Lab ID: CalMS21_supplemental, Video ID: 1776748589\nProcessing Lab ID: CalMS21_supplemental, Video ID: 1788436101\nProcessing Lab ID: CalMS21_supplemental, Video ID: 1821740904\nProcessing Lab ID: CalMS21_supplemental, Video ID: 1828414810\nProcessing Lab ID: CalMS21_supplemental, Video ID: 1830370330\nProcessing Lab ID: CalMS21_supplemental, Video ID: 1831993765\nProcessing Lab ID: CalMS21_supplemental, Video ID: 1853523159\nProcessing Lab ID: CalMS21_supplemental, Video ID: 1865009668\nProcessing Lab ID: CalMS21_supplemental, Video ID: 1869967336\nProcessing Lab ID: CalMS21_supplemental, Video ID: 1870526030\nProcessing Lab ID: CalMS21_supplemental, Video ID: 1872766812\nProcessing Lab ID: CalMS21_supplemental, Video ID: 1875246754\nProcessing Lab ID: CalMS21_supplemental, Video ID: 1881725588\nProcessing Lab ID: CalMS21_supplemental, Video ID: 1887057159\nProcessing Lab ID: CalMS21_supplemental, Video ID: 1887340589\nProcessing Lab ID: CalMS21_supplemental, Video ID: 1900472420\nProcessing Lab ID: CalMS21_supplemental, Video ID: 1907533650\nProcessing Lab ID: CalMS21_supplemental, Video ID: 1910565976\nProcessing Lab ID: CalMS21_supplemental, Video ID: 1914240174\nProcessing Lab ID: CalMS21_supplemental, Video ID: 1915789767\nProcessing Lab ID: CalMS21_supplemental, Video ID: 1917012134\nProcessing Lab ID: CalMS21_supplemental, Video ID: 1952344815\nProcessing Lab ID: CalMS21_supplemental, Video ID: 1954031391\nProcessing Lab ID: CalMS21_supplemental, Video ID: 1962858066\nProcessing Lab ID: CalMS21_supplemental, Video ID: 1970018431\nProcessing Lab ID: CalMS21_supplemental, Video ID: 1980223276\nProcessing Lab ID: CalMS21_supplemental, Video ID: 1984570060\nProcessing Lab ID: CalMS21_supplemental, Video ID: 1988640923\nProcessing Lab ID: CalMS21_supplemental, Video ID: 1991863389\nProcessing Lab ID: CalMS21_supplemental, Video ID: 2010437126\nProcessing Lab ID: CalMS21_supplemental, Video ID: 2017225429\nProcessing Lab ID: CalMS21_supplemental, Video ID: 2030380897\nProcessing Lab ID: CalMS21_supplemental, Video ID: 2032102979\nProcessing Lab ID: CalMS21_supplemental, Video ID: 2034534324\nProcessing Lab ID: CalMS21_supplemental, Video ID: 2050459549\nProcessing Lab ID: CalMS21_supplemental, Video ID: 2057608448\nProcessing Lab ID: CalMS21_supplemental, Video ID: 2071350962\nProcessing Lab ID: CalMS21_supplemental, Video ID: 2084840600\nProcessing Lab ID: CalMS21_supplemental, Video ID: 2103676486\nProcessing Lab ID: CalMS21_supplemental, Video ID: 2109429295\nProcessing Lab ID: CalMS21_supplemental, Video ID: 2118799217\nProcessing Lab ID: CalMS21_supplemental, Video ID: 2121861703\nProcessing Lab ID: CalMS21_supplemental, Video ID: 2122787540\nProcessing Lab ID: CalMS21_supplemental, Video ID: 2131370806\nProcessing Lab ID: CalMS21_supplemental, Video ID: 2137179735\nProcessing Lab ID: CalMS21_supplemental, Video ID: 2143302778\nProcessing Lab ID: CalMS21_task1, Video ID: 13638642\nProcessing Lab ID: CalMS21_task1, Video ID: 25423023\nProcessing Lab ID: CalMS21_task1, Video ID: 25577048\nProcessing Lab ID: CalMS21_task1, Video ID: 25669938\nProcessing Lab ID: CalMS21_task1, Video ID: 33033070\nProcessing Lab ID: CalMS21_task1, Video ID: 54612937\nProcessing Lab ID: CalMS21_task1, Video ID: 87423842\nProcessing Lab ID: CalMS21_task1, Video ID: 99618595\nProcessing Lab ID: CalMS21_task1, Video ID: 169344990\nProcessing Lab ID: CalMS21_task1, Video ID: 185446354\nProcessing Lab ID: CalMS21_task1, Video ID: 190981840\nProcessing Lab ID: CalMS21_task1, Video ID: 208838060\nProcessing Lab ID: CalMS21_task1, Video ID: 231670784\nProcessing Lab ID: CalMS21_task1, Video ID: 318982414\nProcessing Lab ID: CalMS21_task1, Video ID: 400134184\nProcessing Lab ID: CalMS21_task1, Video ID: 419458058\nProcessing Lab ID: CalMS21_task1, Video ID: 427469519\nProcessing Lab ID: CalMS21_task1, Video ID: 450233985\nProcessing Lab ID: CalMS21_task1, Video ID: 450676531\nProcessing Lab ID: CalMS21_task1, Video ID: 464367887\nProcessing Lab ID: CalMS21_task1, Video ID: 467856973\nProcessing Lab ID: CalMS21_task1, Video ID: 470631683\nProcessing Lab ID: CalMS21_task1, Video ID: 537514760\nProcessing Lab ID: CalMS21_task1, Video ID: 539221220\nProcessing Lab ID: CalMS21_task1, Video ID: 549419715\nProcessing Lab ID: CalMS21_task1, Video ID: 628121881\nProcessing Lab ID: CalMS21_task1, Video ID: 654571905\nProcessing Lab ID: CalMS21_task1, Video ID: 662173177\nProcessing Lab ID: CalMS21_task1, Video ID: 682003698\nProcessing Lab ID: CalMS21_task1, Video ID: 687327340\nProcessing Lab ID: CalMS21_task1, Video ID: 733722340\nProcessing Lab ID: CalMS21_task1, Video ID: 750259043\nProcessing Lab ID: CalMS21_task1, Video ID: 764294971\nProcessing Lab ID: CalMS21_task1, Video ID: 788202056\nProcessing Lab ID: CalMS21_task1, Video ID: 792632641\nProcessing Lab ID: CalMS21_task1, Video ID: 809307360\nProcessing Lab ID: CalMS21_task1, Video ID: 821672987\nProcessing Lab ID: CalMS21_task1, Video ID: 825457879\nProcessing Lab ID: CalMS21_task1, Video ID: 856403727\nProcessing Lab ID: CalMS21_task1, Video ID: 859139568\nProcessing Lab ID: CalMS21_task1, Video ID: 865512963\nProcessing Lab ID: CalMS21_task1, Video ID: 867864385\nProcessing Lab ID: CalMS21_task1, Video ID: 869452571\nProcessing Lab ID: CalMS21_task1, Video ID: 877503292\nProcessing Lab ID: CalMS21_task1, Video ID: 898785933\nProcessing Lab ID: CalMS21_task1, Video ID: 955650256\nProcessing Lab ID: CalMS21_task1, Video ID: 962144409\nProcessing Lab ID: CalMS21_task1, Video ID: 971638641\nProcessing Lab ID: CalMS21_task1, Video ID: 987747695\nProcessing Lab ID: CalMS21_task1, Video ID: 1011533560\nProcessing Lab ID: CalMS21_task1, Video ID: 1036913557\nProcessing Lab ID: CalMS21_task1, Video ID: 1062887364\nProcessing Lab ID: CalMS21_task1, Video ID: 1087101060\nProcessing Lab ID: CalMS21_task1, Video ID: 1089428234\nProcessing Lab ID: CalMS21_task1, Video ID: 1094966159\nProcessing Lab ID: CalMS21_task1, Video ID: 1104241687\nProcessing Lab ID: CalMS21_task1, Video ID: 1184726818\nProcessing Lab ID: CalMS21_task1, Video ID: 1185502231\nProcessing Lab ID: CalMS21_task1, Video ID: 1236987558\nProcessing Lab ID: CalMS21_task1, Video ID: 1254792963\nProcessing Lab ID: CalMS21_task1, Video ID: 1283267722\nProcessing Lab ID: CalMS21_task1, Video ID: 1296577409\nProcessing Lab ID: CalMS21_task1, Video ID: 1311447023\nProcessing Lab ID: CalMS21_task1, Video ID: 1343953527\nProcessing Lab ID: CalMS21_task1, Video ID: 1377260232\nProcessing Lab ID: CalMS21_task1, Video ID: 1380404564\nProcessing Lab ID: CalMS21_task1, Video ID: 1391057636\nProcessing Lab ID: CalMS21_task1, Video ID: 1396235717\nProcessing Lab ID: CalMS21_task1, Video ID: 1401472494\nProcessing Lab ID: CalMS21_task1, Video ID: 1476380868\nProcessing Lab ID: CalMS21_task1, Video ID: 1495692909\nProcessing Lab ID: CalMS21_task1, Video ID: 1520739403\nProcessing Lab ID: CalMS21_task1, Video ID: 1522870122\nProcessing Lab ID: CalMS21_task1, Video ID: 1529875185\nProcessing Lab ID: CalMS21_task1, Video ID: 1561765718\nProcessing Lab ID: CalMS21_task1, Video ID: 1578732722\nProcessing Lab ID: CalMS21_task1, Video ID: 1640847308\nProcessing Lab ID: CalMS21_task1, Video ID: 1682584277\nProcessing Lab ID: CalMS21_task1, Video ID: 1694258334\nProcessing Lab ID: CalMS21_task1, Video ID: 1715161851\nProcessing Lab ID: CalMS21_task1, Video ID: 1733083885\nProcessing Lab ID: CalMS21_task1, Video ID: 1767632325\nProcessing Lab ID: CalMS21_task1, Video ID: 1784646165\nProcessing Lab ID: CalMS21_task1, Video ID: 1817903677\nProcessing Lab ID: CalMS21_task1, Video ID: 1842114740\nProcessing Lab ID: CalMS21_task1, Video ID: 1852189475\nProcessing Lab ID: CalMS21_task1, Video ID: 1860623663\nProcessing Lab ID: CalMS21_task1, Video ID: 1865519837\nProcessing Lab ID: CalMS21_task1, Video ID: 1885047067\nProcessing Lab ID: CalMS21_task1, Video ID: 1937966765\nProcessing Lab ID: CalMS21_task1, Video ID: 1987318234\nProcessing Lab ID: CalMS21_task1, Video ID: 1993867941\nProcessing Lab ID: CalMS21_task1, Video ID: 1999186993\nProcessing Lab ID: CalMS21_task1, Video ID: 2006954681\nProcessing Lab ID: CalMS21_task1, Video ID: 2007101618\nProcessing Lab ID: CalMS21_task1, Video ID: 2021710297\nProcessing Lab ID: CalMS21_task1, Video ID: 2032350850\nProcessing Lab ID: CalMS21_task1, Video ID: 2097395874\nProcessing Lab ID: CalMS21_task1, Video ID: 2123026052\nProcessing Lab ID: CalMS21_task1, Video ID: 2126266703\nProcessing Lab ID: CalMS21_task1, Video ID: 2133981046\nProcessing Lab ID: CalMS21_task2, Video ID: 26836610\nProcessing Lab ID: CalMS21_task2, Video ID: 34560832\nProcessing Lab ID: CalMS21_task2, Video ID: 67749291\nProcessing Lab ID: CalMS21_task2, Video ID: 117097929\nProcessing Lab ID: CalMS21_task2, Video ID: 129168695\nProcessing Lab ID: CalMS21_task2, Video ID: 137835184\nProcessing Lab ID: CalMS21_task2, Video ID: 175235394\nProcessing Lab ID: CalMS21_task2, Video ID: 176005687\nProcessing Lab ID: CalMS21_task2, Video ID: 199610164\nProcessing Lab ID: CalMS21_task2, Video ID: 206431495\nProcessing Lab ID: CalMS21_task2, Video ID: 229268900\nProcessing Lab ID: CalMS21_task2, Video ID: 263221825\nProcessing Lab ID: CalMS21_task2, Video ID: 286946533\nProcessing Lab ID: CalMS21_task2, Video ID: 290877417\nProcessing Lab ID: CalMS21_task2, Video ID: 294892687\nProcessing Lab ID: CalMS21_task2, Video ID: 297098028\nProcessing Lab ID: CalMS21_task2, Video ID: 297176528\nProcessing Lab ID: CalMS21_task2, Video ID: 305930325\nProcessing Lab ID: CalMS21_task2, Video ID: 324868794\nProcessing Lab ID: CalMS21_task2, Video ID: 396826388\nProcessing Lab ID: CalMS21_task2, Video ID: 455201807\nProcessing Lab ID: CalMS21_task2, Video ID: 524641856\nProcessing Lab ID: CalMS21_task2, Video ID: 539518379\nProcessing Lab ID: CalMS21_task2, Video ID: 609602822\nProcessing Lab ID: CalMS21_task2, Video ID: 613882002\nProcessing Lab ID: CalMS21_task2, Video ID: 618202345\nProcessing Lab ID: CalMS21_task2, Video ID: 622818514\nProcessing Lab ID: CalMS21_task2, Video ID: 627571315\nProcessing Lab ID: CalMS21_task2, Video ID: 657847695\nProcessing Lab ID: CalMS21_task2, Video ID: 712270439\nProcessing Lab ID: CalMS21_task2, Video ID: 730848288\nProcessing Lab ID: CalMS21_task2, Video ID: 735992493\nProcessing Lab ID: CalMS21_task2, Video ID: 906875003\nProcessing Lab ID: CalMS21_task2, Video ID: 907132469\nProcessing Lab ID: CalMS21_task2, Video ID: 921231021\nProcessing Lab ID: CalMS21_task2, Video ID: 943404911\nProcessing Lab ID: CalMS21_task2, Video ID: 989586153\nProcessing Lab ID: CalMS21_task2, Video ID: 1025257155\nProcessing Lab ID: CalMS21_task2, Video ID: 1071207417\nProcessing Lab ID: CalMS21_task2, Video ID: 1095059853\nProcessing Lab ID: CalMS21_task2, Video ID: 1121857128\nProcessing Lab ID: CalMS21_task2, Video ID: 1155324226\nProcessing Lab ID: CalMS21_task2, Video ID: 1187380328\nProcessing Lab ID: CalMS21_task2, Video ID: 1192622510\nProcessing Lab ID: CalMS21_task2, Video ID: 1194961658\nProcessing Lab ID: CalMS21_task2, Video ID: 1202353959\nProcessing Lab ID: CalMS21_task2, Video ID: 1209045098\nProcessing Lab ID: CalMS21_task2, Video ID: 1283628392\nProcessing Lab ID: CalMS21_task2, Video ID: 1301095525\nProcessing Lab ID: CalMS21_task2, Video ID: 1316696698\nProcessing Lab ID: CalMS21_task2, Video ID: 1408282896\nProcessing Lab ID: CalMS21_task2, Video ID: 1455057679\nProcessing Lab ID: CalMS21_task2, Video ID: 1456488399\nProcessing Lab ID: CalMS21_task2, Video ID: 1475799007\nProcessing Lab ID: CalMS21_task2, Video ID: 1487348488\nProcessing Lab ID: CalMS21_task2, Video ID: 1603961707\nProcessing Lab ID: CalMS21_task2, Video ID: 1635298045\nProcessing Lab ID: CalMS21_task2, Video ID: 1646053367\nProcessing Lab ID: CalMS21_task2, Video ID: 1647072290\nProcessing Lab ID: CalMS21_task2, Video ID: 1680784615\nProcessing Lab ID: CalMS21_task2, Video ID: 1756586174\nProcessing Lab ID: CalMS21_task2, Video ID: 1766041275\nProcessing Lab ID: CalMS21_task2, Video ID: 1787046396\nProcessing Lab ID: CalMS21_task2, Video ID: 1901912694\nProcessing Lab ID: CalMS21_task2, Video ID: 1905980365\nProcessing Lab ID: CalMS21_task2, Video ID: 1908605640\nProcessing Lab ID: CalMS21_task2, Video ID: 1922635260\nProcessing Lab ID: CalMS21_task2, Video ID: 1949495306\nProcessing Lab ID: CalMS21_task2, Video ID: 1953275364\nProcessing Lab ID: CalMS21_task2, Video ID: 1969815584\nProcessing Lab ID: CalMS21_task2, Video ID: 2002724229\nProcessing Lab ID: CalMS21_task2, Video ID: 2003281752\nProcessing Lab ID: CalMS21_task2, Video ID: 2059639528\nProcessing Lab ID: CalMS21_task2, Video ID: 2064198212\nProcessing Lab ID: CalMS21_task2, Video ID: 2085007371\nProcessing Lab ID: CalMS21_task2, Video ID: 2126514887\nProcessing Lab ID: CautiousGiraffe, Video ID: 21954203\nProcessing Lab ID: CautiousGiraffe, Video ID: 265592701\nProcessing Lab ID: CautiousGiraffe, Video ID: 531143932\nProcessing Lab ID: CautiousGiraffe, Video ID: 673614042\nProcessing Lab ID: CautiousGiraffe, Video ID: 684541933\nProcessing Lab ID: CautiousGiraffe, Video ID: 956938805\nProcessing Lab ID: CautiousGiraffe, Video ID: 1341883680\nProcessing Lab ID: CautiousGiraffe, Video ID: 1539773935\nProcessing Lab ID: CautiousGiraffe, Video ID: 1657896715\nProcessing Lab ID: CautiousGiraffe, Video ID: 1729143180\nProcessing Lab ID: DeliriousFly, Video ID: 246051591\nProcessing Lab ID: DeliriousFly, Video ID: 342269939\nProcessing Lab ID: DeliriousFly, Video ID: 1378394926\nProcessing Lab ID: DeliriousFly, Video ID: 1549344783\nProcessing Lab ID: DeliriousFly, Video ID: 1649549863\nProcessing Lab ID: DeliriousFly, Video ID: 1894091332\nProcessing Lab ID: ElegantMink, Video ID: 277941336\nProcessing Lab ID: ElegantMink, Video ID: 302673140\nProcessing Lab ID: ElegantMink, Video ID: 464176860\nProcessing Lab ID: ElegantMink, Video ID: 535058450\nProcessing Lab ID: ElegantMink, Video ID: 551378303\nProcessing Lab ID: ElegantMink, Video ID: 653760641\nProcessing Lab ID: ElegantMink, Video ID: 685480647\nProcessing Lab ID: ElegantMink, Video ID: 715350314\nProcessing Lab ID: ElegantMink, Video ID: 833000693\nProcessing Lab ID: ElegantMink, Video ID: 899685019\nProcessing Lab ID: ElegantMink, Video ID: 903467416\nProcessing Lab ID: ElegantMink, Video ID: 1045757672\nProcessing Lab ID: ElegantMink, Video ID: 1176870705\nProcessing Lab ID: ElegantMink, Video ID: 1430254576\nProcessing Lab ID: ElegantMink, Video ID: 1504809717\nProcessing Lab ID: ElegantMink, Video ID: 1512066687\nProcessing Lab ID: ElegantMink, Video ID: 1567994610\nProcessing Lab ID: ElegantMink, Video ID: 1715945836\nProcessing Lab ID: ElegantMink, Video ID: 1989117401\nProcessing Lab ID: GroovyShrew, Video ID: 1550138\nProcessing Lab ID: GroovyShrew, Video ID: 5119542\nProcessing Lab ID: GroovyShrew, Video ID: 502020762\nProcessing Lab ID: GroovyShrew, Video ID: 593750722\nProcessing Lab ID: GroovyShrew, Video ID: 768075914\nProcessing Lab ID: GroovyShrew, Video ID: 870599401\nProcessing Lab ID: GroovyShrew, Video ID: 991578442\nProcessing Lab ID: GroovyShrew, Video ID: 1057262087\nProcessing Lab ID: GroovyShrew, Video ID: 1118505887\nProcessing Lab ID: GroovyShrew, Video ID: 1194163628\nProcessing Lab ID: GroovyShrew, Video ID: 1205169652\nProcessing Lab ID: GroovyShrew, Video ID: 1239537257\nProcessing Lab ID: GroovyShrew, Video ID: 1582689575\nProcessing Lab ID: GroovyShrew, Video ID: 1864237378\nProcessing Lab ID: GroovyShrew, Video ID: 2090182106\nProcessing Lab ID: GroovyShrew, Video ID: 2101706406\nProcessing Lab ID: GroovyShrew, Video ID: 2114187055\nProcessing Lab ID: InvincibleJellyfish, Video ID: 2161338\nProcessing Lab ID: InvincibleJellyfish, Video ID: 29275550\nProcessing Lab ID: InvincibleJellyfish, Video ID: 53935139\nProcessing Lab ID: InvincibleJellyfish, Video ID: 129177073\nProcessing Lab ID: InvincibleJellyfish, Video ID: 193645959\nProcessing Lab ID: InvincibleJellyfish, Video ID: 262394522\nProcessing Lab ID: InvincibleJellyfish, Video ID: 395110588\nProcessing Lab ID: InvincibleJellyfish, Video ID: 415753207\nProcessing Lab ID: InvincibleJellyfish, Video ID: 620922286\nProcessing Lab ID: InvincibleJellyfish, Video ID: 639121386\nProcessing Lab ID: InvincibleJellyfish, Video ID: 648966646\nProcessing Lab ID: InvincibleJellyfish, Video ID: 764405255\nProcessing Lab ID: InvincibleJellyfish, Video ID: 811519784\nProcessing Lab ID: InvincibleJellyfish, Video ID: 1106234543\nProcessing Lab ID: InvincibleJellyfish, Video ID: 1108562754\nProcessing Lab ID: InvincibleJellyfish, Video ID: 1171931756\nProcessing Lab ID: InvincibleJellyfish, Video ID: 1205744881\nProcessing Lab ID: InvincibleJellyfish, Video ID: 1239915365\nProcessing Lab ID: InvincibleJellyfish, Video ID: 1266015456\nProcessing Lab ID: InvincibleJellyfish, Video ID: 1356022583\nProcessing Lab ID: InvincibleJellyfish, Video ID: 1386249360\nProcessing Lab ID: InvincibleJellyfish, Video ID: 1574549259\nProcessing Lab ID: InvincibleJellyfish, Video ID: 1613426084\nProcessing Lab ID: InvincibleJellyfish, Video ID: 1633648033\nProcessing Lab ID: InvincibleJellyfish, Video ID: 1634074988\nProcessing Lab ID: InvincibleJellyfish, Video ID: 1641568569\nProcessing Lab ID: InvincibleJellyfish, Video ID: 1700300193\nProcessing Lab ID: InvincibleJellyfish, Video ID: 1737795006\nProcessing Lab ID: InvincibleJellyfish, Video ID: 1739671883\nProcessing Lab ID: InvincibleJellyfish, Video ID: 1792494407\nProcessing Lab ID: InvincibleJellyfish, Video ID: 2071866786\nProcessing Lab ID: InvincibleJellyfish, Video ID: 2116375223\nProcessing Lab ID: InvincibleJellyfish, Video ID: 2120950784\nProcessing Lab ID: JovialSwallow, Video ID: 24807360\nProcessing Lab ID: JovialSwallow, Video ID: 67652770\nProcessing Lab ID: JovialSwallow, Video ID: 75620690\nProcessing Lab ID: JovialSwallow, Video ID: 172389446\nProcessing Lab ID: JovialSwallow, Video ID: 197599685\nProcessing Lab ID: JovialSwallow, Video ID: 231479039\nProcessing Lab ID: JovialSwallow, Video ID: 326963499\nProcessing Lab ID: JovialSwallow, Video ID: 383642292\nProcessing Lab ID: JovialSwallow, Video ID: 405720065\nProcessing Lab ID: JovialSwallow, Video ID: 420937257\nProcessing Lab ID: JovialSwallow, Video ID: 498244519\nProcessing Lab ID: JovialSwallow, Video ID: 530737197\nProcessing Lab ID: JovialSwallow, Video ID: 561469522\nProcessing Lab ID: JovialSwallow, Video ID: 600302154\nProcessing Lab ID: JovialSwallow, Video ID: 645933471\nProcessing Lab ID: JovialSwallow, Video ID: 670490764\nProcessing Lab ID: JovialSwallow, Video ID: 689840236\nProcessing Lab ID: JovialSwallow, Video ID: 762151225\nProcessing Lab ID: JovialSwallow, Video ID: 821473511\nProcessing Lab ID: JovialSwallow, Video ID: 822941934\nProcessing Lab ID: JovialSwallow, Video ID: 848229796\nProcessing Lab ID: JovialSwallow, Video ID: 856443471\nProcessing Lab ID: JovialSwallow, Video ID: 867736486\nProcessing Lab ID: JovialSwallow, Video ID: 922188635\nProcessing Lab ID: JovialSwallow, Video ID: 949931556\nProcessing Lab ID: JovialSwallow, Video ID: 962830984\nProcessing Lab ID: JovialSwallow, Video ID: 970336324\nProcessing Lab ID: JovialSwallow, Video ID: 990352516\nProcessing Lab ID: JovialSwallow, Video ID: 992602149\nProcessing Lab ID: JovialSwallow, Video ID: 1096442159\nProcessing Lab ID: JovialSwallow, Video ID: 1098020586\nProcessing Lab ID: JovialSwallow, Video ID: 1164701770\nProcessing Lab ID: JovialSwallow, Video ID: 1212894105\nProcessing Lab ID: JovialSwallow, Video ID: 1231275297\nProcessing Lab ID: JovialSwallow, Video ID: 1337647037\nProcessing Lab ID: JovialSwallow, Video ID: 1350470271\nProcessing Lab ID: JovialSwallow, Video ID: 1395387249\nProcessing Lab ID: JovialSwallow, Video ID: 1436885521\nProcessing Lab ID: JovialSwallow, Video ID: 1446413535\nProcessing Lab ID: JovialSwallow, Video ID: 1494705948\nProcessing Lab ID: JovialSwallow, Video ID: 1558497723\nProcessing Lab ID: JovialSwallow, Video ID: 1562272988\nProcessing Lab ID: JovialSwallow, Video ID: 1738679825\nProcessing Lab ID: JovialSwallow, Video ID: 1774713914\nProcessing Lab ID: JovialSwallow, Video ID: 1808343518\nProcessing Lab ID: JovialSwallow, Video ID: 1842945543\nProcessing Lab ID: JovialSwallow, Video ID: 1938183396\nProcessing Lab ID: JovialSwallow, Video ID: 2046347857\nProcessing Lab ID: JovialSwallow, Video ID: 2052386904\nProcessing Lab ID: JovialSwallow, Video ID: 2062182880\nProcessing Lab ID: JovialSwallow, Video ID: 2104860485\nProcessing Lab ID: JovialSwallow, Video ID: 2121118582\nProcessing Lab ID: LyricalHare, Video ID: 121552177\nProcessing Lab ID: LyricalHare, Video ID: 145951819\nProcessing Lab ID: LyricalHare, Video ID: 200061326\nProcessing Lab ID: LyricalHare, Video ID: 291532073\nProcessing Lab ID: LyricalHare, Video ID: 427791079\nProcessing Lab ID: LyricalHare, Video ID: 472812034\nProcessing Lab ID: LyricalHare, Video ID: 577720259\nProcessing Lab ID: LyricalHare, Video ID: 789316660\nProcessing Lab ID: LyricalHare, Video ID: 835416988\nProcessing Lab ID: LyricalHare, Video ID: 906127418\nProcessing Lab ID: LyricalHare, Video ID: 1023347338\nProcessing Lab ID: LyricalHare, Video ID: 1117939052\nProcessing Lab ID: LyricalHare, Video ID: 1254387004\nProcessing Lab ID: LyricalHare, Video ID: 1300539709\nProcessing Lab ID: LyricalHare, Video ID: 1321123524\nProcessing Lab ID: LyricalHare, Video ID: 1326742968\nProcessing Lab ID: LyricalHare, Video ID: 1383872208\nProcessing Lab ID: LyricalHare, Video ID: 1516355035\nProcessing Lab ID: LyricalHare, Video ID: 1633006253\nProcessing Lab ID: LyricalHare, Video ID: 1675029002\nProcessing Lab ID: LyricalHare, Video ID: 1814043806\nProcessing Lab ID: LyricalHare, Video ID: 1859239379\nProcessing Lab ID: LyricalHare, Video ID: 2054411054\nProcessing Lab ID: LyricalHare, Video ID: 2076865965\nProcessing Lab ID: NiftyGoldfinch, Video ID: 101686631\nProcessing Lab ID: NiftyGoldfinch, Video ID: 425399867\nProcessing Lab ID: NiftyGoldfinch, Video ID: 960582355\nProcessing Lab ID: NiftyGoldfinch, Video ID: 984382096\nProcessing Lab ID: NiftyGoldfinch, Video ID: 1223664597\nProcessing Lab ID: NiftyGoldfinch, Video ID: 1233426234\nProcessing Lab ID: NiftyGoldfinch, Video ID: 1269061587\nProcessing Lab ID: NiftyGoldfinch, Video ID: 1539947238\nProcessing Lab ID: NiftyGoldfinch, Video ID: 1654932902\nProcessing Lab ID: NiftyGoldfinch, Video ID: 1705186224\nProcessing Lab ID: NiftyGoldfinch, Video ID: 2103620137\nProcessing Lab ID: PleasantMeerkat, Video ID: 599439\nProcessing Lab ID: PleasantMeerkat, Video ID: 62373697\nProcessing Lab ID: PleasantMeerkat, Video ID: 74645358\nProcessing Lab ID: PleasantMeerkat, Video ID: 201760488\nProcessing Lab ID: PleasantMeerkat, Video ID: 263433603\nProcessing Lab ID: PleasantMeerkat, Video ID: 331245147\nProcessing Lab ID: PleasantMeerkat, Video ID: 365886350\nProcessing Lab ID: PleasantMeerkat, Video ID: 372539857\nProcessing Lab ID: PleasantMeerkat, Video ID: 408761044\nProcessing Lab ID: PleasantMeerkat, Video ID: 498458760\nProcessing Lab ID: PleasantMeerkat, Video ID: 754974789\nProcessing Lab ID: PleasantMeerkat, Video ID: 843765839\nProcessing Lab ID: PleasantMeerkat, Video ID: 886803007\nProcessing Lab ID: PleasantMeerkat, Video ID: 908567232\nProcessing Lab ID: PleasantMeerkat, Video ID: 932755484\nProcessing Lab ID: PleasantMeerkat, Video ID: 974867366\nProcessing Lab ID: PleasantMeerkat, Video ID: 1089480847\nProcessing Lab ID: PleasantMeerkat, Video ID: 1133952127\nProcessing Lab ID: PleasantMeerkat, Video ID: 1177059156\nProcessing Lab ID: PleasantMeerkat, Video ID: 1212669906\nProcessing Lab ID: PleasantMeerkat, Video ID: 1266446081\nProcessing Lab ID: PleasantMeerkat, Video ID: 1350372183\nProcessing Lab ID: PleasantMeerkat, Video ID: 1396183780\nProcessing Lab ID: PleasantMeerkat, Video ID: 1441309015\nProcessing Lab ID: PleasantMeerkat, Video ID: 1445631188\nProcessing Lab ID: PleasantMeerkat, Video ID: 1450482262\nProcessing Lab ID: PleasantMeerkat, Video ID: 1475649798\nProcessing Lab ID: PleasantMeerkat, Video ID: 1603176175\nProcessing Lab ID: PleasantMeerkat, Video ID: 1749697095\nProcessing Lab ID: PleasantMeerkat, Video ID: 1769027005\nProcessing Lab ID: PleasantMeerkat, Video ID: 1780823248\nProcessing Lab ID: PleasantMeerkat, Video ID: 1933653459\nProcessing Lab ID: PleasantMeerkat, Video ID: 1986134767\nProcessing Lab ID: PleasantMeerkat, Video ID: 2002810725\nProcessing Lab ID: PleasantMeerkat, Video ID: 2050697745\nProcessing Lab ID: ReflectiveManatee, Video ID: 315178669\nProcessing Lab ID: ReflectiveManatee, Video ID: 390030205\nProcessing Lab ID: ReflectiveManatee, Video ID: 498093416\nProcessing Lab ID: ReflectiveManatee, Video ID: 531131153\nProcessing Lab ID: ReflectiveManatee, Video ID: 631163660\nProcessing Lab ID: ReflectiveManatee, Video ID: 748834872\nProcessing Lab ID: ReflectiveManatee, Video ID: 828175681\nProcessing Lab ID: ReflectiveManatee, Video ID: 912929235\nProcessing Lab ID: ReflectiveManatee, Video ID: 920161729\nProcessing Lab ID: ReflectiveManatee, Video ID: 1270744933\nProcessing Lab ID: ReflectiveManatee, Video ID: 1458170545\nProcessing Lab ID: ReflectiveManatee, Video ID: 1663417188\nProcessing Lab ID: ReflectiveManatee, Video ID: 1728439177\nProcessing Lab ID: ReflectiveManatee, Video ID: 1859225348\nProcessing Lab ID: ReflectiveManatee, Video ID: 1977236166\nProcessing Lab ID: ReflectiveManatee, Video ID: 1986679638\nProcessing Lab ID: ReflectiveManatee, Video ID: 2037289010\nProcessing Lab ID: ReflectiveManatee, Video ID: 2040167035\nProcessing Lab ID: ReflectiveManatee, Video ID: 2068280177\nProcessing Lab ID: ReflectiveManatee, Video ID: 2115562740\nProcessing Lab ID: SparklingTapir, Video ID: 58714936\nProcessing Lab ID: SparklingTapir, Video ID: 159008741\nProcessing Lab ID: SparklingTapir, Video ID: 160640380\nProcessing Lab ID: SparklingTapir, Video ID: 276682473\nProcessing Lab ID: SparklingTapir, Video ID: 385126201\nProcessing Lab ID: SparklingTapir, Video ID: 397029082\nProcessing Lab ID: SparklingTapir, Video ID: 413085535\nProcessing Lab ID: SparklingTapir, Video ID: 426173640\nProcessing Lab ID: SparklingTapir, Video ID: 432830442\nProcessing Lab ID: SparklingTapir, Video ID: 449008671\nProcessing Lab ID: SparklingTapir, Video ID: 480344368\nProcessing Lab ID: SparklingTapir, Video ID: 504327699\nProcessing Lab ID: SparklingTapir, Video ID: 530169751\nProcessing Lab ID: SparklingTapir, Video ID: 606764826\nProcessing Lab ID: SparklingTapir, Video ID: 670910750\nProcessing Lab ID: SparklingTapir, Video ID: 696042182\nProcessing Lab ID: SparklingTapir, Video ID: 738250759\nProcessing Lab ID: SparklingTapir, Video ID: 762080930\nProcessing Lab ID: SparklingTapir, Video ID: 961245099\nProcessing Lab ID: SparklingTapir, Video ID: 975035187\nProcessing Lab ID: SparklingTapir, Video ID: 981363505\nProcessing Lab ID: SparklingTapir, Video ID: 1063876199\nProcessing Lab ID: SparklingTapir, Video ID: 1086931654\nProcessing Lab ID: SparklingTapir, Video ID: 1105416294\nProcessing Lab ID: SparklingTapir, Video ID: 1127527475\nProcessing Lab ID: SparklingTapir, Video ID: 1237008561\nProcessing Lab ID: SparklingTapir, Video ID: 1264225733\nProcessing Lab ID: SparklingTapir, Video ID: 1289903608\nProcessing Lab ID: SparklingTapir, Video ID: 1320793692\nProcessing Lab ID: SparklingTapir, Video ID: 1323634202\nProcessing Lab ID: SparklingTapir, Video ID: 1324626464\nProcessing Lab ID: SparklingTapir, Video ID: 1370864222\nProcessing Lab ID: SparklingTapir, Video ID: 1467427271\nProcessing Lab ID: SparklingTapir, Video ID: 1481654558\nProcessing Lab ID: SparklingTapir, Video ID: 1497516919\nProcessing Lab ID: SparklingTapir, Video ID: 1500351368\nProcessing Lab ID: SparklingTapir, Video ID: 1517321425\nProcessing Lab ID: SparklingTapir, Video ID: 1548588128\nProcessing Lab ID: SparklingTapir, Video ID: 1565453395\nProcessing Lab ID: SparklingTapir, Video ID: 1580642046\nProcessing Lab ID: SparklingTapir, Video ID: 1625103025\nProcessing Lab ID: SparklingTapir, Video ID: 1668409009\nProcessing Lab ID: SparklingTapir, Video ID: 1696052337\nProcessing Lab ID: SparklingTapir, Video ID: 1700880638\nProcessing Lab ID: SparklingTapir, Video ID: 1702238292\nProcessing Lab ID: SparklingTapir, Video ID: 1707173618\nProcessing Lab ID: SparklingTapir, Video ID: 1727709528\nProcessing Lab ID: SparklingTapir, Video ID: 1742534206\nProcessing Lab ID: SparklingTapir, Video ID: 1863117852\nProcessing Lab ID: SparklingTapir, Video ID: 1882614402\nProcessing Lab ID: SparklingTapir, Video ID: 1942017841\nProcessing Lab ID: SparklingTapir, Video ID: 1981250306\nProcessing Lab ID: SparklingTapir, Video ID: 2030735934\nProcessing Lab ID: SparklingTapir, Video ID: 2036366833\nProcessing Lab ID: TranquilPanther, Video ID: 62660378\nProcessing Lab ID: TranquilPanther, Video ID: 357532314\nProcessing Lab ID: TranquilPanther, Video ID: 431495718\nProcessing Lab ID: TranquilPanther, Video ID: 477037938\nProcessing Lab ID: TranquilPanther, Video ID: 489560891\nProcessing Lab ID: TranquilPanther, Video ID: 651966739\nProcessing Lab ID: TranquilPanther, Video ID: 675356666\nProcessing Lab ID: TranquilPanther, Video ID: 675808983\nProcessing Lab ID: TranquilPanther, Video ID: 962638464\nProcessing Lab ID: TranquilPanther, Video ID: 1057775501\nProcessing Lab ID: TranquilPanther, Video ID: 1360332361\nProcessing Lab ID: TranquilPanther, Video ID: 1456719978\nProcessing Lab ID: TranquilPanther, Video ID: 1462669248\nProcessing Lab ID: TranquilPanther, Video ID: 1510465149\nProcessing Lab ID: TranquilPanther, Video ID: 1557355665\nProcessing Lab ID: TranquilPanther, Video ID: 1582739342\nProcessing Lab ID: TranquilPanther, Video ID: 1651649809\nProcessing Lab ID: TranquilPanther, Video ID: 1732555338\nProcessing Lab ID: TranquilPanther, Video ID: 1735658729\nProcessing Lab ID: TranquilPanther, Video ID: 1831430173\nProcessing Lab ID: TranquilPanther, Video ID: 1831501720\nProcessing Lab ID: TranquilPanther, Video ID: 1895797255\nProcessing Lab ID: TranquilPanther, Video ID: 1907520217\nProcessing Lab ID: TranquilPanther, Video ID: 1979655353\nProcessing Lab ID: TranquilPanther, Video ID: 2138781893\nProcessing Lab ID: UppityFerret, Video ID: 50183736\nProcessing Lab ID: UppityFerret, Video ID: 86824777\nProcessing Lab ID: UppityFerret, Video ID: 203484552\nProcessing Lab ID: UppityFerret, Video ID: 403002745\nProcessing Lab ID: UppityFerret, Video ID: 414099215\nProcessing Lab ID: UppityFerret, Video ID: 532567355\nProcessing Lab ID: UppityFerret, Video ID: 602691466\nProcessing Lab ID: UppityFerret, Video ID: 659002593\nProcessing Lab ID: UppityFerret, Video ID: 815797699\nProcessing Lab ID: UppityFerret, Video ID: 1085105007\nProcessing Lab ID: UppityFerret, Video ID: 1131517877\nProcessing Lab ID: UppityFerret, Video ID: 1170955420\nProcessing Lab ID: UppityFerret, Video ID: 1197493895\nProcessing Lab ID: UppityFerret, Video ID: 1241990995\nProcessing Lab ID: UppityFerret, Video ID: 1266852458\nProcessing Lab ID: UppityFerret, Video ID: 1335286655\nProcessing Lab ID: UppityFerret, Video ID: 1610683375\nProcessing Lab ID: UppityFerret, Video ID: 1725214092\nProcessing Lab ID: UppityFerret, Video ID: 1960237444\nProcessing Lab ID: UppityFerret, Video ID: 2045808129\nProcessing Lab ID: UppityFerret, Video ID: 2104375029\nMerged (reduced) dataset shape = (36268844, 9)\n",
          "output_type": "stream"
        }
      ],
      "execution_count": null
    },
    {
      "cell_type": "code",
      "source": [
        "# ====================================================\n",
        "# Cell: Load ONLY tracking rows that match df_merged\n",
        "#        (same lab_id, video_id, video_frame AND mouse_id == target_id)\n",
        "# ====================================================\n",
        "# Inputs assumed:\n",
        "#   - train_df with columns ['lab_id','video_id']\n",
        "#   - tracking_path root containing <lab_id>/<video_id>.parquet\n",
        "#   - df_merged with columns ['lab_id','video_id','video_frame','target_id']\n",
        "# Outputs:\n",
        "#   - df_full_tracking_all: concatenation of ONLY the matching tracking rows\n",
        "# ====================================================\n",
        "\n",
        "# 1) Build the (lab_id, video_id, video_frame, target_id) key set from df_merged\n",
        "if 'target_id' not in df_merged.columns:\n",
        "    raise ValueError(\"df_merged must contain 'target_id' column.\")\n",
        "\n",
        "keys_all = (\n",
        "    df_merged.loc[df_merged['target_id'].fillna(0).astype(int) > 0,\n",
        "                  ['lab_id','video_id','video_frame','target_id']]\n",
        "    .dropna()\n",
        "    .drop_duplicates()\n",
        "    .copy()\n",
        ")\n",
        "\n",
        "# normalize dtypes used for joining\n",
        "keys_all['lab_id']      = keys_all['lab_id'].astype(str)\n",
        "keys_all['video_id']    = keys_all['video_id']\n",
        "keys_all['video_frame'] = keys_all['video_frame'].astype(int, errors='ignore')\n",
        "keys_all['target_id']   = keys_all['target_id'].astype(int, errors='ignore')\n",
        "\n",
        "all_train_chunks = []\n",
        "seen = set()  # avoid re-reading duplicates, if any\n",
        "\n",
        "for _, row in train_df.iterrows():\n",
        "    lab_id   = str(row['lab_id'])\n",
        "    video_id = row['video_id']\n",
        "\n",
        "    # keep only if we actually have any keys for this (lab, video)\n",
        "    keys_this = keys_all[(keys_all['lab_id'] == lab_id) & (keys_all['video_id'] == video_id)]\n",
        "    if keys_this.empty:\n",
        "        continue\n",
        "\n",
        "    key = (lab_id, video_id)\n",
        "    if key in seen:\n",
        "        continue\n",
        "    seen.add(key)\n",
        "\n",
        "    tracking_file_path = os.path.join(tracking_path, lab_id, f'{video_id}.parquet')\n",
        "    try:\n",
        "        df_full_tracking = pd.read_parquet(tracking_file_path)\n",
        "\n",
        "        # --- minimal schema normalization ---\n",
        "        # some schemas may use 'frame' instead of 'video_frame'\n",
        "        if 'video_frame' not in df_full_tracking.columns and 'frame' in df_full_tracking.columns:\n",
        "            df_full_tracking = df_full_tracking.rename(columns={'frame': 'video_frame'})\n",
        "\n",
        "        # enforce dtypes for join\n",
        "        if 'video_frame' in df_full_tracking.columns:\n",
        "            df_full_tracking['video_frame'] = df_full_tracking['video_frame'].astype(int, errors='ignore')\n",
        "        if 'mouse_id' in df_full_tracking.columns:\n",
        "            df_full_tracking['mouse_id'] = df_full_tracking['mouse_id'].astype(int, errors='ignore')\n",
        "\n",
        "        # add metadata for traceability (if not already present)\n",
        "        df_full_tracking['lab_id'] = lab_id\n",
        "        df_full_tracking['video_id'] = video_id\n",
        "\n",
        "        # --- build join keys for this video ---\n",
        "        # need columns: ['video_frame','mouse_id'] where mouse_id == target_id\n",
        "        join_keys = keys_this[['video_frame','target_id']].rename(columns={'target_id':'mouse_id'}).drop_duplicates()\n",
        "\n",
        "        # inner join to keep ONLY rows that match (video_frame, mouse_id == target_id)\n",
        "        df_match = join_keys.merge(\n",
        "            df_full_tracking,\n",
        "            on=['video_frame','mouse_id'],\n",
        "            how='inner'\n",
        "        )\n",
        "\n",
        "        if df_match.empty:\n",
        "            print(f\"[INFO] No matching rows for lab={lab_id}, video={video_id}.\")\n",
        "            continue\n",
        "\n",
        "        # reorder to keep metadata first\n",
        "        cols = ['lab_id', 'video_id'] + [c for c in df_match.columns if c not in ('lab_id','video_id')]\n",
        "        df_match = df_match[cols]\n",
        "\n",
        "        all_train_chunks.append(df_match)\n",
        "        print(f\"Loaded filtered tracking: lab={lab_id}, video={video_id}, shape={df_match.shape}\")\n",
        "\n",
        "    except Exception as e:\n",
        "        print(f\"[WARN] Could not read Train tracking for lab={lab_id}, video={video_id}: {e}\")\n",
        "\n",
        "# Concatenate if any found\n",
        "if len(all_train_chunks) > 0:\n",
        "    df_full_tracking_all = pd.concat(all_train_chunks, ignore_index=True)\n",
        "    print(f\"Combined filtered tracking shape: {df_full_tracking_all.shape}\")\n",
        "else:\n",
        "    df_full_tracking_all = pd.DataFrame()\n",
        "    print(\"No matching tracking rows were loaded.\")\n",
        "\n",
        "# Peek\n",
        "#df_full_tracking_all.head()\n"
      ],
      "metadata": {
        "trusted": true,
        "execution": {
          "iopub.status.busy": "2025-10-11T05:23:59.42156Z",
          "iopub.execute_input": "2025-10-11T05:23:59.421808Z",
          "iopub.status.idle": "2025-10-11T05:36:24.451661Z",
          "shell.execute_reply.started": "2025-10-11T05:23:59.421789Z",
          "shell.execute_reply": "2025-10-11T05:36:24.450551Z"
        },
        "id": "EfCb4piuaecp",
        "outputId": "48804b46-8a36-47ac-c56c-67020d5c5388"
      },
      "outputs": [
        {
          "name": "stdout",
          "text": "Loaded filtered tracking: lab=AdaptableSnail, video=44566106, shape=(220145, 7)\nLoaded filtered tracking: lab=AdaptableSnail, video=143861384, shape=(108312, 7)\nLoaded filtered tracking: lab=AdaptableSnail, video=209576908, shape=(111930, 7)\nLoaded filtered tracking: lab=AdaptableSnail, video=278643799, shape=(231816, 7)\nLoaded filtered tracking: lab=AdaptableSnail, video=351967631, shape=(89398, 7)\nLoaded filtered tracking: lab=AdaptableSnail, video=355542626, shape=(126721, 7)\nLoaded filtered tracking: lab=AdaptableSnail, video=678426900, shape=(92346, 7)\nLoaded filtered tracking: lab=AdaptableSnail, video=705948978, shape=(117110, 7)\nLoaded filtered tracking: lab=AdaptableSnail, video=878123481, shape=(6944, 7)\nLoaded filtered tracking: lab=AdaptableSnail, video=1212811043, shape=(99012, 7)\nLoaded filtered tracking: lab=AdaptableSnail, video=1260392287, shape=(38272, 7)\nLoaded filtered tracking: lab=AdaptableSnail, video=1351098077, shape=(43761, 7)\nLoaded filtered tracking: lab=AdaptableSnail, video=1408652858, shape=(167535, 7)\nLoaded filtered tracking: lab=AdaptableSnail, video=1596473327, shape=(19576, 7)\nLoaded filtered tracking: lab=AdaptableSnail, video=1643942986, shape=(76018, 7)\nLoaded filtered tracking: lab=AdaptableSnail, video=1717182687, shape=(164277, 7)\nLoaded filtered tracking: lab=AdaptableSnail, video=2078515636, shape=(69481, 7)\nLoaded filtered tracking: lab=BoisterousParrot, video=402963089, shape=(17930, 7)\nLoaded filtered tracking: lab=BoisterousParrot, video=459610814, shape=(3705, 7)\nLoaded filtered tracking: lab=BoisterousParrot, video=613246188, shape=(7450, 7)\nLoaded filtered tracking: lab=BoisterousParrot, video=1059582964, shape=(22105, 7)\nLoaded filtered tracking: lab=BoisterousParrot, video=1184291605, shape=(3705, 7)\nLoaded filtered tracking: lab=BoisterousParrot, video=1201849558, shape=(35065, 7)\nLoaded filtered tracking: lab=BoisterousParrot, video=1459695188, shape=(33845, 7)\nLoaded filtered tracking: lab=BoisterousParrot, video=1985626297, shape=(24455, 7)\nLoaded filtered tracking: lab=CRIM13, video=363958890, shape=(33243, 7)\nLoaded filtered tracking: lab=CRIM13, video=415181540, shape=(51807, 7)\nLoaded filtered tracking: lab=CRIM13, video=670907179, shape=(62104, 7)\nLoaded filtered tracking: lab=CRIM13, video=793202924, shape=(54019, 7)\nLoaded filtered tracking: lab=CRIM13, video=840324395, shape=(6314, 7)\nLoaded filtered tracking: lab=CRIM13, video=1009459450, shape=(39697, 7)\nLoaded filtered tracking: lab=CRIM13, video=1057221056, shape=(23142, 7)\nLoaded filtered tracking: lab=CRIM13, video=1149348188, shape=(19138, 7)\nLoaded filtered tracking: lab=CRIM13, video=1213233769, shape=(56007, 7)\nLoaded filtered tracking: lab=CRIM13, video=1313797424, shape=(40320, 7)\nLoaded filtered tracking: lab=CRIM13, video=1319309143, shape=(22799, 7)\nLoaded filtered tracking: lab=CRIM13, video=1381910096, shape=(31339, 7)\nLoaded filtered tracking: lab=CRIM13, video=1490000283, shape=(21028, 7)\nLoaded filtered tracking: lab=CRIM13, video=1592386054, shape=(13825, 7)\nLoaded filtered tracking: lab=CRIM13, video=1695807459, shape=(40292, 7)\nLoaded filtered tracking: lab=CRIM13, video=1733903958, shape=(5607, 7)\nLoaded filtered tracking: lab=CRIM13, video=1763467574, shape=(31115, 7)\nLoaded filtered tracking: lab=CRIM13, video=1836572955, shape=(37842, 7)\nLoaded filtered tracking: lab=CRIM13, video=1846302042, shape=(47705, 7)\nLoaded filtered tracking: lab=CRIM13, video=1976539996, shape=(7623, 7)\nLoaded filtered tracking: lab=CRIM13, video=2134094751, shape=(45633, 7)\nLoaded filtered tracking: lab=CalMS21_supplemental, video=17308182, shape=(27881, 7)\nLoaded filtered tracking: lab=CalMS21_supplemental, video=29204526, shape=(23289, 7)\nLoaded filtered tracking: lab=CalMS21_supplemental, video=29829833, shape=(41636, 7)\nLoaded filtered tracking: lab=CalMS21_supplemental, video=31444359, shape=(42462, 7)\nLoaded filtered tracking: lab=CalMS21_supplemental, video=35021334, shape=(69398, 7)\nLoaded filtered tracking: lab=CalMS21_supplemental, video=40742782, shape=(32347, 7)\nLoaded filtered tracking: lab=CalMS21_supplemental, video=40750804, shape=(139741, 7)\nLoaded filtered tracking: lab=CalMS21_supplemental, video=42319786, shape=(45731, 7)\nLoaded filtered tracking: lab=CalMS21_supplemental, video=48387399, shape=(32109, 7)\nLoaded filtered tracking: lab=CalMS21_supplemental, video=52039908, shape=(17815, 7)\nLoaded filtered tracking: lab=CalMS21_supplemental, video=54306566, shape=(14084, 7)\nLoaded filtered tracking: lab=CalMS21_supplemental, video=56352203, shape=(14980, 7)\nLoaded filtered tracking: lab=CalMS21_supplemental, video=64642705, shape=(38220, 7)\nLoaded filtered tracking: lab=CalMS21_supplemental, video=72488788, shape=(15855, 7)\nLoaded filtered tracking: lab=CalMS21_supplemental, video=74402262, shape=(106344, 7)\nLoaded filtered tracking: lab=CalMS21_supplemental, video=93380531, shape=(30331, 7)\nLoaded filtered tracking: lab=CalMS21_supplemental, video=109675929, shape=(54663, 7)\nLoaded filtered tracking: lab=CalMS21_supplemental, video=110342188, shape=(50183, 7)\nLoaded filtered tracking: lab=CalMS21_supplemental, video=119456810, shape=(18340, 7)\nLoaded filtered tracking: lab=CalMS21_supplemental, video=121783441, shape=(31430, 7)\nLoaded filtered tracking: lab=CalMS21_supplemental, video=129371066, shape=(8008, 7)\nLoaded filtered tracking: lab=CalMS21_supplemental, video=139083951, shape=(26845, 7)\nLoaded filtered tracking: lab=CalMS21_supplemental, video=158696718, shape=(105259, 7)\nLoaded filtered tracking: lab=CalMS21_supplemental, video=162065037, shape=(73801, 7)\nLoaded filtered tracking: lab=CalMS21_supplemental, video=162657728, shape=(22750, 7)\nLoaded filtered tracking: lab=CalMS21_supplemental, video=163541934, shape=(6622, 7)\nLoaded filtered tracking: lab=CalMS21_supplemental, video=165039922, shape=(52101, 7)\nLoaded filtered tracking: lab=CalMS21_supplemental, video=176648153, shape=(39655, 7)\nLoaded filtered tracking: lab=CalMS21_supplemental, video=182143115, shape=(70364, 7)\nLoaded filtered tracking: lab=CalMS21_supplemental, video=199044781, shape=(55531, 7)\nLoaded filtered tracking: lab=CalMS21_supplemental, video=204814054, shape=(17276, 7)\nLoaded filtered tracking: lab=CalMS21_supplemental, video=206411405, shape=(34013, 7)\nLoaded filtered tracking: lab=CalMS21_supplemental, video=211473435, shape=(120225, 7)\nLoaded filtered tracking: lab=CalMS21_supplemental, video=229613936, shape=(135492, 7)\nLoaded filtered tracking: lab=CalMS21_supplemental, video=247581397, shape=(64106, 7)\nLoaded filtered tracking: lab=CalMS21_supplemental, video=257443481, shape=(108521, 7)\nLoaded filtered tracking: lab=CalMS21_supplemental, video=270605934, shape=(10241, 7)\nLoaded filtered tracking: lab=CalMS21_supplemental, video=283078835, shape=(63889, 7)\nLoaded filtered tracking: lab=CalMS21_supplemental, video=287957149, shape=(13622, 7)\nLoaded filtered tracking: lab=CalMS21_supplemental, video=292722123, shape=(34804, 7)\nLoaded filtered tracking: lab=CalMS21_supplemental, video=293032904, shape=(107303, 7)\nLoaded filtered tracking: lab=CalMS21_supplemental, video=293971737, shape=(89677, 7)\nLoaded filtered tracking: lab=CalMS21_supplemental, video=298840331, shape=(28035, 7)\nLoaded filtered tracking: lab=CalMS21_supplemental, video=304455631, shape=(17955, 7)\nLoaded filtered tracking: lab=CalMS21_supplemental, video=311944917, shape=(46158, 7)\nLoaded filtered tracking: lab=CalMS21_supplemental, video=318716558, shape=(88060, 7)\nLoaded filtered tracking: lab=CalMS21_supplemental, video=320652992, shape=(109935, 7)\nLoaded filtered tracking: lab=CalMS21_supplemental, video=321538526, shape=(86478, 7)\nLoaded filtered tracking: lab=CalMS21_supplemental, video=324704866, shape=(15729, 7)\nLoaded filtered tracking: lab=CalMS21_supplemental, video=352625654, shape=(118398, 7)\nLoaded filtered tracking: lab=CalMS21_supplemental, video=358516464, shape=(37891, 7)\nLoaded filtered tracking: lab=CalMS21_supplemental, video=379027684, shape=(47992, 7)\nLoaded filtered tracking: lab=CalMS21_supplemental, video=379641005, shape=(20804, 7)\nLoaded filtered tracking: lab=CalMS21_supplemental, video=397643142, shape=(35497, 7)\nLoaded filtered tracking: lab=CalMS21_supplemental, video=398952794, shape=(9331, 7)\nLoaded filtered tracking: lab=CalMS21_supplemental, video=416793024, shape=(17346, 7)\nLoaded filtered tracking: lab=CalMS21_supplemental, video=419242179, shape=(40145, 7)\nLoaded filtered tracking: lab=CalMS21_supplemental, video=423087515, shape=(56959, 7)\nLoaded filtered tracking: lab=CalMS21_supplemental, video=427319973, shape=(41482, 7)\nLoaded filtered tracking: lab=CalMS21_supplemental, video=427774009, shape=(94143, 7)\nLoaded filtered tracking: lab=CalMS21_supplemental, video=436212660, shape=(68509, 7)\nLoaded filtered tracking: lab=CalMS21_supplemental, video=446352765, shape=(14364, 7)\nLoaded filtered tracking: lab=CalMS21_supplemental, video=452068803, shape=(64246, 7)\nLoaded filtered tracking: lab=CalMS21_supplemental, video=455337890, shape=(72541, 7)\nLoaded filtered tracking: lab=CalMS21_supplemental, video=456109830, shape=(60277, 7)\nLoaded filtered tracking: lab=CalMS21_supplemental, video=461440057, shape=(106246, 7)\nLoaded filtered tracking: lab=CalMS21_supplemental, video=467701507, shape=(32396, 7)\nLoaded filtered tracking: lab=CalMS21_supplemental, video=495791948, shape=(64463, 7)\nLoaded filtered tracking: lab=CalMS21_supplemental, video=501836189, shape=(33747, 7)\nLoaded filtered tracking: lab=CalMS21_supplemental, video=502201747, shape=(56910, 7)\nLoaded filtered tracking: lab=CalMS21_supplemental, video=506737762, shape=(22512, 7)\nLoaded filtered tracking: lab=CalMS21_supplemental, video=512573715, shape=(29351, 7)\nLoaded filtered tracking: lab=CalMS21_supplemental, video=518945549, shape=(99568, 7)\nLoaded filtered tracking: lab=CalMS21_supplemental, video=518985954, shape=(124243, 7)\nLoaded filtered tracking: lab=CalMS21_supplemental, video=522883468, shape=(13097, 7)\nLoaded filtered tracking: lab=CalMS21_supplemental, video=531583938, shape=(128744, 7)\nLoaded filtered tracking: lab=CalMS21_supplemental, video=531669534, shape=(87087, 7)\nLoaded filtered tracking: lab=CalMS21_supplemental, video=537555916, shape=(29918, 7)\nLoaded filtered tracking: lab=CalMS21_supplemental, video=543628016, shape=(59913, 7)\nLoaded filtered tracking: lab=CalMS21_supplemental, video=544047008, shape=(68691, 7)\nLoaded filtered tracking: lab=CalMS21_supplemental, video=550605327, shape=(72331, 7)\nLoaded filtered tracking: lab=CalMS21_supplemental, video=552808855, shape=(71799, 7)\nLoaded filtered tracking: lab=CalMS21_supplemental, video=553713693, shape=(15694, 7)\nLoaded filtered tracking: lab=CalMS21_supplemental, video=560149373, shape=(45829, 7)\nLoaded filtered tracking: lab=CalMS21_supplemental, video=564614304, shape=(54320, 7)\nLoaded filtered tracking: lab=CalMS21_supplemental, video=566896495, shape=(81151, 7)\nLoaded filtered tracking: lab=CalMS21_supplemental, video=571702992, shape=(108857, 7)\nLoaded filtered tracking: lab=CalMS21_supplemental, video=577041568, shape=(11844, 7)\nLoaded filtered tracking: lab=CalMS21_supplemental, video=583997490, shape=(39921, 7)\nLoaded filtered tracking: lab=CalMS21_supplemental, video=591324785, shape=(12348, 7)\nLoaded filtered tracking: lab=CalMS21_supplemental, video=598974879, shape=(62188, 7)\nLoaded filtered tracking: lab=CalMS21_supplemental, video=605925180, shape=(23772, 7)\nLoaded filtered tracking: lab=CalMS21_supplemental, video=616524351, shape=(78491, 7)\nLoaded filtered tracking: lab=CalMS21_supplemental, video=629313314, shape=(99673, 7)\nLoaded filtered tracking: lab=CalMS21_supplemental, video=650064423, shape=(69636, 7)\nLoaded filtered tracking: lab=CalMS21_supplemental, video=659029417, shape=(196, 7)\nLoaded filtered tracking: lab=CalMS21_supplemental, video=672951482, shape=(38535, 7)\nLoaded filtered tracking: lab=CalMS21_supplemental, video=680884492, shape=(36666, 7)\nLoaded filtered tracking: lab=CalMS21_supplemental, video=685535880, shape=(25949, 7)\nLoaded filtered tracking: lab=CalMS21_supplemental, video=695462600, shape=(97965, 7)\nLoaded filtered tracking: lab=CalMS21_supplemental, video=708536757, shape=(52990, 7)\nLoaded filtered tracking: lab=CalMS21_supplemental, video=716655035, shape=(137739, 7)\nLoaded filtered tracking: lab=CalMS21_supplemental, video=720733765, shape=(115717, 7)\nLoaded filtered tracking: lab=CalMS21_supplemental, video=729100934, shape=(58380, 7)\nLoaded filtered tracking: lab=CalMS21_supplemental, video=736444046, shape=(39172, 7)\nLoaded filtered tracking: lab=CalMS21_supplemental, video=737848535, shape=(22456, 7)\nLoaded filtered tracking: lab=CalMS21_supplemental, video=748397509, shape=(68579, 7)\nLoaded filtered tracking: lab=CalMS21_supplemental, video=751868515, shape=(61712, 7)\nLoaded filtered tracking: lab=CalMS21_supplemental, video=761253861, shape=(79086, 7)\nLoaded filtered tracking: lab=CalMS21_supplemental, video=763575760, shape=(88004, 7)\nLoaded filtered tracking: lab=CalMS21_supplemental, video=766946181, shape=(15680, 7)\nLoaded filtered tracking: lab=CalMS21_supplemental, video=767129341, shape=(83993, 7)\nLoaded filtered tracking: lab=CalMS21_supplemental, video=771126279, shape=(7231, 7)\nLoaded filtered tracking: lab=CalMS21_supplemental, video=777923084, shape=(71176, 7)\nLoaded filtered tracking: lab=CalMS21_supplemental, video=778173181, shape=(47320, 7)\nLoaded filtered tracking: lab=CalMS21_supplemental, video=783482595, shape=(37569, 7)\nLoaded filtered tracking: lab=CalMS21_supplemental, video=811059680, shape=(36015, 7)\nLoaded filtered tracking: lab=CalMS21_supplemental, video=812315940, shape=(50806, 7)\nLoaded filtered tracking: lab=CalMS21_supplemental, video=818194272, shape=(64799, 7)\nLoaded filtered tracking: lab=CalMS21_supplemental, video=826874848, shape=(80332, 7)\nLoaded filtered tracking: lab=CalMS21_supplemental, video=859466703, shape=(7385, 7)\nLoaded filtered tracking: lab=CalMS21_supplemental, video=861175984, shape=(70595, 7)\nLoaded filtered tracking: lab=CalMS21_supplemental, video=867664247, shape=(49665, 7)\nLoaded filtered tracking: lab=CalMS21_supplemental, video=868794783, shape=(76496, 7)\nLoaded filtered tracking: lab=CalMS21_supplemental, video=878542442, shape=(88592, 7)\nLoaded filtered tracking: lab=CalMS21_supplemental, video=880329423, shape=(47355, 7)\nLoaded filtered tracking: lab=CalMS21_supplemental, video=888737494, shape=(30177, 7)\nLoaded filtered tracking: lab=CalMS21_supplemental, video=889801833, shape=(17808, 7)\nLoaded filtered tracking: lab=CalMS21_supplemental, video=892931209, shape=(14182, 7)\nLoaded filtered tracking: lab=CalMS21_supplemental, video=895050858, shape=(42504, 7)\nLoaded filtered tracking: lab=CalMS21_supplemental, video=898612783, shape=(47607, 7)\nLoaded filtered tracking: lab=CalMS21_supplemental, video=906511432, shape=(24024, 7)\nLoaded filtered tracking: lab=CalMS21_supplemental, video=918178571, shape=(67319, 7)\nLoaded filtered tracking: lab=CalMS21_supplemental, video=947901691, shape=(50176, 7)\nLoaded filtered tracking: lab=CalMS21_supplemental, video=950513978, shape=(74753, 7)\nLoaded filtered tracking: lab=CalMS21_supplemental, video=950827076, shape=(24829, 7)\nLoaded filtered tracking: lab=CalMS21_supplemental, video=961477544, shape=(72240, 7)\nLoaded filtered tracking: lab=CalMS21_supplemental, video=961918556, shape=(119112, 7)\nLoaded filtered tracking: lab=CalMS21_supplemental, video=973541620, shape=(79345, 7)\nLoaded filtered tracking: lab=CalMS21_supplemental, video=979756439, shape=(31647, 7)\nLoaded filtered tracking: lab=CalMS21_supplemental, video=986093463, shape=(93758, 7)\nLoaded filtered tracking: lab=CalMS21_supplemental, video=996373370, shape=(84343, 7)\nLoaded filtered tracking: lab=CalMS21_supplemental, video=997548234, shape=(3276, 7)\nLoaded filtered tracking: lab=CalMS21_supplemental, video=1006083669, shape=(27118, 7)\nLoaded filtered tracking: lab=CalMS21_supplemental, video=1012566686, shape=(34993, 7)\nLoaded filtered tracking: lab=CalMS21_supplemental, video=1012566850, shape=(73073, 7)\nLoaded filtered tracking: lab=CalMS21_supplemental, video=1013428301, shape=(30800, 7)\nLoaded filtered tracking: lab=CalMS21_supplemental, video=1014350333, shape=(22855, 7)\nLoaded filtered tracking: lab=CalMS21_supplemental, video=1015291592, shape=(58002, 7)\nLoaded filtered tracking: lab=CalMS21_supplemental, video=1017236040, shape=(25060, 7)\nLoaded filtered tracking: lab=CalMS21_supplemental, video=1019240807, shape=(13076, 7)\nLoaded filtered tracking: lab=CalMS21_supplemental, video=1032773418, shape=(54712, 7)\nLoaded filtered tracking: lab=CalMS21_supplemental, video=1039672228, shape=(78120, 7)\nLoaded filtered tracking: lab=CalMS21_supplemental, video=1047608795, shape=(6454, 7)\nLoaded filtered tracking: lab=CalMS21_supplemental, video=1082445110, shape=(8561, 7)\nLoaded filtered tracking: lab=CalMS21_supplemental, video=1085810295, shape=(67284, 7)\nLoaded filtered tracking: lab=CalMS21_supplemental, video=1088021251, shape=(32312, 7)\nLoaded filtered tracking: lab=CalMS21_supplemental, video=1092798869, shape=(65261, 7)\nLoaded filtered tracking: lab=CalMS21_supplemental, video=1094348590, shape=(33299, 7)\nLoaded filtered tracking: lab=CalMS21_supplemental, video=1105042798, shape=(53179, 7)\nLoaded filtered tracking: lab=CalMS21_supplemental, video=1110611032, shape=(81200, 7)\nLoaded filtered tracking: lab=CalMS21_supplemental, video=1116444590, shape=(68208, 7)\nLoaded filtered tracking: lab=CalMS21_supplemental, video=1132476818, shape=(88963, 7)\nLoaded filtered tracking: lab=CalMS21_supplemental, video=1133807709, shape=(29183, 7)\nLoaded filtered tracking: lab=CalMS21_supplemental, video=1138789923, shape=(64715, 7)\nLoaded filtered tracking: lab=CalMS21_supplemental, video=1142036064, shape=(67942, 7)\nLoaded filtered tracking: lab=CalMS21_supplemental, video=1149399074, shape=(55734, 7)\nLoaded filtered tracking: lab=CalMS21_supplemental, video=1158341062, shape=(46494, 7)\nLoaded filtered tracking: lab=CalMS21_supplemental, video=1161382388, shape=(44128, 7)\nLoaded filtered tracking: lab=CalMS21_supplemental, video=1161513440, shape=(48244, 7)\nLoaded filtered tracking: lab=CalMS21_supplemental, video=1180251359, shape=(141463, 7)\nLoaded filtered tracking: lab=CalMS21_supplemental, video=1185620508, shape=(22288, 7)\nLoaded filtered tracking: lab=CalMS21_supplemental, video=1197353862, shape=(24234, 7)\nLoaded filtered tracking: lab=CalMS21_supplemental, video=1207553838, shape=(38990, 7)\nLoaded filtered tracking: lab=CalMS21_supplemental, video=1231968667, shape=(122864, 7)\nLoaded filtered tracking: lab=CalMS21_supplemental, video=1267508818, shape=(15582, 7)\nLoaded filtered tracking: lab=CalMS21_supplemental, video=1272568731, shape=(45563, 7)\nLoaded filtered tracking: lab=CalMS21_supplemental, video=1272974030, shape=(54908, 7)\nLoaded filtered tracking: lab=CalMS21_supplemental, video=1277377564, shape=(16009, 7)\nLoaded filtered tracking: lab=CalMS21_supplemental, video=1278319432, shape=(17780, 7)\nLoaded filtered tracking: lab=CalMS21_supplemental, video=1293027619, shape=(16499, 7)\nLoaded filtered tracking: lab=CalMS21_supplemental, video=1301288495, shape=(141344, 7)\nLoaded filtered tracking: lab=CalMS21_supplemental, video=1320201420, shape=(95522, 7)\nLoaded filtered tracking: lab=CalMS21_supplemental, video=1327458782, shape=(38675, 7)\nLoaded filtered tracking: lab=CalMS21_supplemental, video=1349102959, shape=(100401, 7)\nLoaded filtered tracking: lab=CalMS21_supplemental, video=1356723283, shape=(18046, 7)\nLoaded filtered tracking: lab=CalMS21_supplemental, video=1357765938, shape=(63294, 7)\nLoaded filtered tracking: lab=CalMS21_supplemental, video=1362255317, shape=(48090, 7)\nLoaded filtered tracking: lab=CalMS21_supplemental, video=1369858702, shape=(41832, 7)\nLoaded filtered tracking: lab=CalMS21_supplemental, video=1383011506, shape=(10962, 7)\nLoaded filtered tracking: lab=CalMS21_supplemental, video=1390249533, shape=(91959, 7)\nLoaded filtered tracking: lab=CalMS21_supplemental, video=1411405064, shape=(36064, 7)\nLoaded filtered tracking: lab=CalMS21_supplemental, video=1431927054, shape=(34545, 7)\nLoaded filtered tracking: lab=CalMS21_supplemental, video=1432635091, shape=(17647, 7)\nLoaded filtered tracking: lab=CalMS21_supplemental, video=1433266993, shape=(79114, 7)\nLoaded filtered tracking: lab=CalMS21_supplemental, video=1442492479, shape=(49392, 7)\nLoaded filtered tracking: lab=CalMS21_supplemental, video=1450277210, shape=(50897, 7)\nLoaded filtered tracking: lab=CalMS21_supplemental, video=1458368239, shape=(10584, 7)\nLoaded filtered tracking: lab=CalMS21_supplemental, video=1465225735, shape=(29078, 7)\nLoaded filtered tracking: lab=CalMS21_supplemental, video=1465845118, shape=(54481, 7)\nLoaded filtered tracking: lab=CalMS21_supplemental, video=1474034537, shape=(29211, 7)\nLoaded filtered tracking: lab=CalMS21_supplemental, video=1480402902, shape=(53508, 7)\nLoaded filtered tracking: lab=CalMS21_supplemental, video=1491960718, shape=(12460, 7)\nLoaded filtered tracking: lab=CalMS21_supplemental, video=1498476778, shape=(72184, 7)\nLoaded filtered tracking: lab=CalMS21_supplemental, video=1500887132, shape=(55342, 7)\nLoaded filtered tracking: lab=CalMS21_supplemental, video=1501429415, shape=(22491, 7)\nLoaded filtered tracking: lab=CalMS21_supplemental, video=1505228483, shape=(29519, 7)\nLoaded filtered tracking: lab=CalMS21_supplemental, video=1508568688, shape=(127827, 7)\nLoaded filtered tracking: lab=CalMS21_supplemental, video=1512101591, shape=(12516, 7)\nLoaded filtered tracking: lab=CalMS21_supplemental, video=1516524771, shape=(77343, 7)\nLoaded filtered tracking: lab=CalMS21_supplemental, video=1520746939, shape=(16240, 7)\nLoaded filtered tracking: lab=CalMS21_supplemental, video=1523817911, shape=(95508, 7)\nLoaded filtered tracking: lab=CalMS21_supplemental, video=1525217575, shape=(42105, 7)\nLoaded filtered tracking: lab=CalMS21_supplemental, video=1531311092, shape=(70553, 7)\nLoaded filtered tracking: lab=CalMS21_supplemental, video=1536671381, shape=(28987, 7)\nLoaded filtered tracking: lab=CalMS21_supplemental, video=1542354568, shape=(41468, 7)\nLoaded filtered tracking: lab=CalMS21_supplemental, video=1543288869, shape=(14588, 7)\nLoaded filtered tracking: lab=CalMS21_supplemental, video=1573791367, shape=(92680, 7)\nLoaded filtered tracking: lab=CalMS21_supplemental, video=1576527395, shape=(30653, 7)\nLoaded filtered tracking: lab=CalMS21_supplemental, video=1580520873, shape=(122017, 7)\nLoaded filtered tracking: lab=CalMS21_supplemental, video=1591554758, shape=(34251, 7)\nLoaded filtered tracking: lab=CalMS21_supplemental, video=1591747692, shape=(48657, 7)\nLoaded filtered tracking: lab=CalMS21_supplemental, video=1591757847, shape=(76006, 7)\nLoaded filtered tracking: lab=CalMS21_supplemental, video=1600524631, shape=(50631, 7)\nLoaded filtered tracking: lab=CalMS21_supplemental, video=1602849635, shape=(57519, 7)\nLoaded filtered tracking: lab=CalMS21_supplemental, video=1622496449, shape=(9653, 7)\nLoaded filtered tracking: lab=CalMS21_supplemental, video=1630924702, shape=(130424, 7)\nLoaded filtered tracking: lab=CalMS21_supplemental, video=1639493039, shape=(96929, 7)\nLoaded filtered tracking: lab=CalMS21_supplemental, video=1639810716, shape=(83342, 7)\nLoaded filtered tracking: lab=CalMS21_supplemental, video=1644423633, shape=(94269, 7)\nLoaded filtered tracking: lab=CalMS21_supplemental, video=1652683860, shape=(25984, 7)\nLoaded filtered tracking: lab=CalMS21_supplemental, video=1658817801, shape=(57260, 7)\nLoaded filtered tracking: lab=CalMS21_supplemental, video=1675950633, shape=(12761, 7)\nLoaded filtered tracking: lab=CalMS21_supplemental, video=1683673468, shape=(77882, 7)\nLoaded filtered tracking: lab=CalMS21_supplemental, video=1691279417, shape=(51009, 7)\nLoaded filtered tracking: lab=CalMS21_supplemental, video=1691760122, shape=(61936, 7)\nLoaded filtered tracking: lab=CalMS21_supplemental, video=1692251795, shape=(42168, 7)\nLoaded filtered tracking: lab=CalMS21_supplemental, video=1695342547, shape=(20433, 7)\nLoaded filtered tracking: lab=CalMS21_supplemental, video=1695348554, shape=(27902, 7)\nLoaded filtered tracking: lab=CalMS21_supplemental, video=1703310497, shape=(71470, 7)\nLoaded filtered tracking: lab=CalMS21_supplemental, video=1706585169, shape=(68362, 7)\nLoaded filtered tracking: lab=CalMS21_supplemental, video=1724547877, shape=(18333, 7)\nLoaded filtered tracking: lab=CalMS21_supplemental, video=1727431909, shape=(81550, 7)\nLoaded filtered tracking: lab=CalMS21_supplemental, video=1729232290, shape=(17255, 7)\nLoaded filtered tracking: lab=CalMS21_supplemental, video=1733995999, shape=(46424, 7)\nLoaded filtered tracking: lab=CalMS21_supplemental, video=1741457167, shape=(12866, 7)\nLoaded filtered tracking: lab=CalMS21_supplemental, video=1743317707, shape=(16058, 7)\nLoaded filtered tracking: lab=CalMS21_supplemental, video=1744212563, shape=(59472, 7)\nLoaded filtered tracking: lab=CalMS21_supplemental, video=1761366259, shape=(67221, 7)\nLoaded filtered tracking: lab=CalMS21_supplemental, video=1771120435, shape=(73073, 7)\nLoaded filtered tracking: lab=CalMS21_supplemental, video=1774554697, shape=(12957, 7)\nLoaded filtered tracking: lab=CalMS21_supplemental, video=1776748589, shape=(44051, 7)\nLoaded filtered tracking: lab=CalMS21_supplemental, video=1788436101, shape=(34622, 7)\nLoaded filtered tracking: lab=CalMS21_supplemental, video=1821740904, shape=(92932, 7)\nLoaded filtered tracking: lab=CalMS21_supplemental, video=1828414810, shape=(86114, 7)\nLoaded filtered tracking: lab=CalMS21_supplemental, video=1830370330, shape=(122451, 7)\nLoaded filtered tracking: lab=CalMS21_supplemental, video=1831993765, shape=(9639, 7)\nLoaded filtered tracking: lab=CalMS21_supplemental, video=1853523159, shape=(117621, 7)\nLoaded filtered tracking: lab=CalMS21_supplemental, video=1865009668, shape=(55041, 7)\nLoaded filtered tracking: lab=CalMS21_supplemental, video=1869967336, shape=(150878, 7)\nLoaded filtered tracking: lab=CalMS21_supplemental, video=1870526030, shape=(65772, 7)\nLoaded filtered tracking: lab=CalMS21_supplemental, video=1872766812, shape=(89908, 7)\nLoaded filtered tracking: lab=CalMS21_supplemental, video=1875246754, shape=(80192, 7)\nLoaded filtered tracking: lab=CalMS21_supplemental, video=1881725588, shape=(84042, 7)\nLoaded filtered tracking: lab=CalMS21_supplemental, video=1887057159, shape=(23121, 7)\nLoaded filtered tracking: lab=CalMS21_supplemental, video=1887340589, shape=(101696, 7)\nLoaded filtered tracking: lab=CalMS21_supplemental, video=1900472420, shape=(40425, 7)\nLoaded filtered tracking: lab=CalMS21_supplemental, video=1907533650, shape=(15911, 7)\nLoaded filtered tracking: lab=CalMS21_supplemental, video=1910565976, shape=(56252, 7)\nLoaded filtered tracking: lab=CalMS21_supplemental, video=1914240174, shape=(62027, 7)\nLoaded filtered tracking: lab=CalMS21_supplemental, video=1915789767, shape=(23492, 7)\nLoaded filtered tracking: lab=CalMS21_supplemental, video=1917012134, shape=(45297, 7)\nLoaded filtered tracking: lab=CalMS21_supplemental, video=1952344815, shape=(81249, 7)\nLoaded filtered tracking: lab=CalMS21_supplemental, video=1954031391, shape=(136514, 7)\nLoaded filtered tracking: lab=CalMS21_supplemental, video=1962858066, shape=(13657, 7)\nLoaded filtered tracking: lab=CalMS21_supplemental, video=1970018431, shape=(57855, 7)\nLoaded filtered tracking: lab=CalMS21_supplemental, video=1980223276, shape=(134337, 7)\nLoaded filtered tracking: lab=CalMS21_supplemental, video=1984570060, shape=(20083, 7)\nLoaded filtered tracking: lab=CalMS21_supplemental, video=1988640923, shape=(60753, 7)\nLoaded filtered tracking: lab=CalMS21_supplemental, video=1991863389, shape=(22085, 7)\nLoaded filtered tracking: lab=CalMS21_supplemental, video=2010437126, shape=(77910, 7)\nLoaded filtered tracking: lab=CalMS21_supplemental, video=2017225429, shape=(84553, 7)\nLoaded filtered tracking: lab=CalMS21_supplemental, video=2030380897, shape=(103187, 7)\nLoaded filtered tracking: lab=CalMS21_supplemental, video=2032102979, shape=(80059, 7)\nLoaded filtered tracking: lab=CalMS21_supplemental, video=2034534324, shape=(43967, 7)\nLoaded filtered tracking: lab=CalMS21_supplemental, video=2050459549, shape=(46557, 7)\nLoaded filtered tracking: lab=CalMS21_supplemental, video=2057608448, shape=(51184, 7)\nLoaded filtered tracking: lab=CalMS21_supplemental, video=2071350962, shape=(27825, 7)\nLoaded filtered tracking: lab=CalMS21_supplemental, video=2084840600, shape=(37758, 7)\nLoaded filtered tracking: lab=CalMS21_supplemental, video=2103676486, shape=(99071, 7)\nLoaded filtered tracking: lab=CalMS21_supplemental, video=2109429295, shape=(137466, 7)\nLoaded filtered tracking: lab=CalMS21_supplemental, video=2118799217, shape=(47306, 7)\nLoaded filtered tracking: lab=CalMS21_supplemental, video=2121861703, shape=(19530, 7)\nLoaded filtered tracking: lab=CalMS21_supplemental, video=2122787540, shape=(46298, 7)\nLoaded filtered tracking: lab=CalMS21_supplemental, video=2131370806, shape=(51541, 7)\nLoaded filtered tracking: lab=CalMS21_supplemental, video=2137179735, shape=(26194, 7)\nLoaded filtered tracking: lab=CalMS21_supplemental, video=2143302778, shape=(53662, 7)\nLoaded filtered tracking: lab=CalMS21_task1, video=13638642, shape=(19229, 7)\nLoaded filtered tracking: lab=CalMS21_task1, video=25423023, shape=(12467, 7)\nLoaded filtered tracking: lab=CalMS21_task1, video=25577048, shape=(25109, 7)\nLoaded filtered tracking: lab=CalMS21_task1, video=25669938, shape=(10668, 7)\nLoaded filtered tracking: lab=CalMS21_task1, video=33033070, shape=(28462, 7)\nLoaded filtered tracking: lab=CalMS21_task1, video=54612937, shape=(14959, 7)\nLoaded filtered tracking: lab=CalMS21_task1, video=87423842, shape=(43183, 7)\nLoaded filtered tracking: lab=CalMS21_task1, video=99618595, shape=(48734, 7)\nLoaded filtered tracking: lab=CalMS21_task1, video=169344990, shape=(69944, 7)\nLoaded filtered tracking: lab=CalMS21_task1, video=185446354, shape=(9835, 7)\nLoaded filtered tracking: lab=CalMS21_task1, video=190981840, shape=(7273, 7)\nLoaded filtered tracking: lab=CalMS21_task1, video=208838060, shape=(8589, 7)\nLoaded filtered tracking: lab=CalMS21_task1, video=231670784, shape=(8792, 7)\nLoaded filtered tracking: lab=CalMS21_task1, video=318982414, shape=(29764, 7)\nLoaded filtered tracking: lab=CalMS21_task1, video=400134184, shape=(12586, 7)\nLoaded filtered tracking: lab=CalMS21_task1, video=419458058, shape=(9261, 7)\nLoaded filtered tracking: lab=CalMS21_task1, video=427469519, shape=(6958, 7)\nLoaded filtered tracking: lab=CalMS21_task1, video=450233985, shape=(20755, 7)\nLoaded filtered tracking: lab=CalMS21_task1, video=450676531, shape=(19236, 7)\nLoaded filtered tracking: lab=CalMS21_task1, video=464367887, shape=(53004, 7)\nLoaded filtered tracking: lab=CalMS21_task1, video=467856973, shape=(14861, 7)\nLoaded filtered tracking: lab=CalMS21_task1, video=470631683, shape=(41370, 7)\nLoaded filtered tracking: lab=CalMS21_task1, video=537514760, shape=(81221, 7)\nLoaded filtered tracking: lab=CalMS21_task1, video=539221220, shape=(28133, 7)\nLoaded filtered tracking: lab=CalMS21_task1, video=549419715, shape=(11585, 7)\nLoaded filtered tracking: lab=CalMS21_task1, video=628121881, shape=(9660, 7)\nLoaded filtered tracking: lab=CalMS21_task1, video=654571905, shape=(26866, 7)\nLoaded filtered tracking: lab=CalMS21_task1, video=662173177, shape=(52017, 7)\nLoaded filtered tracking: lab=CalMS21_task1, video=682003698, shape=(23317, 7)\nLoaded filtered tracking: lab=CalMS21_task1, video=687327340, shape=(74942, 7)\nLoaded filtered tracking: lab=CalMS21_task1, video=733722340, shape=(2079, 7)\nLoaded filtered tracking: lab=CalMS21_task1, video=750259043, shape=(11123, 7)\nLoaded filtered tracking: lab=CalMS21_task1, video=764294971, shape=(7259, 7)\nLoaded filtered tracking: lab=CalMS21_task1, video=788202056, shape=(40586, 7)\nLoaded filtered tracking: lab=CalMS21_task1, video=792632641, shape=(14616, 7)\nLoaded filtered tracking: lab=CalMS21_task1, video=809307360, shape=(20160, 7)\nLoaded filtered tracking: lab=CalMS21_task1, video=821672987, shape=(22743, 7)\nLoaded filtered tracking: lab=CalMS21_task1, video=825457879, shape=(15281, 7)\nLoaded filtered tracking: lab=CalMS21_task1, video=856403727, shape=(5558, 7)\nLoaded filtered tracking: lab=CalMS21_task1, video=859139568, shape=(15624, 7)\nLoaded filtered tracking: lab=CalMS21_task1, video=865512963, shape=(68859, 7)\nLoaded filtered tracking: lab=CalMS21_task1, video=867864385, shape=(83328, 7)\nLoaded filtered tracking: lab=CalMS21_task1, video=869452571, shape=(40068, 7)\nLoaded filtered tracking: lab=CalMS21_task1, video=877503292, shape=(13678, 7)\nLoaded filtered tracking: lab=CalMS21_task1, video=898785933, shape=(10206, 7)\nLoaded filtered tracking: lab=CalMS21_task1, video=955650256, shape=(26229, 7)\nLoaded filtered tracking: lab=CalMS21_task1, video=962144409, shape=(15470, 7)\nLoaded filtered tracking: lab=CalMS21_task1, video=971638641, shape=(16436, 7)\nLoaded filtered tracking: lab=CalMS21_task1, video=987747695, shape=(34559, 7)\nLoaded filtered tracking: lab=CalMS21_task1, video=1011533560, shape=(22967, 7)\nLoaded filtered tracking: lab=CalMS21_task1, video=1036913557, shape=(30016, 7)\nLoaded filtered tracking: lab=CalMS21_task1, video=1062887364, shape=(5068, 7)\nLoaded filtered tracking: lab=CalMS21_task1, video=1087101060, shape=(24528, 7)\nLoaded filtered tracking: lab=CalMS21_task1, video=1089428234, shape=(41293, 7)\nLoaded filtered tracking: lab=CalMS21_task1, video=1094966159, shape=(25676, 7)\nLoaded filtered tracking: lab=CalMS21_task1, video=1104241687, shape=(18165, 7)\nLoaded filtered tracking: lab=CalMS21_task1, video=1184726818, shape=(13489, 7)\nLoaded filtered tracking: lab=CalMS21_task1, video=1185502231, shape=(47012, 7)\nLoaded filtered tracking: lab=CalMS21_task1, video=1236987558, shape=(9870, 7)\nLoaded filtered tracking: lab=CalMS21_task1, video=1254792963, shape=(27125, 7)\nLoaded filtered tracking: lab=CalMS21_task1, video=1283267722, shape=(10535, 7)\nLoaded filtered tracking: lab=CalMS21_task1, video=1296577409, shape=(69818, 7)\nLoaded filtered tracking: lab=CalMS21_task1, video=1311447023, shape=(17990, 7)\nLoaded filtered tracking: lab=CalMS21_task1, video=1343953527, shape=(10381, 7)\nLoaded filtered tracking: lab=CalMS21_task1, video=1377260232, shape=(23387, 7)\nLoaded filtered tracking: lab=CalMS21_task1, video=1380404564, shape=(14175, 7)\nLoaded filtered tracking: lab=CalMS21_task1, video=1391057636, shape=(28385, 7)\nLoaded filtered tracking: lab=CalMS21_task1, video=1396235717, shape=(7980, 7)\nLoaded filtered tracking: lab=CalMS21_task1, video=1401472494, shape=(10535, 7)\nLoaded filtered tracking: lab=CalMS21_task1, video=1476380868, shape=(16485, 7)\nLoaded filtered tracking: lab=CalMS21_task1, video=1495692909, shape=(49630, 7)\nLoaded filtered tracking: lab=CalMS21_task1, video=1520739403, shape=(28448, 7)\nLoaded filtered tracking: lab=CalMS21_task1, video=1522870122, shape=(68187, 7)\nLoaded filtered tracking: lab=CalMS21_task1, video=1529875185, shape=(19712, 7)\nLoaded filtered tracking: lab=CalMS21_task1, video=1561765718, shape=(7889, 7)\nLoaded filtered tracking: lab=CalMS21_task1, video=1578732722, shape=(3052, 7)\nLoaded filtered tracking: lab=CalMS21_task1, video=1640847308, shape=(17801, 7)\nLoaded filtered tracking: lab=CalMS21_task1, video=1682584277, shape=(52227, 7)\nLoaded filtered tracking: lab=CalMS21_task1, video=1694258334, shape=(5145, 7)\nLoaded filtered tracking: lab=CalMS21_task1, video=1715161851, shape=(11116, 7)\nLoaded filtered tracking: lab=CalMS21_task1, video=1733083885, shape=(63266, 7)\nLoaded filtered tracking: lab=CalMS21_task1, video=1767632325, shape=(46466, 7)\nLoaded filtered tracking: lab=CalMS21_task1, video=1784646165, shape=(10402, 7)\nLoaded filtered tracking: lab=CalMS21_task1, video=1817903677, shape=(53935, 7)\nLoaded filtered tracking: lab=CalMS21_task1, video=1842114740, shape=(55713, 7)\nLoaded filtered tracking: lab=CalMS21_task1, video=1852189475, shape=(11690, 7)\nLoaded filtered tracking: lab=CalMS21_task1, video=1860623663, shape=(15183, 7)\nLoaded filtered tracking: lab=CalMS21_task1, video=1865519837, shape=(33348, 7)\nLoaded filtered tracking: lab=CalMS21_task1, video=1885047067, shape=(28847, 7)\nLoaded filtered tracking: lab=CalMS21_task1, video=1937966765, shape=(8939, 7)\nLoaded filtered tracking: lab=CalMS21_task1, video=1987318234, shape=(5656, 7)\nLoaded filtered tracking: lab=CalMS21_task1, video=1993867941, shape=(3234, 7)\nLoaded filtered tracking: lab=CalMS21_task1, video=1999186993, shape=(3129, 7)\nLoaded filtered tracking: lab=CalMS21_task1, video=2006954681, shape=(34370, 7)\nLoaded filtered tracking: lab=CalMS21_task1, video=2007101618, shape=(31829, 7)\nLoaded filtered tracking: lab=CalMS21_task1, video=2021710297, shape=(7770, 7)\nLoaded filtered tracking: lab=CalMS21_task1, video=2032350850, shape=(35952, 7)\nLoaded filtered tracking: lab=CalMS21_task1, video=2097395874, shape=(43092, 7)\nLoaded filtered tracking: lab=CalMS21_task1, video=2123026052, shape=(14749, 7)\nLoaded filtered tracking: lab=CalMS21_task1, video=2126266703, shape=(12355, 7)\nLoaded filtered tracking: lab=CalMS21_task1, video=2133981046, shape=(30079, 7)\nLoaded filtered tracking: lab=CalMS21_task2, video=26836610, shape=(39221, 7)\nLoaded filtered tracking: lab=CalMS21_task2, video=34560832, shape=(29596, 7)\nLoaded filtered tracking: lab=CalMS21_task2, video=67749291, shape=(49042, 7)\nLoaded filtered tracking: lab=CalMS21_task2, video=117097929, shape=(54705, 7)\nLoaded filtered tracking: lab=CalMS21_task2, video=129168695, shape=(20272, 7)\nLoaded filtered tracking: lab=CalMS21_task2, video=137835184, shape=(31094, 7)\nLoaded filtered tracking: lab=CalMS21_task2, video=175235394, shape=(46893, 7)\nLoaded filtered tracking: lab=CalMS21_task2, video=176005687, shape=(28140, 7)\nLoaded filtered tracking: lab=CalMS21_task2, video=199610164, shape=(57050, 7)\nLoaded filtered tracking: lab=CalMS21_task2, video=206431495, shape=(104643, 7)\nLoaded filtered tracking: lab=CalMS21_task2, video=229268900, shape=(59472, 7)\nLoaded filtered tracking: lab=CalMS21_task2, video=263221825, shape=(37079, 7)\nLoaded filtered tracking: lab=CalMS21_task2, video=286946533, shape=(42889, 7)\nLoaded filtered tracking: lab=CalMS21_task2, video=290877417, shape=(68110, 7)\nLoaded filtered tracking: lab=CalMS21_task2, video=294892687, shape=(43694, 7)\nLoaded filtered tracking: lab=CalMS21_task2, video=297098028, shape=(82068, 7)\nLoaded filtered tracking: lab=CalMS21_task2, video=297176528, shape=(38486, 7)\nLoaded filtered tracking: lab=CalMS21_task2, video=305930325, shape=(23723, 7)\nLoaded filtered tracking: lab=CalMS21_task2, video=324868794, shape=(27496, 7)\nLoaded filtered tracking: lab=CalMS21_task2, video=396826388, shape=(16093, 7)\nLoaded filtered tracking: lab=CalMS21_task2, video=455201807, shape=(11704, 7)\nLoaded filtered tracking: lab=CalMS21_task2, video=524641856, shape=(42826, 7)\nLoaded filtered tracking: lab=CalMS21_task2, video=539518379, shape=(49301, 7)\nLoaded filtered tracking: lab=CalMS21_task2, video=609602822, shape=(20132, 7)\nLoaded filtered tracking: lab=CalMS21_task2, video=613882002, shape=(47040, 7)\nLoaded filtered tracking: lab=CalMS21_task2, video=618202345, shape=(39697, 7)\nLoaded filtered tracking: lab=CalMS21_task2, video=622818514, shape=(74606, 7)\nLoaded filtered tracking: lab=CalMS21_task2, video=627571315, shape=(77553, 7)\nLoaded filtered tracking: lab=CalMS21_task2, video=657847695, shape=(97167, 7)\nLoaded filtered tracking: lab=CalMS21_task2, video=712270439, shape=(88340, 7)\nLoaded filtered tracking: lab=CalMS21_task2, video=730848288, shape=(50631, 7)\nLoaded filtered tracking: lab=CalMS21_task2, video=735992493, shape=(20937, 7)\nLoaded filtered tracking: lab=CalMS21_task2, video=906875003, shape=(62230, 7)\nLoaded filtered tracking: lab=CalMS21_task2, video=907132469, shape=(42637, 7)\nLoaded filtered tracking: lab=CalMS21_task2, video=921231021, shape=(17598, 7)\nLoaded filtered tracking: lab=CalMS21_task2, video=943404911, shape=(103152, 7)\nLoaded filtered tracking: lab=CalMS21_task2, video=989586153, shape=(25326, 7)\nLoaded filtered tracking: lab=CalMS21_task2, video=1025257155, shape=(22351, 7)\nLoaded filtered tracking: lab=CalMS21_task2, video=1071207417, shape=(40635, 7)\nLoaded filtered tracking: lab=CalMS21_task2, video=1095059853, shape=(76244, 7)\nLoaded filtered tracking: lab=CalMS21_task2, video=1121857128, shape=(44709, 7)\nLoaded filtered tracking: lab=CalMS21_task2, video=1155324226, shape=(48517, 7)\nLoaded filtered tracking: lab=CalMS21_task2, video=1187380328, shape=(20699, 7)\nLoaded filtered tracking: lab=CalMS21_task2, video=1192622510, shape=(51359, 7)\nLoaded filtered tracking: lab=CalMS21_task2, video=1194961658, shape=(44380, 7)\nLoaded filtered tracking: lab=CalMS21_task2, video=1202353959, shape=(20279, 7)\nLoaded filtered tracking: lab=CalMS21_task2, video=1209045098, shape=(45976, 7)\nLoaded filtered tracking: lab=CalMS21_task2, video=1283628392, shape=(34615, 7)\nLoaded filtered tracking: lab=CalMS21_task2, video=1301095525, shape=(23870, 7)\nLoaded filtered tracking: lab=CalMS21_task2, video=1316696698, shape=(32970, 7)\nLoaded filtered tracking: lab=CalMS21_task2, video=1408282896, shape=(19019, 7)\nLoaded filtered tracking: lab=CalMS21_task2, video=1455057679, shape=(51296, 7)\nLoaded filtered tracking: lab=CalMS21_task2, video=1456488399, shape=(82159, 7)\nLoaded filtered tracking: lab=CalMS21_task2, video=1475799007, shape=(51709, 7)\nLoaded filtered tracking: lab=CalMS21_task2, video=1487348488, shape=(83132, 7)\nLoaded filtered tracking: lab=CalMS21_task2, video=1603961707, shape=(15820, 7)\nLoaded filtered tracking: lab=CalMS21_task2, video=1635298045, shape=(75313, 7)\nLoaded filtered tracking: lab=CalMS21_task2, video=1646053367, shape=(23184, 7)\nLoaded filtered tracking: lab=CalMS21_task2, video=1647072290, shape=(132587, 7)\nLoaded filtered tracking: lab=CalMS21_task2, video=1680784615, shape=(82236, 7)\nLoaded filtered tracking: lab=CalMS21_task2, video=1756586174, shape=(35567, 7)\nLoaded filtered tracking: lab=CalMS21_task2, video=1766041275, shape=(24955, 7)\nLoaded filtered tracking: lab=CalMS21_task2, video=1787046396, shape=(33943, 7)\nLoaded filtered tracking: lab=CalMS21_task2, video=1901912694, shape=(71197, 7)\nLoaded filtered tracking: lab=CalMS21_task2, video=1905980365, shape=(43428, 7)\nLoaded filtered tracking: lab=CalMS21_task2, video=1908605640, shape=(79870, 7)\nLoaded filtered tracking: lab=CalMS21_task2, video=1922635260, shape=(36197, 7)\nLoaded filtered tracking: lab=CalMS21_task2, video=1949495306, shape=(35854, 7)\nLoaded filtered tracking: lab=CalMS21_task2, video=1953275364, shape=(44933, 7)\nLoaded filtered tracking: lab=CalMS21_task2, video=1969815584, shape=(39116, 7)\nLoaded filtered tracking: lab=CalMS21_task2, video=2002724229, shape=(21581, 7)\nLoaded filtered tracking: lab=CalMS21_task2, video=2003281752, shape=(46179, 7)\nLoaded filtered tracking: lab=CalMS21_task2, video=2059639528, shape=(28721, 7)\nLoaded filtered tracking: lab=CalMS21_task2, video=2064198212, shape=(27496, 7)\nLoaded filtered tracking: lab=CalMS21_task2, video=2085007371, shape=(28413, 7)\nLoaded filtered tracking: lab=CalMS21_task2, video=2126514887, shape=(40628, 7)\nLoaded filtered tracking: lab=CautiousGiraffe, video=21954203, shape=(39821, 7)\nLoaded filtered tracking: lab=CautiousGiraffe, video=265592701, shape=(37909, 7)\nLoaded filtered tracking: lab=CautiousGiraffe, video=531143932, shape=(39688, 7)\nLoaded filtered tracking: lab=CautiousGiraffe, video=673614042, shape=(23287, 7)\nLoaded filtered tracking: lab=CautiousGiraffe, video=684541933, shape=(26557, 7)\nLoaded filtered tracking: lab=CautiousGiraffe, video=956938805, shape=(26499, 7)\nLoaded filtered tracking: lab=CautiousGiraffe, video=1341883680, shape=(28346, 7)\nLoaded filtered tracking: lab=CautiousGiraffe, video=1539773935, shape=(18354, 7)\nLoaded filtered tracking: lab=CautiousGiraffe, video=1657896715, shape=(20078, 7)\nLoaded filtered tracking: lab=CautiousGiraffe, video=1729143180, shape=(24175, 7)\nLoaded filtered tracking: lab=DeliriousFly, video=246051591, shape=(86840, 7)\nLoaded filtered tracking: lab=DeliriousFly, video=342269939, shape=(59392, 7)\nLoaded filtered tracking: lab=DeliriousFly, video=1378394926, shape=(85664, 7)\nLoaded filtered tracking: lab=DeliriousFly, video=1549344783, shape=(111712, 7)\nLoaded filtered tracking: lab=DeliriousFly, video=1649549863, shape=(79072, 7)\nLoaded filtered tracking: lab=DeliriousFly, video=1894091332, shape=(147792, 7)\nLoaded filtered tracking: lab=ElegantMink, video=277941336, shape=(3508, 7)\nLoaded filtered tracking: lab=ElegantMink, video=302673140, shape=(10609, 7)\nLoaded filtered tracking: lab=ElegantMink, video=464176860, shape=(114942, 7)\nLoaded filtered tracking: lab=ElegantMink, video=535058450, shape=(24784, 7)\nLoaded filtered tracking: lab=ElegantMink, video=551378303, shape=(53508, 7)\nLoaded filtered tracking: lab=ElegantMink, video=653760641, shape=(45060, 7)\nLoaded filtered tracking: lab=ElegantMink, video=685480647, shape=(38834, 7)\nLoaded filtered tracking: lab=ElegantMink, video=715350314, shape=(51344, 7)\nLoaded filtered tracking: lab=ElegantMink, video=833000693, shape=(1166, 7)\nLoaded filtered tracking: lab=ElegantMink, video=899685019, shape=(5803, 7)\nLoaded filtered tracking: lab=ElegantMink, video=903467416, shape=(23851, 7)\nLoaded filtered tracking: lab=ElegantMink, video=1045757672, shape=(1731, 7)\nLoaded filtered tracking: lab=ElegantMink, video=1176870705, shape=(93821, 7)\nLoaded filtered tracking: lab=ElegantMink, video=1430254576, shape=(151944, 7)\nLoaded filtered tracking: lab=ElegantMink, video=1504809717, shape=(33676, 7)\nLoaded filtered tracking: lab=ElegantMink, video=1512066687, shape=(24814, 7)\nLoaded filtered tracking: lab=ElegantMink, video=1567994610, shape=(84965, 7)\nLoaded filtered tracking: lab=ElegantMink, video=1715945836, shape=(53655, 7)\nLoaded filtered tracking: lab=ElegantMink, video=1989117401, shape=(14624, 7)\nLoaded filtered tracking: lab=GroovyShrew, video=1550138, shape=(79060, 7)\nLoaded filtered tracking: lab=GroovyShrew, video=5119542, shape=(63645, 7)\nLoaded filtered tracking: lab=GroovyShrew, video=502020762, shape=(73439, 7)\nLoaded filtered tracking: lab=GroovyShrew, video=593750722, shape=(112261, 7)\nLoaded filtered tracking: lab=GroovyShrew, video=768075914, shape=(53016, 7)\nLoaded filtered tracking: lab=GroovyShrew, video=870599401, shape=(67659, 7)\nLoaded filtered tracking: lab=GroovyShrew, video=991578442, shape=(89471, 7)\nLoaded filtered tracking: lab=GroovyShrew, video=1057262087, shape=(76356, 7)\nLoaded filtered tracking: lab=GroovyShrew, video=1118505887, shape=(39035, 7)\nLoaded filtered tracking: lab=GroovyShrew, video=1194163628, shape=(88948, 7)\nLoaded filtered tracking: lab=GroovyShrew, video=1205169652, shape=(120974, 7)\nLoaded filtered tracking: lab=GroovyShrew, video=1239537257, shape=(68079, 7)\nLoaded filtered tracking: lab=GroovyShrew, video=1582689575, shape=(63640, 7)\nLoaded filtered tracking: lab=GroovyShrew, video=1864237378, shape=(51323, 7)\nLoaded filtered tracking: lab=GroovyShrew, video=2090182106, shape=(29154, 7)\nLoaded filtered tracking: lab=GroovyShrew, video=2101706406, shape=(50622, 7)\nLoaded filtered tracking: lab=GroovyShrew, video=2114187055, shape=(63103, 7)\nLoaded filtered tracking: lab=InvincibleJellyfish, video=2161338, shape=(33215, 7)\nLoaded filtered tracking: lab=InvincibleJellyfish, video=29275550, shape=(32900, 7)\nLoaded filtered tracking: lab=InvincibleJellyfish, video=53935139, shape=(34643, 7)\nLoaded filtered tracking: lab=InvincibleJellyfish, video=129177073, shape=(33523, 7)\nLoaded filtered tracking: lab=InvincibleJellyfish, video=193645959, shape=(20713, 7)\nLoaded filtered tracking: lab=InvincibleJellyfish, video=262394522, shape=(41097, 7)\nLoaded filtered tracking: lab=InvincibleJellyfish, video=395110588, shape=(38017, 7)\nLoaded filtered tracking: lab=InvincibleJellyfish, video=415753207, shape=(15589, 7)\nLoaded filtered tracking: lab=InvincibleJellyfish, video=620922286, shape=(43232, 7)\nLoaded filtered tracking: lab=InvincibleJellyfish, video=639121386, shape=(13671, 7)\nLoaded filtered tracking: lab=InvincibleJellyfish, video=648966646, shape=(45969, 7)\nLoaded filtered tracking: lab=InvincibleJellyfish, video=764405255, shape=(43183, 7)\nLoaded filtered tracking: lab=InvincibleJellyfish, video=811519784, shape=(67270, 7)\nLoaded filtered tracking: lab=InvincibleJellyfish, video=1106234543, shape=(62475, 7)\nLoaded filtered tracking: lab=InvincibleJellyfish, video=1108562754, shape=(9163, 7)\nLoaded filtered tracking: lab=InvincibleJellyfish, video=1171931756, shape=(28315, 7)\nLoaded filtered tracking: lab=InvincibleJellyfish, video=1205744881, shape=(42868, 7)\nLoaded filtered tracking: lab=InvincibleJellyfish, video=1239915365, shape=(26285, 7)\nLoaded filtered tracking: lab=InvincibleJellyfish, video=1266015456, shape=(28021, 7)\nLoaded filtered tracking: lab=InvincibleJellyfish, video=1356022583, shape=(22666, 7)\nLoaded filtered tracking: lab=InvincibleJellyfish, video=1386249360, shape=(35973, 7)\nLoaded filtered tracking: lab=InvincibleJellyfish, video=1574549259, shape=(17535, 7)\nLoaded filtered tracking: lab=InvincibleJellyfish, video=1613426084, shape=(22547, 7)\nLoaded filtered tracking: lab=InvincibleJellyfish, video=1633648033, shape=(21413, 7)\nLoaded filtered tracking: lab=InvincibleJellyfish, video=1634074988, shape=(8414, 7)\nLoaded filtered tracking: lab=InvincibleJellyfish, video=1641568569, shape=(33320, 7)\nLoaded filtered tracking: lab=InvincibleJellyfish, video=1700300193, shape=(19635, 7)\nLoaded filtered tracking: lab=InvincibleJellyfish, video=1737795006, shape=(34048, 7)\nLoaded filtered tracking: lab=InvincibleJellyfish, video=1739671883, shape=(43274, 7)\nLoaded filtered tracking: lab=InvincibleJellyfish, video=1792494407, shape=(45675, 7)\nLoaded filtered tracking: lab=InvincibleJellyfish, video=2071866786, shape=(25452, 7)\nLoaded filtered tracking: lab=InvincibleJellyfish, video=2116375223, shape=(22281, 7)\nLoaded filtered tracking: lab=InvincibleJellyfish, video=2120950784, shape=(32949, 7)\nLoaded filtered tracking: lab=JovialSwallow, video=24807360, shape=(10722, 7)\nLoaded filtered tracking: lab=JovialSwallow, video=67652770, shape=(4705, 7)\nLoaded filtered tracking: lab=JovialSwallow, video=75620690, shape=(7719, 7)\nLoaded filtered tracking: lab=JovialSwallow, video=172389446, shape=(12240, 7)\nLoaded filtered tracking: lab=JovialSwallow, video=197599685, shape=(7252, 7)\nLoaded filtered tracking: lab=JovialSwallow, video=231479039, shape=(10524, 7)\nLoaded filtered tracking: lab=JovialSwallow, video=326963499, shape=(10913, 7)\nLoaded filtered tracking: lab=JovialSwallow, video=383642292, shape=(11559, 7)\nLoaded filtered tracking: lab=JovialSwallow, video=405720065, shape=(12829, 7)\nLoaded filtered tracking: lab=JovialSwallow, video=420937257, shape=(17855, 7)\nLoaded filtered tracking: lab=JovialSwallow, video=498244519, shape=(10087, 7)\nLoaded filtered tracking: lab=JovialSwallow, video=530737197, shape=(11240, 7)\nLoaded filtered tracking: lab=JovialSwallow, video=561469522, shape=(11717, 7)\nLoaded filtered tracking: lab=JovialSwallow, video=600302154, shape=(15762, 7)\nLoaded filtered tracking: lab=JovialSwallow, video=645933471, shape=(10649, 7)\nLoaded filtered tracking: lab=JovialSwallow, video=670490764, shape=(24995, 7)\nLoaded filtered tracking: lab=JovialSwallow, video=689840236, shape=(8859, 7)\nLoaded filtered tracking: lab=JovialSwallow, video=762151225, shape=(12509, 7)\nLoaded filtered tracking: lab=JovialSwallow, video=821473511, shape=(10088, 7)\nLoaded filtered tracking: lab=JovialSwallow, video=822941934, shape=(9788, 7)\nLoaded filtered tracking: lab=JovialSwallow, video=848229796, shape=(9983, 7)\nLoaded filtered tracking: lab=JovialSwallow, video=856443471, shape=(8529, 7)\nLoaded filtered tracking: lab=JovialSwallow, video=867736486, shape=(19882, 7)\nLoaded filtered tracking: lab=JovialSwallow, video=922188635, shape=(12925, 7)\nLoaded filtered tracking: lab=JovialSwallow, video=949931556, shape=(9222, 7)\nLoaded filtered tracking: lab=JovialSwallow, video=962830984, shape=(20580, 7)\nLoaded filtered tracking: lab=JovialSwallow, video=970336324, shape=(20443, 7)\nLoaded filtered tracking: lab=JovialSwallow, video=990352516, shape=(9386, 7)\nLoaded filtered tracking: lab=JovialSwallow, video=992602149, shape=(12356, 7)\nLoaded filtered tracking: lab=JovialSwallow, video=1096442159, shape=(25559, 7)\nLoaded filtered tracking: lab=JovialSwallow, video=1098020586, shape=(5477, 7)\nLoaded filtered tracking: lab=JovialSwallow, video=1164701770, shape=(9717, 7)\nLoaded filtered tracking: lab=JovialSwallow, video=1212894105, shape=(10049, 7)\nLoaded filtered tracking: lab=JovialSwallow, video=1231275297, shape=(14308, 7)\nLoaded filtered tracking: lab=JovialSwallow, video=1337647037, shape=(15731, 7)\nLoaded filtered tracking: lab=JovialSwallow, video=1350470271, shape=(14559, 7)\nLoaded filtered tracking: lab=JovialSwallow, video=1395387249, shape=(9399, 7)\nLoaded filtered tracking: lab=JovialSwallow, video=1436885521, shape=(10265, 7)\nLoaded filtered tracking: lab=JovialSwallow, video=1446413535, shape=(11153, 7)\nLoaded filtered tracking: lab=JovialSwallow, video=1494705948, shape=(17581, 7)\nLoaded filtered tracking: lab=JovialSwallow, video=1558497723, shape=(12132, 7)\nLoaded filtered tracking: lab=JovialSwallow, video=1562272988, shape=(7867, 7)\nLoaded filtered tracking: lab=JovialSwallow, video=1738679825, shape=(10669, 7)\nLoaded filtered tracking: lab=JovialSwallow, video=1774713914, shape=(14197, 7)\nLoaded filtered tracking: lab=JovialSwallow, video=1808343518, shape=(7015, 7)\nLoaded filtered tracking: lab=JovialSwallow, video=1842945543, shape=(17685, 7)\nLoaded filtered tracking: lab=JovialSwallow, video=1938183396, shape=(19891, 7)\nLoaded filtered tracking: lab=JovialSwallow, video=2046347857, shape=(15338, 7)\nLoaded filtered tracking: lab=JovialSwallow, video=2052386904, shape=(12358, 7)\nLoaded filtered tracking: lab=JovialSwallow, video=2062182880, shape=(15719, 7)\nLoaded filtered tracking: lab=JovialSwallow, video=2104860485, shape=(8144, 7)\nLoaded filtered tracking: lab=JovialSwallow, video=2121118582, shape=(10927, 7)\nLoaded filtered tracking: lab=LyricalHare, video=121552177, shape=(106345, 7)\nLoaded filtered tracking: lab=LyricalHare, video=145951819, shape=(74720, 7)\nLoaded filtered tracking: lab=LyricalHare, video=200061326, shape=(43295, 7)\nLoaded filtered tracking: lab=LyricalHare, video=291532073, shape=(80340, 7)\nLoaded filtered tracking: lab=LyricalHare, video=427791079, shape=(55250, 7)\nLoaded filtered tracking: lab=LyricalHare, video=472812034, shape=(74980, 7)\nLoaded filtered tracking: lab=LyricalHare, video=577720259, shape=(33075, 7)\nLoaded filtered tracking: lab=LyricalHare, video=789316660, shape=(82150, 7)\nLoaded filtered tracking: lab=LyricalHare, video=835416988, shape=(45565, 7)\nLoaded filtered tracking: lab=LyricalHare, video=906127418, shape=(59405, 7)\nLoaded filtered tracking: lab=LyricalHare, video=1023347338, shape=(13045, 7)\nLoaded filtered tracking: lab=LyricalHare, video=1117939052, shape=(56300, 7)\nLoaded filtered tracking: lab=LyricalHare, video=1254387004, shape=(89255, 7)\nLoaded filtered tracking: lab=LyricalHare, video=1300539709, shape=(61075, 7)\nLoaded filtered tracking: lab=LyricalHare, video=1321123524, shape=(1070, 7)\nLoaded filtered tracking: lab=LyricalHare, video=1326742968, shape=(51965, 7)\nLoaded filtered tracking: lab=LyricalHare, video=1383872208, shape=(47150, 7)\nLoaded filtered tracking: lab=LyricalHare, video=1516355035, shape=(47335, 7)\nLoaded filtered tracking: lab=LyricalHare, video=1633006253, shape=(60650, 7)\nLoaded filtered tracking: lab=LyricalHare, video=1675029002, shape=(29445, 7)\nLoaded filtered tracking: lab=LyricalHare, video=1814043806, shape=(39945, 7)\nLoaded filtered tracking: lab=LyricalHare, video=1859239379, shape=(61190, 7)\nLoaded filtered tracking: lab=LyricalHare, video=2054411054, shape=(40985, 7)\nLoaded filtered tracking: lab=LyricalHare, video=2076865965, shape=(30590, 7)\nLoaded filtered tracking: lab=NiftyGoldfinch, video=101686631, shape=(42305, 7)\nLoaded filtered tracking: lab=NiftyGoldfinch, video=425399867, shape=(191520, 7)\nLoaded filtered tracking: lab=NiftyGoldfinch, video=960582355, shape=(160625, 7)\nLoaded filtered tracking: lab=NiftyGoldfinch, video=984382096, shape=(170565, 7)\nLoaded filtered tracking: lab=NiftyGoldfinch, video=1223664597, shape=(185145, 7)\nLoaded filtered tracking: lab=NiftyGoldfinch, video=1233426234, shape=(193220, 7)\nLoaded filtered tracking: lab=NiftyGoldfinch, video=1269061587, shape=(122285, 7)\nLoaded filtered tracking: lab=NiftyGoldfinch, video=1539947238, shape=(129430, 7)\nLoaded filtered tracking: lab=NiftyGoldfinch, video=1654932902, shape=(117250, 7)\nLoaded filtered tracking: lab=NiftyGoldfinch, video=1705186224, shape=(162780, 7)\nLoaded filtered tracking: lab=NiftyGoldfinch, video=2103620137, shape=(90960, 7)\nLoaded filtered tracking: lab=PleasantMeerkat, video=599439, shape=(32380, 7)\nLoaded filtered tracking: lab=PleasantMeerkat, video=62373697, shape=(4986, 7)\nLoaded filtered tracking: lab=PleasantMeerkat, video=74645358, shape=(16272, 7)\nLoaded filtered tracking: lab=PleasantMeerkat, video=201760488, shape=(6264, 7)\nLoaded filtered tracking: lab=PleasantMeerkat, video=263433603, shape=(24756, 7)\nLoaded filtered tracking: lab=PleasantMeerkat, video=331245147, shape=(2504, 7)\nLoaded filtered tracking: lab=PleasantMeerkat, video=365886350, shape=(1174, 7)\nLoaded filtered tracking: lab=PleasantMeerkat, video=372539857, shape=(8777, 7)\nLoaded filtered tracking: lab=PleasantMeerkat, video=408761044, shape=(19756, 7)\nLoaded filtered tracking: lab=PleasantMeerkat, video=498458760, shape=(2093, 7)\nLoaded filtered tracking: lab=PleasantMeerkat, video=754974789, shape=(106, 7)\nLoaded filtered tracking: lab=PleasantMeerkat, video=843765839, shape=(5411, 7)\nLoaded filtered tracking: lab=PleasantMeerkat, video=886803007, shape=(2535, 7)\nLoaded filtered tracking: lab=PleasantMeerkat, video=908567232, shape=(1645, 7)\nLoaded filtered tracking: lab=PleasantMeerkat, video=932755484, shape=(7140, 7)\nLoaded filtered tracking: lab=PleasantMeerkat, video=974867366, shape=(470, 7)\nLoaded filtered tracking: lab=PleasantMeerkat, video=1089480847, shape=(9623, 7)\nLoaded filtered tracking: lab=PleasantMeerkat, video=1133952127, shape=(16213, 7)\nLoaded filtered tracking: lab=PleasantMeerkat, video=1177059156, shape=(11042, 7)\nLoaded filtered tracking: lab=PleasantMeerkat, video=1212669906, shape=(1819, 7)\nLoaded filtered tracking: lab=PleasantMeerkat, video=1266446081, shape=(2178, 7)\nLoaded filtered tracking: lab=PleasantMeerkat, video=1350372183, shape=(36506, 7)\nLoaded filtered tracking: lab=PleasantMeerkat, video=1396183780, shape=(18108, 7)\nLoaded filtered tracking: lab=PleasantMeerkat, video=1441309015, shape=(3181, 7)\nLoaded filtered tracking: lab=PleasantMeerkat, video=1445631188, shape=(628, 7)\nLoaded filtered tracking: lab=PleasantMeerkat, video=1450482262, shape=(8079, 7)\nLoaded filtered tracking: lab=PleasantMeerkat, video=1475649798, shape=(11177, 7)\nLoaded filtered tracking: lab=PleasantMeerkat, video=1603176175, shape=(2669, 7)\nLoaded filtered tracking: lab=PleasantMeerkat, video=1749697095, shape=(16313, 7)\nLoaded filtered tracking: lab=PleasantMeerkat, video=1769027005, shape=(17641, 7)\nLoaded filtered tracking: lab=PleasantMeerkat, video=1780823248, shape=(3750, 7)\nLoaded filtered tracking: lab=PleasantMeerkat, video=1933653459, shape=(1847, 7)\nLoaded filtered tracking: lab=PleasantMeerkat, video=1986134767, shape=(4450, 7)\nLoaded filtered tracking: lab=PleasantMeerkat, video=2002810725, shape=(7997, 7)\nLoaded filtered tracking: lab=PleasantMeerkat, video=2050697745, shape=(544, 7)\nLoaded filtered tracking: lab=ReflectiveManatee, video=315178669, shape=(26691, 7)\nLoaded filtered tracking: lab=ReflectiveManatee, video=390030205, shape=(24563, 7)\nLoaded filtered tracking: lab=ReflectiveManatee, video=498093416, shape=(32382, 7)\nLoaded filtered tracking: lab=ReflectiveManatee, video=531131153, shape=(20636, 7)\nLoaded filtered tracking: lab=ReflectiveManatee, video=631163660, shape=(31612, 7)\nLoaded filtered tracking: lab=ReflectiveManatee, video=748834872, shape=(19369, 7)\nLoaded filtered tracking: lab=ReflectiveManatee, video=828175681, shape=(18312, 7)\nLoaded filtered tracking: lab=ReflectiveManatee, video=912929235, shape=(46095, 7)\nLoaded filtered tracking: lab=ReflectiveManatee, video=920161729, shape=(29253, 7)\nLoaded filtered tracking: lab=ReflectiveManatee, video=1270744933, shape=(48818, 7)\nLoaded filtered tracking: lab=ReflectiveManatee, video=1458170545, shape=(35924, 7)\nLoaded filtered tracking: lab=ReflectiveManatee, video=1663417188, shape=(24857, 7)\nLoaded filtered tracking: lab=ReflectiveManatee, video=1728439177, shape=(30408, 7)\nLoaded filtered tracking: lab=ReflectiveManatee, video=1859225348, shape=(47033, 7)\nLoaded filtered tracking: lab=ReflectiveManatee, video=1977236166, shape=(42399, 7)\nLoaded filtered tracking: lab=ReflectiveManatee, video=1986679638, shape=(27601, 7)\nLoaded filtered tracking: lab=ReflectiveManatee, video=2037289010, shape=(22470, 7)\nLoaded filtered tracking: lab=ReflectiveManatee, video=2040167035, shape=(21602, 7)\nLoaded filtered tracking: lab=ReflectiveManatee, video=2068280177, shape=(24458, 7)\nLoaded filtered tracking: lab=ReflectiveManatee, video=2115562740, shape=(50561, 7)\nLoaded filtered tracking: lab=SparklingTapir, video=58714936, shape=(7637, 7)\nLoaded filtered tracking: lab=SparklingTapir, video=159008741, shape=(8099, 7)\nLoaded filtered tracking: lab=SparklingTapir, video=160640380, shape=(9072, 7)\nLoaded filtered tracking: lab=SparklingTapir, video=276682473, shape=(1778, 7)\nLoaded filtered tracking: lab=SparklingTapir, video=385126201, shape=(3696, 7)\nLoaded filtered tracking: lab=SparklingTapir, video=397029082, shape=(34384, 7)\nLoaded filtered tracking: lab=SparklingTapir, video=413085535, shape=(3094, 7)\nLoaded filtered tracking: lab=SparklingTapir, video=426173640, shape=(45332, 7)\nLoaded filtered tracking: lab=SparklingTapir, video=432830442, shape=(6951, 7)\nLoaded filtered tracking: lab=SparklingTapir, video=449008671, shape=(6790, 7)\nLoaded filtered tracking: lab=SparklingTapir, video=480344368, shape=(3731, 7)\nLoaded filtered tracking: lab=SparklingTapir, video=504327699, shape=(7707, 7)\nLoaded filtered tracking: lab=SparklingTapir, video=530169751, shape=(8330, 7)\nLoaded filtered tracking: lab=SparklingTapir, video=606764826, shape=(4858, 7)\nLoaded filtered tracking: lab=SparklingTapir, video=670910750, shape=(25270, 7)\nLoaded filtered tracking: lab=SparklingTapir, video=696042182, shape=(8246, 7)\nLoaded filtered tracking: lab=SparklingTapir, video=738250759, shape=(10612, 7)\nLoaded filtered tracking: lab=SparklingTapir, video=762080930, shape=(6944, 7)\nLoaded filtered tracking: lab=SparklingTapir, video=961245099, shape=(2254, 7)\nLoaded filtered tracking: lab=SparklingTapir, video=975035187, shape=(7182, 7)\nLoaded filtered tracking: lab=SparklingTapir, video=981363505, shape=(1169, 7)\nLoaded filtered tracking: lab=SparklingTapir, video=1063876199, shape=(714, 7)\nLoaded filtered tracking: lab=SparklingTapir, video=1086931654, shape=(10514, 7)\nLoaded filtered tracking: lab=SparklingTapir, video=1105416294, shape=(11641, 7)\nLoaded filtered tracking: lab=SparklingTapir, video=1127527475, shape=(10948, 7)\nLoaded filtered tracking: lab=SparklingTapir, video=1237008561, shape=(280, 7)\nLoaded filtered tracking: lab=SparklingTapir, video=1264225733, shape=(34132, 7)\nLoaded filtered tracking: lab=SparklingTapir, video=1289903608, shape=(1855, 7)\nLoaded filtered tracking: lab=SparklingTapir, video=1320793692, shape=(21917, 7)\nLoaded filtered tracking: lab=SparklingTapir, video=1323634202, shape=(6699, 7)\nLoaded filtered tracking: lab=SparklingTapir, video=1324626464, shape=(3248, 7)\nLoaded filtered tracking: lab=SparklingTapir, video=1370864222, shape=(1169, 7)\nLoaded filtered tracking: lab=SparklingTapir, video=1467427271, shape=(11872, 7)\nLoaded filtered tracking: lab=SparklingTapir, video=1481654558, shape=(4564, 7)\nLoaded filtered tracking: lab=SparklingTapir, video=1497516919, shape=(1960, 7)\nLoaded filtered tracking: lab=SparklingTapir, video=1500351368, shape=(2597, 7)\nLoaded filtered tracking: lab=SparklingTapir, video=1517321425, shape=(18277, 7)\nLoaded filtered tracking: lab=SparklingTapir, video=1548588128, shape=(1841, 7)\nLoaded filtered tracking: lab=SparklingTapir, video=1565453395, shape=(6762, 7)\nLoaded filtered tracking: lab=SparklingTapir, video=1580642046, shape=(7203, 7)\nLoaded filtered tracking: lab=SparklingTapir, video=1625103025, shape=(1519, 7)\nLoaded filtered tracking: lab=SparklingTapir, video=1668409009, shape=(259, 7)\nLoaded filtered tracking: lab=SparklingTapir, video=1696052337, shape=(3094, 7)\nLoaded filtered tracking: lab=SparklingTapir, video=1700880638, shape=(2632, 7)\nLoaded filtered tracking: lab=SparklingTapir, video=1702238292, shape=(7861, 7)\nLoaded filtered tracking: lab=SparklingTapir, video=1707173618, shape=(16968, 7)\nLoaded filtered tracking: lab=SparklingTapir, video=1727709528, shape=(9037, 7)\nLoaded filtered tracking: lab=SparklingTapir, video=1742534206, shape=(4312, 7)\nLoaded filtered tracking: lab=SparklingTapir, video=1863117852, shape=(133, 7)\nLoaded filtered tracking: lab=SparklingTapir, video=1882614402, shape=(13174, 7)\nLoaded filtered tracking: lab=SparklingTapir, video=1942017841, shape=(1841, 7)\nLoaded filtered tracking: lab=SparklingTapir, video=1981250306, shape=(16954, 7)\nLoaded filtered tracking: lab=SparklingTapir, video=2030735934, shape=(588, 7)\nLoaded filtered tracking: lab=SparklingTapir, video=2036366833, shape=(8232, 7)\nLoaded filtered tracking: lab=TranquilPanther, video=62660378, shape=(75803, 7)\nLoaded filtered tracking: lab=TranquilPanther, video=357532314, shape=(12163, 7)\nLoaded filtered tracking: lab=TranquilPanther, video=431495718, shape=(58267, 7)\nLoaded filtered tracking: lab=TranquilPanther, video=477037938, shape=(78150, 7)\nLoaded filtered tracking: lab=TranquilPanther, video=489560891, shape=(35634, 7)\nLoaded filtered tracking: lab=TranquilPanther, video=651966739, shape=(71913, 7)\nLoaded filtered tracking: lab=TranquilPanther, video=675356666, shape=(49306, 7)\nLoaded filtered tracking: lab=TranquilPanther, video=675808983, shape=(29580, 7)\nLoaded filtered tracking: lab=TranquilPanther, video=962638464, shape=(4229, 7)\nLoaded filtered tracking: lab=TranquilPanther, video=1057775501, shape=(12199, 7)\nLoaded filtered tracking: lab=TranquilPanther, video=1360332361, shape=(7645, 7)\nLoaded filtered tracking: lab=TranquilPanther, video=1456719978, shape=(9798, 7)\nLoaded filtered tracking: lab=TranquilPanther, video=1462669248, shape=(34175, 7)\nLoaded filtered tracking: lab=TranquilPanther, video=1510465149, shape=(17667, 7)\nLoaded filtered tracking: lab=TranquilPanther, video=1557355665, shape=(12932, 7)\nLoaded filtered tracking: lab=TranquilPanther, video=1582739342, shape=(94453, 7)\nLoaded filtered tracking: lab=TranquilPanther, video=1651649809, shape=(11718, 7)\nLoaded filtered tracking: lab=TranquilPanther, video=1732555338, shape=(34818, 7)\nLoaded filtered tracking: lab=TranquilPanther, video=1735658729, shape=(79411, 7)\nLoaded filtered tracking: lab=TranquilPanther, video=1831430173, shape=(10589, 7)\nLoaded filtered tracking: lab=TranquilPanther, video=1831501720, shape=(11897, 7)\nLoaded filtered tracking: lab=TranquilPanther, video=1895797255, shape=(9512, 7)\nLoaded filtered tracking: lab=TranquilPanther, video=1907520217, shape=(30236, 7)\nLoaded filtered tracking: lab=TranquilPanther, video=1979655353, shape=(29760, 7)\nLoaded filtered tracking: lab=TranquilPanther, video=2138781893, shape=(44671, 7)\nLoaded filtered tracking: lab=UppityFerret, video=50183736, shape=(66360, 7)\nLoaded filtered tracking: lab=UppityFerret, video=86824777, shape=(19796, 7)\nLoaded filtered tracking: lab=UppityFerret, video=203484552, shape=(12446, 7)\nLoaded filtered tracking: lab=UppityFerret, video=403002745, shape=(53326, 7)\nLoaded filtered tracking: lab=UppityFerret, video=414099215, shape=(108892, 7)\nLoaded filtered tracking: lab=UppityFerret, video=532567355, shape=(26222, 7)\nLoaded filtered tracking: lab=UppityFerret, video=602691466, shape=(66458, 7)\nLoaded filtered tracking: lab=UppityFerret, video=659002593, shape=(99638, 7)\nLoaded filtered tracking: lab=UppityFerret, video=815797699, shape=(54068, 7)\nLoaded filtered tracking: lab=UppityFerret, video=1085105007, shape=(25578, 7)\nLoaded filtered tracking: lab=UppityFerret, video=1131517877, shape=(59206, 7)\nLoaded filtered tracking: lab=UppityFerret, video=1170955420, shape=(17052, 7)\nLoaded filtered tracking: lab=UppityFerret, video=1197493895, shape=(57876, 7)\nLoaded filtered tracking: lab=UppityFerret, video=1241990995, shape=(4536, 7)\nLoaded filtered tracking: lab=UppityFerret, video=1266852458, shape=(37394, 7)\nLoaded filtered tracking: lab=UppityFerret, video=1335286655, shape=(90020, 7)\nLoaded filtered tracking: lab=UppityFerret, video=1610683375, shape=(139510, 7)\nLoaded filtered tracking: lab=UppityFerret, video=1725214092, shape=(27342, 7)\nLoaded filtered tracking: lab=UppityFerret, video=1960237444, shape=(79744, 7)\nLoaded filtered tracking: lab=UppityFerret, video=2045808129, shape=(77588, 7)\nLoaded filtered tracking: lab=UppityFerret, video=2104375029, shape=(21070, 7)\nCombined filtered tracking shape: (35716527, 7)\n",
          "output_type": "stream"
        }
      ],
      "execution_count": null
    },
    {
      "cell_type": "code",
      "source": [
        "# Count the true labels in the original test labels\n",
        "#print(\"True label counts in the data used for inference:\")\n",
        "# Use the un-encoded labels before they went into the DataLoader\n",
        "#print(df_merged['action'].value_counts())\n",
        "#unique_values_array = df_merged['bodypart'].unique()\n",
        "\n",
        "#print(\"Unique values (as a NumPy array):\")\n",
        "#print(unique_values_array)\n",
        "#print(len(unique_values_array))\n",
        "#unique_action_array = df_merged['action'].unique()\n",
        "\n",
        "#print(\"Unique values (as a NumPy array):\")\n",
        "#print(unique_action_array)\n",
        "#print(len(unique_action_array))\n",
        "#print(df_merged['action'].value_counts())"
      ],
      "metadata": {
        "trusted": true,
        "execution": {
          "iopub.status.busy": "2025-10-11T05:36:24.453194Z",
          "iopub.execute_input": "2025-10-11T05:36:24.453503Z",
          "iopub.status.idle": "2025-10-11T05:36:24.457892Z",
          "shell.execute_reply.started": "2025-10-11T05:36:24.453476Z",
          "shell.execute_reply": "2025-10-11T05:36:24.456957Z"
        },
        "id": "5u9tYAU6aecs"
      },
      "outputs": [],
      "execution_count": null
    },
    {
      "cell_type": "code",
      "source": [
        "# ====================================================\n",
        "# Cell: Join df_merged ⟷ df_full_tracking_all and ADD target_x / target_y\n",
        "#  - Preserves df_merged row count (LEFT JOIN)\n",
        "#  - Keys: lab_id, video_id, video_frame, target_id, bodypart==target_bodypart\n",
        "# ====================================================\n",
        "\n",
        "def to_long_pose(df):\n",
        "    \"\"\"Normalize tracking df into long format: ['lab_id','video_id','video_frame','mouse_id','bodypart','x','y']\"\"\"\n",
        "    df = df.copy()\n",
        "    # unify frame name\n",
        "    if 'video_frame' not in df.columns and 'frame' in df.columns:\n",
        "        df = df.rename(columns={'frame':'video_frame'})\n",
        "    base = [c for c in ['lab_id','video_id','video_frame','mouse_id'] if c in df.columns]\n",
        "\n",
        "    # already long?\n",
        "    if 'bodypart' in df.columns and {'x','y'}.issubset(df.columns):\n",
        "        return df[base + ['bodypart','x','y']].copy()\n",
        "\n",
        "    cols = df.columns.tolist()\n",
        "    # Pattern A: x_<bp>, y_<bp>\n",
        "    x_bp = [(c, c.split('x_',1)[1]) for c in cols\n",
        "            if c.startswith('x_') and len(c) > 2 and f\"y_{c.split('x_',1)[1]}\" in cols]\n",
        "    # Pattern B: <bp>_x, <bp>_y\n",
        "    bpx = [(c, c[:-2]) for c in cols if c.endswith('_x') and (c[:-2] + '_y') in cols]\n",
        "\n",
        "    long_rows = []\n",
        "    if x_bp or bpx:\n",
        "        if x_bp:\n",
        "            for xcol, bp in x_bp:\n",
        "                ycol = f'y_{bp}'\n",
        "                sub = df[base + [xcol, ycol]].copy()\n",
        "                sub['bodypart'] = bp\n",
        "                sub = sub.rename(columns={xcol:'x', ycol:'y'})\n",
        "                long_rows.append(sub)\n",
        "        if bpx:\n",
        "            for xcol, bp in bpx:\n",
        "                ycol = f'{bp}_y'\n",
        "                sub = df[base + [xcol, ycol]].copy()\n",
        "                sub['bodypart'] = bp\n",
        "                sub = sub.rename(columns={xcol:'x', ycol:'y'})\n",
        "                long_rows.append(sub)\n",
        "        return pd.concat(long_rows, ignore_index=True)[base + ['bodypart','x','y']]\n",
        "\n",
        "    # Fallback center\n",
        "    out = df[base].copy()\n",
        "    if {'x','y'}.issubset(df.columns):\n",
        "        out['x'] = df['x']; out['y'] = df['y']; out['bodypart'] = 'body_center'\n",
        "    elif {'body_center_x','body_center_y'}.issubset(df.columns):\n",
        "        out['x'] = df['body_center_x']; out['y'] = df['body_center_y']; out['bodypart'] = 'body_center'\n",
        "    else:\n",
        "        guess_x = [c for c in cols if re.search(r'(^x$|_x$|^x_|center_x$)', c)]\n",
        "        guess_y = [c for c in cols if re.search(r'(^y$|_y$|^y_|center_y$)', c)]\n",
        "        out['x'] = df[guess_x].mean(axis=1, skipna=True) if guess_x else np.nan\n",
        "        out['y'] = df[guess_y].mean(axis=1, skipna=True) if guess_y else np.nan\n",
        "        out['bodypart'] = 'center_mean'\n",
        "    return out[base + ['bodypart','x','y']]\n",
        "\n",
        "# --- Safety: inputs\n",
        "if 'df_merged' not in globals():\n",
        "    raise RuntimeError(\"df_merged is not defined.\")\n",
        "if 'df_full_tracking_all' not in globals():\n",
        "    raise RuntimeError(\"df_full_tracking_all is not defined.\")\n",
        "\n",
        "# --- Dtype align on df_merged\n",
        "df_merged['lab_id']      = df_merged['lab_id'].astype(str)\n",
        "df_merged['video_id']    = df_merged['video_id'].astype(str)\n",
        "df_merged['video_frame'] = df_merged['video_frame'].astype(int, errors='ignore')\n",
        "df_merged['target_id']   = df_merged['target_id'].fillna(0).astype(int, errors='ignore')\n",
        "\n",
        "# --- Normalize tracking to long + dtypes\n",
        "trk_long = to_long_pose(df_full_tracking_all)\n",
        "for k in ['lab_id','video_id']:\n",
        "    if k in trk_long.columns:\n",
        "        trk_long[k] = trk_long[k].astype(str)\n",
        "if 'video_frame' in trk_long.columns:\n",
        "    trk_long['video_frame'] = trk_long['video_frame'].astype(int, errors='ignore')\n",
        "if 'mouse_id' in trk_long.columns:\n",
        "    trk_long['mouse_id'] = trk_long['mouse_id'].astype(int, errors='ignore')\n",
        "\n",
        "# --- Build right table with target coords\n",
        "right_tbl = trk_long.rename(columns={\n",
        "    'mouse_id': 'target_id',\n",
        "    'bodypart': 'target_bodypart',\n",
        "    'x': 'target_x',\n",
        "    'y': 'target_y'\n",
        "})[['lab_id','video_id','video_frame','target_id','target_bodypart','target_x','target_y']]\n",
        "\n",
        "# --- LEFT JOIN on same bodypart\n",
        "df_joined = df_merged.merge(\n",
        "    right_tbl,\n",
        "    left_on = ['lab_id','video_id','video_frame','target_id','bodypart'],\n",
        "    right_on= ['lab_id','video_id','video_frame','target_id','target_bodypart'],\n",
        "    how='left'\n",
        ")\n",
        "\n",
        "# If you want canonical column names, keep 'target_x','target_y' and 'target_bodypart'\n",
        "# Drop the duplicate right-side key column (target_bodypart) only if the left already had one:\n",
        "# (If left also had 'target_bodypart', prefer the joined one where available.)\n",
        "if 'target_bodypart_x' in df_joined.columns and 'target_bodypart_y' in df_joined.columns:\n",
        "    # rare case from earlier merges; ignore\n",
        "    pass\n",
        "elif 'target_bodypart' in df_joined.columns and 'target_bodypart_y' in df_joined.columns:\n",
        "    # also rare; ignore\n",
        "    pass\n",
        "else:\n",
        "    # nothing to do; 'target_bodypart' is the right-side column we just created\n",
        "\n",
        "    # If you want to keep only one column name for the bodypart on the right:\n",
        "    pass\n",
        "\n",
        "print(\"Joined shape (rows preserved from df_merged):\", df_joined.shape)\n",
        "#print(\"Has target_x/target_y?\", 'target_x' in df_joined.columns, 'target_y' in df_joined.columns)\n",
        "#display(df_joined.head(8)[['lab_id','video_id','video_frame','mouse_id','bodypart','x','y','target_id','action','target_bodypart','target_x','target_y']])\n"
      ],
      "metadata": {
        "trusted": true,
        "execution": {
          "iopub.status.busy": "2025-10-11T05:36:24.45912Z",
          "iopub.execute_input": "2025-10-11T05:36:24.459554Z",
          "iopub.status.idle": "2025-10-11T05:37:40.195722Z",
          "shell.execute_reply.started": "2025-10-11T05:36:24.459533Z",
          "shell.execute_reply": "2025-10-11T05:37:40.194872Z"
        },
        "id": "AAD0puDNaect",
        "outputId": "a622b21e-2998-4e19-d692-b6131fd050c9"
      },
      "outputs": [
        {
          "name": "stdout",
          "text": "Joined shape (rows preserved from df_merged): (36268844, 12)\n",
          "output_type": "stream"
        }
      ],
      "execution_count": null
    },
    {
      "cell_type": "code",
      "source": [
        "display(df_joined[(df_joined['video_id'] == '1335286655') & (df_joined['video_frame'] == 1807)])"
      ],
      "metadata": {
        "trusted": true,
        "execution": {
          "iopub.status.busy": "2025-10-11T05:37:40.196898Z",
          "iopub.execute_input": "2025-10-11T05:37:40.197804Z",
          "iopub.status.idle": "2025-10-11T05:37:43.006064Z",
          "shell.execute_reply.started": "2025-10-11T05:37:40.197767Z",
          "shell.execute_reply": "2025-10-11T05:37:43.005189Z"
        },
        "id": "Nm7RYdWwaecw",
        "outputId": "cb14e3b1-31f3-43ba-e02c-d886ce3a95d8"
      },
      "outputs": [
        {
          "output_type": "display_data",
          "data": {
            "text/plain": "                lab_id    video_id  video_frame  mouse_id       bodypart  \\\n35826136  UppityFerret  1335286655         1807         2    body_center   \n35826137  UppityFerret  1335286655         1807         2       ear_left   \n35826138  UppityFerret  1335286655         1807         2      ear_right   \n35826139  UppityFerret  1335286655         1807         2       hip_left   \n35826140  UppityFerret  1335286655         1807         2      hip_right   \n35826141  UppityFerret  1335286655         1807         2   lateral_left   \n35826142  UppityFerret  1335286655         1807         2  lateral_right   \n35826143  UppityFerret  1335286655         1807         2           nose   \n35826144  UppityFerret  1335286655         1807         2        spine_1   \n35826145  UppityFerret  1335286655         1807         2        spine_2   \n35826146  UppityFerret  1335286655         1807         2      tail_base   \n35826147  UppityFerret  1335286655         1807         2  tail_middle_1   \n35826148  UppityFerret  1335286655         1807         2  tail_middle_2   \n35826149  UppityFerret  1335286655         1807         2       tail_tip   \n\n                   x           y  target_id        action target_bodypart  \\\n35826136  429.630768  108.147102          1  sniffgenital     body_center   \n35826137  375.574280   95.136604          1  sniffgenital        ear_left   \n35826138  386.850861   78.758545          1  sniffgenital       ear_right   \n35826139  434.237671  128.292130          1  sniffgenital        hip_left   \n35826140  452.410065  101.695229          1  sniffgenital       hip_right   \n35826141  407.644318  115.246956          1  sniffgenital    lateral_left   \n35826142  421.875519   90.393761          1  sniffgenital   lateral_right   \n35826143  361.141388   72.578590          1  sniffgenital            nose   \n35826144  407.004211   99.216606          1  sniffgenital         spine_1   \n35826145  451.778870  119.910675          1  sniffgenital         spine_2   \n35826146  472.372131  133.425903          1  sniffgenital       tail_base   \n35826147  507.958771  156.838791          1  sniffgenital   tail_middle_1   \n35826148  540.942688  187.656174          1  sniffgenital   tail_middle_2   \n35826149  558.555969  223.739548          1  sniffgenital        tail_tip   \n\n            target_x    target_y  \n35826136  291.476257   89.354416  \n35826137  274.162140  128.112534  \n35826138  256.082672  117.866013  \n35826139  312.042694   92.608467  \n35826140  289.378113   69.918938  \n35826141  295.105072  109.398476  \n35826142  272.420288   88.149788  \n35826143  259.204254  142.733337  \n35826144  277.383545  105.047379  \n35826145  305.981140   77.128525  \n35826146  323.148651   67.910645  \n35826147  354.356384   62.743118  \n35826148  539.579407  189.707748  \n35826149  451.600891   98.500092  ",
            "text/html": "<div>\n<style scoped>\n    .dataframe tbody tr th:only-of-type {\n        vertical-align: middle;\n    }\n\n    .dataframe tbody tr th {\n        vertical-align: top;\n    }\n\n    .dataframe thead th {\n        text-align: right;\n    }\n</style>\n<table border=\"1\" class=\"dataframe\">\n  <thead>\n    <tr style=\"text-align: right;\">\n      <th></th>\n      <th>lab_id</th>\n      <th>video_id</th>\n      <th>video_frame</th>\n      <th>mouse_id</th>\n      <th>bodypart</th>\n      <th>x</th>\n      <th>y</th>\n      <th>target_id</th>\n      <th>action</th>\n      <th>target_bodypart</th>\n      <th>target_x</th>\n      <th>target_y</th>\n    </tr>\n  </thead>\n  <tbody>\n    <tr>\n      <th>35826136</th>\n      <td>UppityFerret</td>\n      <td>1335286655</td>\n      <td>1807</td>\n      <td>2</td>\n      <td>body_center</td>\n      <td>429.630768</td>\n      <td>108.147102</td>\n      <td>1</td>\n      <td>sniffgenital</td>\n      <td>body_center</td>\n      <td>291.476257</td>\n      <td>89.354416</td>\n    </tr>\n    <tr>\n      <th>35826137</th>\n      <td>UppityFerret</td>\n      <td>1335286655</td>\n      <td>1807</td>\n      <td>2</td>\n      <td>ear_left</td>\n      <td>375.574280</td>\n      <td>95.136604</td>\n      <td>1</td>\n      <td>sniffgenital</td>\n      <td>ear_left</td>\n      <td>274.162140</td>\n      <td>128.112534</td>\n    </tr>\n    <tr>\n      <th>35826138</th>\n      <td>UppityFerret</td>\n      <td>1335286655</td>\n      <td>1807</td>\n      <td>2</td>\n      <td>ear_right</td>\n      <td>386.850861</td>\n      <td>78.758545</td>\n      <td>1</td>\n      <td>sniffgenital</td>\n      <td>ear_right</td>\n      <td>256.082672</td>\n      <td>117.866013</td>\n    </tr>\n    <tr>\n      <th>35826139</th>\n      <td>UppityFerret</td>\n      <td>1335286655</td>\n      <td>1807</td>\n      <td>2</td>\n      <td>hip_left</td>\n      <td>434.237671</td>\n      <td>128.292130</td>\n      <td>1</td>\n      <td>sniffgenital</td>\n      <td>hip_left</td>\n      <td>312.042694</td>\n      <td>92.608467</td>\n    </tr>\n    <tr>\n      <th>35826140</th>\n      <td>UppityFerret</td>\n      <td>1335286655</td>\n      <td>1807</td>\n      <td>2</td>\n      <td>hip_right</td>\n      <td>452.410065</td>\n      <td>101.695229</td>\n      <td>1</td>\n      <td>sniffgenital</td>\n      <td>hip_right</td>\n      <td>289.378113</td>\n      <td>69.918938</td>\n    </tr>\n    <tr>\n      <th>35826141</th>\n      <td>UppityFerret</td>\n      <td>1335286655</td>\n      <td>1807</td>\n      <td>2</td>\n      <td>lateral_left</td>\n      <td>407.644318</td>\n      <td>115.246956</td>\n      <td>1</td>\n      <td>sniffgenital</td>\n      <td>lateral_left</td>\n      <td>295.105072</td>\n      <td>109.398476</td>\n    </tr>\n    <tr>\n      <th>35826142</th>\n      <td>UppityFerret</td>\n      <td>1335286655</td>\n      <td>1807</td>\n      <td>2</td>\n      <td>lateral_right</td>\n      <td>421.875519</td>\n      <td>90.393761</td>\n      <td>1</td>\n      <td>sniffgenital</td>\n      <td>lateral_right</td>\n      <td>272.420288</td>\n      <td>88.149788</td>\n    </tr>\n    <tr>\n      <th>35826143</th>\n      <td>UppityFerret</td>\n      <td>1335286655</td>\n      <td>1807</td>\n      <td>2</td>\n      <td>nose</td>\n      <td>361.141388</td>\n      <td>72.578590</td>\n      <td>1</td>\n      <td>sniffgenital</td>\n      <td>nose</td>\n      <td>259.204254</td>\n      <td>142.733337</td>\n    </tr>\n    <tr>\n      <th>35826144</th>\n      <td>UppityFerret</td>\n      <td>1335286655</td>\n      <td>1807</td>\n      <td>2</td>\n      <td>spine_1</td>\n      <td>407.004211</td>\n      <td>99.216606</td>\n      <td>1</td>\n      <td>sniffgenital</td>\n      <td>spine_1</td>\n      <td>277.383545</td>\n      <td>105.047379</td>\n    </tr>\n    <tr>\n      <th>35826145</th>\n      <td>UppityFerret</td>\n      <td>1335286655</td>\n      <td>1807</td>\n      <td>2</td>\n      <td>spine_2</td>\n      <td>451.778870</td>\n      <td>119.910675</td>\n      <td>1</td>\n      <td>sniffgenital</td>\n      <td>spine_2</td>\n      <td>305.981140</td>\n      <td>77.128525</td>\n    </tr>\n    <tr>\n      <th>35826146</th>\n      <td>UppityFerret</td>\n      <td>1335286655</td>\n      <td>1807</td>\n      <td>2</td>\n      <td>tail_base</td>\n      <td>472.372131</td>\n      <td>133.425903</td>\n      <td>1</td>\n      <td>sniffgenital</td>\n      <td>tail_base</td>\n      <td>323.148651</td>\n      <td>67.910645</td>\n    </tr>\n    <tr>\n      <th>35826147</th>\n      <td>UppityFerret</td>\n      <td>1335286655</td>\n      <td>1807</td>\n      <td>2</td>\n      <td>tail_middle_1</td>\n      <td>507.958771</td>\n      <td>156.838791</td>\n      <td>1</td>\n      <td>sniffgenital</td>\n      <td>tail_middle_1</td>\n      <td>354.356384</td>\n      <td>62.743118</td>\n    </tr>\n    <tr>\n      <th>35826148</th>\n      <td>UppityFerret</td>\n      <td>1335286655</td>\n      <td>1807</td>\n      <td>2</td>\n      <td>tail_middle_2</td>\n      <td>540.942688</td>\n      <td>187.656174</td>\n      <td>1</td>\n      <td>sniffgenital</td>\n      <td>tail_middle_2</td>\n      <td>539.579407</td>\n      <td>189.707748</td>\n    </tr>\n    <tr>\n      <th>35826149</th>\n      <td>UppityFerret</td>\n      <td>1335286655</td>\n      <td>1807</td>\n      <td>2</td>\n      <td>tail_tip</td>\n      <td>558.555969</td>\n      <td>223.739548</td>\n      <td>1</td>\n      <td>sniffgenital</td>\n      <td>tail_tip</td>\n      <td>451.600891</td>\n      <td>98.500092</td>\n    </tr>\n  </tbody>\n</table>\n</div>"
          },
          "metadata": {}
        }
      ],
      "execution_count": null
    },
    {
      "cell_type": "code",
      "source": [
        "# --- Setup ---\n",
        "OUTPUT_DIR = '/kaggle/working/data'\n",
        "os.makedirs(OUTPUT_DIR, exist_ok=True)\n",
        "\n",
        "file_path = os.path.join(OUTPUT_DIR, 'data_final.parquet')\n",
        "df_joined.to_parquet(file_path, index=False)"
      ],
      "metadata": {
        "trusted": true,
        "execution": {
          "iopub.status.busy": "2025-10-11T05:37:43.007162Z",
          "iopub.execute_input": "2025-10-11T05:37:43.007478Z",
          "iopub.status.idle": "2025-10-11T05:38:16.999336Z",
          "shell.execute_reply.started": "2025-10-11T05:37:43.007452Z",
          "shell.execute_reply": "2025-10-11T05:38:16.998449Z"
        },
        "id": "picFPviyaecx"
      },
      "outputs": [],
      "execution_count": null
    },
    {
      "cell_type": "code",
      "source": [
        "del df_merged\n",
        "del df_full_tracking_all\n",
        "del df_full_tracking\n",
        "del train_df\n",
        "del valid_df\n",
        "del df_tracking\n",
        "del df_annotation\n",
        "#del _6\n",
        "gc.collect()"
      ],
      "metadata": {
        "trusted": true,
        "execution": {
          "iopub.status.busy": "2025-10-11T06:00:05.285851Z",
          "iopub.execute_input": "2025-10-11T06:00:05.286866Z",
          "iopub.status.idle": "2025-10-11T06:00:05.953719Z",
          "shell.execute_reply.started": "2025-10-11T06:00:05.286836Z",
          "shell.execute_reply": "2025-10-11T06:00:05.952753Z"
        },
        "id": "ILuCHUuMaecx",
        "outputId": "11260721-91bc-42c4-d41a-8fd89e9e10d6"
      },
      "outputs": [
        {
          "execution_count": 12,
          "output_type": "execute_result",
          "data": {
            "text/plain": "8"
          },
          "metadata": {}
        }
      ],
      "execution_count": null
    },
    {
      "cell_type": "code",
      "source": [
        "ID_COLS = ['mouse_id', 'target_id', 'target_bodypart']\n",
        "df_joined.drop(columns=ID_COLS, axis=1, inplace=True)\n",
        "#display(df_joined.head())"
      ],
      "metadata": {
        "trusted": true,
        "execution": {
          "iopub.status.busy": "2025-10-11T06:00:23.265324Z",
          "iopub.execute_input": "2025-10-11T06:00:23.265617Z",
          "iopub.status.idle": "2025-10-11T06:00:27.682185Z",
          "shell.execute_reply.started": "2025-10-11T06:00:23.265596Z",
          "shell.execute_reply": "2025-10-11T06:00:27.681389Z"
        },
        "id": "BOasWLLLaecy"
      },
      "outputs": [],
      "execution_count": null
    },
    {
      "cell_type": "code",
      "source": [
        "rename_map = {}\n",
        "if 'x' in df_joined.columns:         rename_map['x'] = 'mouse_A_x'\n",
        "if 'y' in df_joined.columns:         rename_map['y'] = 'mouse_A_y'\n",
        "if 'target_x' in df_joined.columns:  rename_map['target_x'] = 'mouse_B_x'\n",
        "if 'target_y' in df_joined.columns:  rename_map['target_y'] = 'mouse_B_y'\n",
        "\n",
        "df_joined = df_joined.rename(columns=rename_map)\n",
        "\n",
        "# move `action` to the far right (if present)\n",
        "cols = df_joined.columns.tolist()\n",
        "if 'action' in cols:\n",
        "    cols_no_action = [c for c in cols if c != 'action']\n",
        "    cols = cols_no_action + ['action']\n",
        "    df_joined = df_joined[cols]\n",
        "\n",
        "print(\"Renamed columns applied. Shape:\", df_joined.shape)\n",
        "display(df_joined.head())"
      ],
      "metadata": {
        "trusted": true,
        "execution": {
          "iopub.status.busy": "2025-10-11T06:01:53.346583Z",
          "iopub.execute_input": "2025-10-11T06:01:53.346919Z",
          "iopub.status.idle": "2025-10-11T06:01:59.71889Z",
          "shell.execute_reply.started": "2025-10-11T06:01:53.346895Z",
          "shell.execute_reply": "2025-10-11T06:01:59.718109Z"
        },
        "id": "Pzt5aELvaecz",
        "outputId": "b84db4af-2725-4665-ecc5-ab3ad81e869d"
      },
      "outputs": [
        {
          "name": "stdout",
          "text": "Renamed columns applied. Shape: (36268844, 9)\n",
          "output_type": "stream"
        },
        {
          "output_type": "display_data",
          "data": {
            "text/plain": "           lab_id  video_id  video_frame                   bodypart  \\\n0  AdaptableSnail  44566106            4                body_center   \n1  AdaptableSnail  44566106            4                   ear_left   \n2  AdaptableSnail  44566106            4                  ear_right   \n3  AdaptableSnail  44566106            4  headpiece_bottombackright   \n4  AdaptableSnail  44566106            4  headpiece_bottomfrontleft   \n\n    mouse_A_x   mouse_A_y   mouse_B_x   mouse_B_y action  \n0  338.654999  468.442993  338.654999  468.442993   rear  \n1  396.808014  460.204010  396.808014  460.204010   rear  \n2  329.583008  514.291016  329.583008  514.291016   rear  \n3  378.066010  483.789001  378.066010  483.789001   rear  \n4  370.579010  541.814026  370.579010  541.814026   rear  ",
            "text/html": "<div>\n<style scoped>\n    .dataframe tbody tr th:only-of-type {\n        vertical-align: middle;\n    }\n\n    .dataframe tbody tr th {\n        vertical-align: top;\n    }\n\n    .dataframe thead th {\n        text-align: right;\n    }\n</style>\n<table border=\"1\" class=\"dataframe\">\n  <thead>\n    <tr style=\"text-align: right;\">\n      <th></th>\n      <th>lab_id</th>\n      <th>video_id</th>\n      <th>video_frame</th>\n      <th>bodypart</th>\n      <th>mouse_A_x</th>\n      <th>mouse_A_y</th>\n      <th>mouse_B_x</th>\n      <th>mouse_B_y</th>\n      <th>action</th>\n    </tr>\n  </thead>\n  <tbody>\n    <tr>\n      <th>0</th>\n      <td>AdaptableSnail</td>\n      <td>44566106</td>\n      <td>4</td>\n      <td>body_center</td>\n      <td>338.654999</td>\n      <td>468.442993</td>\n      <td>338.654999</td>\n      <td>468.442993</td>\n      <td>rear</td>\n    </tr>\n    <tr>\n      <th>1</th>\n      <td>AdaptableSnail</td>\n      <td>44566106</td>\n      <td>4</td>\n      <td>ear_left</td>\n      <td>396.808014</td>\n      <td>460.204010</td>\n      <td>396.808014</td>\n      <td>460.204010</td>\n      <td>rear</td>\n    </tr>\n    <tr>\n      <th>2</th>\n      <td>AdaptableSnail</td>\n      <td>44566106</td>\n      <td>4</td>\n      <td>ear_right</td>\n      <td>329.583008</td>\n      <td>514.291016</td>\n      <td>329.583008</td>\n      <td>514.291016</td>\n      <td>rear</td>\n    </tr>\n    <tr>\n      <th>3</th>\n      <td>AdaptableSnail</td>\n      <td>44566106</td>\n      <td>4</td>\n      <td>headpiece_bottombackright</td>\n      <td>378.066010</td>\n      <td>483.789001</td>\n      <td>378.066010</td>\n      <td>483.789001</td>\n      <td>rear</td>\n    </tr>\n    <tr>\n      <th>4</th>\n      <td>AdaptableSnail</td>\n      <td>44566106</td>\n      <td>4</td>\n      <td>headpiece_bottomfrontleft</td>\n      <td>370.579010</td>\n      <td>541.814026</td>\n      <td>370.579010</td>\n      <td>541.814026</td>\n      <td>rear</td>\n    </tr>\n  </tbody>\n</table>\n</div>"
          },
          "metadata": {}
        }
      ],
      "execution_count": null
    },
    {
      "cell_type": "code",
      "source": [
        "KEYS = ['lab_id','video_id','video_frame']\n",
        "g = df_joined.groupby(KEYS, observed=True)\n",
        "\n",
        "# Bounds across BOTH mice per group\n",
        "Aminx = g['mouse_A_x'].transform('min'); Bminx = g['mouse_B_x'].transform('min')\n",
        "Amaxx = g['mouse_A_x'].transform('max'); Bmaxx = g['mouse_B_x'].transform('max')\n",
        "Aminy = g['mouse_A_y'].transform('min'); Bminy = g['mouse_B_y'].transform('min')\n",
        "Amaxy = g['mouse_A_y'].transform('max'); Bmaxy = g['mouse_B_y'].transform('max')\n",
        "\n",
        "xmin = np.minimum(Aminx, Bminx)\n",
        "xmax = np.maximum(Amaxx, Bmaxx)\n",
        "ymin = np.minimum(Aminy, Bminy)\n",
        "ymax = np.maximum(Amaxy, Bmaxy)\n",
        "\n",
        "# Avoid divide-by-zero\n",
        "eps = 1e-6\n",
        "den_x = (xmax - xmin).where((xmax - xmin) != 0, other=1.0)\n",
        "den_y = (ymax - ymin).where((ymax - ymin) != 0, other=1.0)\n",
        "\n",
        "# In-place normalize to [0,1]\n",
        "df_joined['mouse_A_x'] = ((df_joined['mouse_A_x'] - xmin) / (den_x + eps)).clip(0, 1)\n",
        "df_joined['mouse_A_y'] = ((df_joined['mouse_A_y'] - ymin) / (den_y + eps)).clip(0, 1)\n",
        "df_joined['mouse_B_x'] = ((df_joined['mouse_B_x'] - xmin) / (den_x + eps)).clip(0, 1)\n",
        "df_joined['mouse_B_y'] = ((df_joined['mouse_B_y'] - ymin) / (den_y + eps)).clip(0, 1)\n",
        "\n",
        "print(\"Normalized in place. Shape:\", df_joined.shape)\n",
        "display(df_joined.head())"
      ],
      "metadata": {
        "trusted": true,
        "execution": {
          "iopub.status.busy": "2025-10-11T06:02:29.785465Z",
          "iopub.execute_input": "2025-10-11T06:02:29.786379Z",
          "iopub.status.idle": "2025-10-11T06:02:46.344882Z",
          "shell.execute_reply.started": "2025-10-11T06:02:29.786346Z",
          "shell.execute_reply": "2025-10-11T06:02:46.344206Z"
        },
        "id": "_iqcwVxbaec0",
        "outputId": "16f40816-f027-42d5-bd5e-ddcf1360c30d"
      },
      "outputs": [
        {
          "name": "stdout",
          "text": "Normalized in place. Shape: (36268844, 9)\n",
          "output_type": "stream"
        },
        {
          "output_type": "display_data",
          "data": {
            "text/plain": "           lab_id  video_id  video_frame                   bodypart  \\\n0  AdaptableSnail  44566106            4                body_center   \n1  AdaptableSnail  44566106            4                   ear_left   \n2  AdaptableSnail  44566106            4                  ear_right   \n3  AdaptableSnail  44566106            4  headpiece_bottombackright   \n4  AdaptableSnail  44566106            4  headpiece_bottomfrontleft   \n\n   mouse_A_x  mouse_A_y  mouse_B_x  mouse_B_y action  \n0   0.263233   0.264633   0.263233   0.264633   rear  \n1   0.892431   0.198089   0.892431   0.198089   rear  \n2   0.165076   0.634933   0.165076   0.634933   rear  \n3   0.689648   0.388578   0.689648   0.388578   rear  \n4   0.608641   0.857228   0.608641   0.857228   rear  ",
            "text/html": "<div>\n<style scoped>\n    .dataframe tbody tr th:only-of-type {\n        vertical-align: middle;\n    }\n\n    .dataframe tbody tr th {\n        vertical-align: top;\n    }\n\n    .dataframe thead th {\n        text-align: right;\n    }\n</style>\n<table border=\"1\" class=\"dataframe\">\n  <thead>\n    <tr style=\"text-align: right;\">\n      <th></th>\n      <th>lab_id</th>\n      <th>video_id</th>\n      <th>video_frame</th>\n      <th>bodypart</th>\n      <th>mouse_A_x</th>\n      <th>mouse_A_y</th>\n      <th>mouse_B_x</th>\n      <th>mouse_B_y</th>\n      <th>action</th>\n    </tr>\n  </thead>\n  <tbody>\n    <tr>\n      <th>0</th>\n      <td>AdaptableSnail</td>\n      <td>44566106</td>\n      <td>4</td>\n      <td>body_center</td>\n      <td>0.263233</td>\n      <td>0.264633</td>\n      <td>0.263233</td>\n      <td>0.264633</td>\n      <td>rear</td>\n    </tr>\n    <tr>\n      <th>1</th>\n      <td>AdaptableSnail</td>\n      <td>44566106</td>\n      <td>4</td>\n      <td>ear_left</td>\n      <td>0.892431</td>\n      <td>0.198089</td>\n      <td>0.892431</td>\n      <td>0.198089</td>\n      <td>rear</td>\n    </tr>\n    <tr>\n      <th>2</th>\n      <td>AdaptableSnail</td>\n      <td>44566106</td>\n      <td>4</td>\n      <td>ear_right</td>\n      <td>0.165076</td>\n      <td>0.634933</td>\n      <td>0.165076</td>\n      <td>0.634933</td>\n      <td>rear</td>\n    </tr>\n    <tr>\n      <th>3</th>\n      <td>AdaptableSnail</td>\n      <td>44566106</td>\n      <td>4</td>\n      <td>headpiece_bottombackright</td>\n      <td>0.689648</td>\n      <td>0.388578</td>\n      <td>0.689648</td>\n      <td>0.388578</td>\n      <td>rear</td>\n    </tr>\n    <tr>\n      <th>4</th>\n      <td>AdaptableSnail</td>\n      <td>44566106</td>\n      <td>4</td>\n      <td>headpiece_bottomfrontleft</td>\n      <td>0.608641</td>\n      <td>0.857228</td>\n      <td>0.608641</td>\n      <td>0.857228</td>\n      <td>rear</td>\n    </tr>\n  </tbody>\n</table>\n</div>"
          },
          "metadata": {}
        }
      ],
      "execution_count": null
    },
    {
      "cell_type": "code",
      "source": [
        "gc.collect()"
      ],
      "metadata": {
        "trusted": true,
        "execution": {
          "iopub.status.busy": "2025-10-11T06:07:50.786442Z",
          "iopub.execute_input": "2025-10-11T06:07:50.787009Z",
          "iopub.status.idle": "2025-10-11T06:07:51.547028Z",
          "shell.execute_reply.started": "2025-10-11T06:07:50.786951Z",
          "shell.execute_reply": "2025-10-11T06:07:51.546296Z"
        },
        "id": "m-YNXuIVaec0",
        "outputId": "0114fed0-57ba-40c9-99b7-f50f1c794c5f"
      },
      "outputs": [
        {
          "execution_count": 18,
          "output_type": "execute_result",
          "data": {
            "text/plain": "0"
          },
          "metadata": {}
        }
      ],
      "execution_count": null
    },
    {
      "cell_type": "code",
      "source": [
        "OUT_DIR = \"/kaggle/working/skeleton_imgs\"\n",
        "CSV_PATH = \"/kaggle/working/skeleton_labels.csv\"\n",
        "IMG_SIZE = 256  # square canvas\n",
        "\n",
        "os.makedirs(OUT_DIR, exist_ok=True)\n",
        "\n",
        "# Optional edges; points are always drawn even if an edge is missing\n",
        "EDGES = [\n",
        "    (\"head\", \"nose\"),\n",
        "    (\"head\", \"ear_left\"), (\"head\", \"ear_right\"),\n",
        "    (\"head\", \"neck\"),\n",
        "    (\"neck\", \"spine_1\"), (\"spine_1\", \"spine_2\"),\n",
        "    (\"spine_2\", \"body_center\"),\n",
        "    (\"body_center\", \"lateral_left\"), (\"body_center\", \"lateral_right\"),\n",
        "    (\"spine_2\", \"hip_left\"), (\"spine_2\", \"hip_right\"),\n",
        "    (\"body_center\", \"tail_base\"),\n",
        "    (\"tail_base\", \"tail_midpoint\"),\n",
        "    (\"tail_midpoint\", \"tail_middle_1\"),\n",
        "    (\"tail_middle_1\", \"tail_middle_2\"),\n",
        "    (\"tail_middle_2\", \"tail_tip\"),\n",
        "    # headpiece rings (drawn only if present)\n",
        "    (\"headpiece_topbackleft\",\"headpiece_topbackright\"),\n",
        "    (\"headpiece_topfrontleft\",\"headpiece_topfrontright\"),\n",
        "    (\"headpiece_topbackleft\",\"headpiece_topfrontleft\"),\n",
        "    (\"headpiece_topbackright\",\"headpiece_topfrontright\"),\n",
        "    (\"headpiece_bottombackleft\",\"headpiece_bottombackright\"),\n",
        "    (\"headpiece_bottomfrontleft\",\"headpiece_bottomfrontright\"),\n",
        "    (\"headpiece_bottombackleft\",\"headpiece_bottomfrontleft\"),\n",
        "    (\"headpiece_bottombackright\",\"headpiece_bottomfrontright\"),\n",
        "    (\"headpiece_bottomfrontleft\",\"head\"),\n",
        "    (\"headpiece_bottomfrontright\",\"head\"),\n",
        "    (\"headpiece_bottombackleft\",\"head\"),\n",
        "    (\"headpiece_bottombackright\",\"head\"),\n",
        "]\n",
        "\n",
        "def to_px(u, v, size=IMG_SIZE):\n",
        "    # u,v in [0,1] -> pixel coords (col,row) with origin top-left\n",
        "    u = 0.0 if pd.isna(u) else float(u)\n",
        "    v = 0.0 if pd.isna(v) else float(v)\n",
        "    x = int(np.clip(u, 0, 1) * (size - 1))\n",
        "    y = int(np.clip(v, 0, 1) * (size - 1))\n",
        "    return x, y\n",
        "\n",
        "labels_rows = []\n",
        "\n",
        "# Group by frame\n",
        "for (vid, fr), g in df_joined.groupby([\"video_id\", \"video_frame\"], observed=True):\n",
        "    # Frame label = majority action in this frame\n",
        "    act_mode = g[\"action\"].mode()\n",
        "    act = act_mode.iloc[0] if not act_mode.empty else g[\"action\"].iloc[0]\n",
        "\n",
        "    # Collect bodypart -> (u,v) dicts for A and B\n",
        "    ptsA, ptsB = {}, {}\n",
        "    for _, r in g.iterrows():\n",
        "        bp = r[\"bodypart\"]\n",
        "        if pd.notna(r[\"mouse_A_x\"]) and pd.notna(r[\"mouse_A_y\"]):\n",
        "            ptsA[bp] = (float(r[\"mouse_A_x\"]), float(r[\"mouse_A_y\"]))\n",
        "        if pd.notna(r[\"mouse_B_x\"]) and pd.notna(r[\"mouse_B_y\"]):\n",
        "            ptsB[bp] = (float(r[\"mouse_B_x\"]), float(r[\"mouse_B_y\"]))\n",
        "\n",
        "    if not ptsA and not ptsB:\n",
        "        continue  # nothing to draw\n",
        "\n",
        "    # Canvas (OpenCV is BGR)\n",
        "    img = np.zeros((IMG_SIZE, IMG_SIZE, 3), dtype=np.uint8)\n",
        "\n",
        "    # Draw edges first (A in RED, B in GREEN)\n",
        "    for a, b in EDGES:\n",
        "        if a in ptsA and b in ptsA:\n",
        "            x1,y1 = to_px(*ptsA[a]); x2,y2 = to_px(*ptsA[b])\n",
        "            cv2.line(img, (x1,y1), (x2,y2), (0,0,255), 2)\n",
        "        if a in ptsB and b in ptsB:\n",
        "            x1,y1 = to_px(*ptsB[a]); x2,y2 = to_px(*ptsB[b])\n",
        "            cv2.line(img, (x1,y1), (x2,y2), (0,255,0), 2)\n",
        "\n",
        "    # Draw joints (A in RED, B in GREEN)\n",
        "    for bp, (u,v) in ptsA.items():\n",
        "        x,y = to_px(u,v)\n",
        "        cv2.circle(img, (x,y), 2, (0,0,255), -1)\n",
        "    for bp, (u,v) in ptsB.items():\n",
        "        x,y = to_px(u,v)\n",
        "        cv2.circle(img, (x,y), 2, (0,255,0), -1)\n",
        "\n",
        "    # Save image\n",
        "    fn = f\"{vid}_{int(fr)}.png\"\n",
        "    fp = os.path.join(OUT_DIR, fn)\n",
        "    cv2.imwrite(fp, img)\n",
        "\n",
        "    labels_rows.append([fp, vid, int(fr), act])\n",
        "\n",
        "# Save labels CSV\n",
        "labels = pd.DataFrame(labels_rows, columns=[\"image_path\",\"video_id\",\"video_frame\",\"action\"])\n",
        "labels.to_csv(CSV_PATH, index=False)\n",
        "\n",
        "print(f\"Saved {len(labels)} images -> {OUT_DIR}\")\n",
        "print(f\"Labels CSV -> {CSV_PATH}\")\n",
        "labels.head()\n"
      ],
      "metadata": {
        "trusted": true,
        "execution": {
          "iopub.status.busy": "2025-10-11T06:08:02.726135Z",
          "iopub.execute_input": "2025-10-11T06:08:02.726443Z"
        },
        "id": "Avnw25Vgaec1"
      },
      "outputs": [],
      "execution_count": null
    },
    {
      "cell_type": "code",
      "source": [
        "# Define the folder to compress and the name of the zip file\n",
        "source_folder = '/kaggle/working/'\n",
        "zip_filename = 'kaggle_working_output.zip'\n",
        "\n",
        "# Create the zip file\n",
        "with zipfile.ZipFile(zip_filename, 'w', zipfile.ZIP_DEFLATED) as zipf:\n",
        "    for root, dirs, files in os.walk(source_folder):\n",
        "        for file in files:\n",
        "            file_path = os.path.join(root, file)\n",
        "            # Add file to the zip archive, relative to the source folder\n",
        "            zipf.write(file_path, os.path.relpath(file_path, source_folder))\n",
        "\n",
        "print(f\"Compressed all files into: {zip_filename}. Now download this file from the Output panel.\")"
      ],
      "metadata": {
        "trusted": true,
        "id": "N1Mhl98eaec3"
      },
      "outputs": [],
      "execution_count": null
    },
    {
      "cell_type": "code",
      "source": [
        "# --- Setup ---\n",
        "OUTPUT_DIR = '/kaggle/working/stratified_split'\n",
        "os.makedirs(OUTPUT_DIR, exist_ok=True)\n",
        "\n",
        "# Assuming your DataFrame is named 'df_merged'\n",
        "# If df_merged is NOT defined, uncomment the next line to create a dummy:\n",
        "# data = {'col1': range(100), 'action': ['A'] * 90 + ['B'] * 10}\n",
        "# df_merged = pd.DataFrame(data)\n",
        "\n",
        "# --- 1. Define Ratio and Stratify Target ---\n",
        "# We want 90% in the 'train' file and 10% in the 'test' file.\n",
        "TEST_SIZE_RATIO = 0.10  # 10% for the smaller file\n",
        "y_actions = df_merged['action']\n",
        "\n",
        "print(f\"Total rows: {len(df_merged):,}\")\n",
        "print(\"-\" * 40)\n",
        "\n",
        "# --- 2. Perform Stratified Split ---\n",
        "# This function splits the DataFrame's indices, using the 'action' column\n",
        "# to ensure both sets maintain the same proportion of classes.\n",
        "# We use indices to avoid creating two full copies of the DataFrame in memory.\n",
        "\n",
        "# Since df_merged.index is the array-like input, the output is indices.\n",
        "train_indices, test_indices = train_test_split(\n",
        "    df_merged.index,\n",
        "    test_size=TEST_SIZE_RATIO,\n",
        "    shuffle=True,\n",
        "    random_state=42,\n",
        "    # Stratify ensures the split respects the class distribution\n",
        "    stratify=y_actions\n",
        ")\n",
        "\n",
        "# --- 3. Save 90% (Train) Data ---\n",
        "df_train = df_merged.loc[train_indices]\n",
        "train_file_path = os.path.join(OUTPUT_DIR, 'data_train_90percent.parquet')\n",
        "df_train.to_parquet(train_file_path, index=False)\n",
        "\n",
        "# Optional verification\n",
        "unique_train = df_train['action'].nunique()\n",
        "\n",
        "print(f\"Saved {len(df_train):,} rows to data_train_90percent.parquet (90%)\")\n",
        "print(f\"  --> Unique actions in file: {unique_train}\")\n",
        "\n",
        "# --- 4. Save 10% (Test) Data ---\n",
        "df_test = df_merged.loc[test_indices]\n",
        "test_file_path = os.path.join(OUTPUT_DIR, 'data_test_10percent.parquet')\n",
        "df_test.to_parquet(test_file_path, index=False)\n",
        "\n",
        "# Optional verification\n",
        "unique_test = df_test['action'].nunique()\n",
        "\n",
        "print(f\"Saved {len(df_test):,} rows to data_test_10percent.parquet (10%)\")\n",
        "print(f\"  --> Unique actions in file: {unique_test}\")\n",
        "\n",
        "print(\"-\" * 40)\n",
        "print(f\"Partitioning complete. Files saved in '{OUTPUT_DIR}'.\")"
      ],
      "metadata": {
        "trusted": true,
        "execution": {
          "iopub.status.busy": "2025-10-09T07:33:34.658673Z",
          "iopub.execute_input": "2025-10-09T07:33:34.659055Z",
          "iopub.status.idle": "2025-10-09T07:35:07.646973Z",
          "shell.execute_reply.started": "2025-10-09T07:33:34.65903Z",
          "shell.execute_reply": "2025-10-09T07:35:07.64627Z"
        },
        "id": "5it9x_jdaec4",
        "outputId": "318fd4d9-a798-429c-aa68-4bf2fc41c453"
      },
      "outputs": [
        {
          "name": "stdout",
          "text": "Total rows: 36,268,844\n----------------------------------------\nSaved 32,641,959 rows to data_train_90percent.parquet (90%)\n  --> Unique actions in file: 37\nSaved 3,626,885 rows to data_test_10percent.parquet (10%)\n  --> Unique actions in file: 37\n----------------------------------------\nPartitioning complete. Files saved in '/kaggle/working/stratified_split'.\n",
          "output_type": "stream"
        }
      ],
      "execution_count": null
    },
    {
      "cell_type": "code",
      "source": [
        "del df_merged\n",
        "del y_actions\n",
        "del df_test\n",
        "del train_df\n",
        "del valid_df\n",
        "del df_tracking\n",
        "del df_annotation\n",
        "#del _6\n",
        "gc.collect()"
      ],
      "metadata": {
        "trusted": true,
        "execution": {
          "iopub.status.busy": "2025-10-09T07:35:07.647818Z",
          "iopub.execute_input": "2025-10-09T07:35:07.648089Z",
          "iopub.status.idle": "2025-10-09T07:35:08.196819Z",
          "shell.execute_reply.started": "2025-10-09T07:35:07.648064Z",
          "shell.execute_reply": "2025-10-09T07:35:08.196258Z"
        },
        "id": "_Mcp3V8haec4",
        "outputId": "d089feef-5378-47bd-c812-126e72338874"
      },
      "outputs": [
        {
          "execution_count": 14,
          "output_type": "execute_result",
          "data": {
            "text/plain": "0"
          },
          "metadata": {}
        }
      ],
      "execution_count": null
    },
    {
      "cell_type": "code",
      "source": [
        "gc.collect()"
      ],
      "metadata": {
        "trusted": true,
        "execution": {
          "iopub.status.busy": "2025-10-09T07:35:08.197562Z",
          "iopub.execute_input": "2025-10-09T07:35:08.197836Z",
          "iopub.status.idle": "2025-10-09T07:35:08.357625Z",
          "shell.execute_reply.started": "2025-10-09T07:35:08.197806Z",
          "shell.execute_reply": "2025-10-09T07:35:08.356891Z"
        },
        "id": "jfYXIQQmaec5",
        "outputId": "56b571f6-c58a-4ec6-f9c2-79c55608563a"
      },
      "outputs": [
        {
          "execution_count": 15,
          "output_type": "execute_result",
          "data": {
            "text/plain": "0"
          },
          "metadata": {}
        }
      ],
      "execution_count": null
    },
    {
      "cell_type": "code",
      "source": [
        "# Define your data directory (assuming you placed the 'parquet_chunks' folder\n",
        "# in the same working directory or a linked dataset)\n",
        "OUTPUT_DIR = '/kaggle/working/stratified_split'\n",
        "\n",
        "# --- Load and Prepare Data ---\n",
        "\n",
        "# 1. Load All Parquet Files\n",
        "try:\n",
        "    all_files = glob.glob(os.path.join(OUTPUT_DIR, \"data_train_90percent.parquet\"))\n",
        "    list_of_dfs = [pd.read_parquet(f) for f in all_files]\n",
        "    df_half = pd.concat(list_of_dfs, ignore_index=True)\n",
        "    print(f\"Successfully loaded {len(all_files)} files.\")\n",
        "    print(f\"Total rows: {len(df_half):,}\")\n",
        "except Exception as e:\n",
        "    print(f\"Error loading files. Check directory path: {e}\")\n",
        "    # Create a dummy DataFrame if loading fails to prevent kernel crash\n",
        "    # df_final = pd.DataFrame()"
      ],
      "metadata": {
        "trusted": true,
        "execution": {
          "iopub.status.busy": "2025-10-09T07:35:08.358421Z",
          "iopub.execute_input": "2025-10-09T07:35:08.358703Z",
          "iopub.status.idle": "2025-10-09T07:35:14.351448Z",
          "shell.execute_reply.started": "2025-10-09T07:35:08.358672Z",
          "shell.execute_reply": "2025-10-09T07:35:14.350691Z"
        },
        "id": "q83K6P-faec5",
        "outputId": "deb386c4-8f9f-4efc-fd2d-47dffd3f7c1b"
      },
      "outputs": [
        {
          "name": "stdout",
          "text": "Successfully loaded 1 files.\nTotal rows: 32,641,959\n",
          "output_type": "stream"
        }
      ],
      "execution_count": null
    },
    {
      "cell_type": "code",
      "source": [
        "#nil_count = (df_half['action'] != 'NIL').sum()\n",
        "#print(f\"The number of 'NIL' actions is: {nil_count}\")"
      ],
      "metadata": {
        "trusted": true,
        "execution": {
          "iopub.status.busy": "2025-10-09T07:35:14.354265Z",
          "iopub.execute_input": "2025-10-09T07:35:14.354709Z",
          "iopub.status.idle": "2025-10-09T07:35:14.357556Z",
          "shell.execute_reply.started": "2025-10-09T07:35:14.35469Z",
          "shell.execute_reply": "2025-10-09T07:35:14.35701Z"
        },
        "id": "RT-zQYKfaec6"
      },
      "outputs": [],
      "execution_count": null
    },
    {
      "cell_type": "code",
      "source": [
        "# --- 1. Define the Index Columns ---\n",
        "# These columns will define the unique rows in the resulting DataFrame.\n",
        "ID_COLS = ['lab_id', 'video_id', 'video_frame', 'mouse_id', 'target_id']\n",
        "\n",
        "# --- 2. Separate Action for Merging ---\n",
        "# Since 'Action' is constant for a given combination of ID_COLS,\n",
        "# we extract it separately to avoid issues with the pivot,\n",
        "# then merge it back later. This is often necessary when the value\n",
        "# column (like 'x'/'y') is not strictly unique.\n",
        "\n",
        "\n",
        "# Keep only the unique combinations of ID_COLS and action\n",
        "action_df = df_half[ID_COLS + ['action']].drop_duplicates()\n",
        "\n",
        "# --- 3. Perform the Pivot Operation with Aggregation ---\n",
        "# Use pivot_table to handle duplicate index/column entries by taking the mean.\n",
        "df_pivoted = df_half.pivot_table(\n",
        "    index=ID_COLS,           # The columns that form the new unique row identifier\n",
        "    columns='bodypart',      # The column whose unique values become the new column headers\n",
        "    values=['x', 'y'],       # The columns whose values will be aggregated\n",
        "    aggfunc='mean'           # CRITICAL: Calculates the mean of the 'x' and 'y' duplicates\n",
        ")\n",
        "\n",
        "# --- 4. Clean Up Column Names ---\n",
        "# The pivot operation creates multi-level columns (e.g., ('x', 'headpiece_bottombackright')).\n",
        "# We flatten and rename them for easier use: 'bodypart_x', 'bodypart_y'.\n",
        "df_pivoted.columns = [f'{col[1]}_{col[0]}' for col in df_pivoted.columns.values]\n",
        "\n",
        "# --- 5. Reset Index and Merge Action ---\n",
        "# Reset the index to turn the ID_COLS back into regular columns\n",
        "df_pivoted = df_pivoted.reset_index()\n",
        "\n",
        "# Merge the action column back into the pivoted DataFrame\n",
        "df_final = pd.merge(\n",
        "    df_pivoted,\n",
        "    action_df,\n",
        "    on=ID_COLS,\n",
        "    how='left'  # Use a left merge to keep all the pivoted data\n",
        ")\n",
        "\n",
        "# --- 6. Reorder Columns for Clarity ---\n",
        "# Move 'action' to be near the ID columns\n",
        "final_columns = ID_COLS + ['action'] + [col for col in df_final.columns if col not in ID_COLS + ['action']]\n",
        "df_final = df_final[final_columns]\n"
      ],
      "metadata": {
        "trusted": true,
        "execution": {
          "iopub.status.busy": "2025-10-09T07:35:14.358318Z",
          "iopub.execute_input": "2025-10-09T07:35:14.358881Z",
          "iopub.status.idle": "2025-10-09T07:36:22.363458Z",
          "shell.execute_reply.started": "2025-10-09T07:35:14.358862Z",
          "shell.execute_reply": "2025-10-09T07:36:22.362589Z"
        },
        "id": "yjTeU4Ynaec6"
      },
      "outputs": [],
      "execution_count": null
    },
    {
      "cell_type": "code",
      "source": [
        "df_final.drop(columns=ID_COLS, axis=1, inplace=True)\n",
        "print(\"--- Final Reshaped DataFrame Head ---\")\n",
        "print(df_final.head())\n",
        "print(f\"\\nFinal DataFrame Shape: {df_final.shape}\")"
      ],
      "metadata": {
        "trusted": true,
        "execution": {
          "iopub.status.busy": "2025-10-09T07:36:22.364545Z",
          "iopub.execute_input": "2025-10-09T07:36:22.364786Z",
          "iopub.status.idle": "2025-10-09T07:36:22.84165Z",
          "shell.execute_reply.started": "2025-10-09T07:36:22.364766Z",
          "shell.execute_reply": "2025-10-09T07:36:22.8409Z"
        },
        "id": "vX-QIuFvaec7",
        "outputId": "e14d1ab0-ca58-40e1-a5d7-70d1caee2dc5"
      },
      "outputs": [
        {
          "name": "stdout",
          "text": "--- Final Reshaped DataFrame Head ---\n  action  body_center_x  ear_left_x  ear_right_x  head_x  \\\n0  chase     495.295013  493.692993   517.568970     NaN   \n1  chase     494.980011  493.643005   517.301025     NaN   \n2  chase     495.061005  493.787994   519.041992     NaN   \n3  chase     495.018005  494.544006   519.635010     NaN   \n4  chase     495.566010  496.365997   520.189026     NaN   \n\n   headpiece_bottombackleft_x  headpiece_bottombackright_x  \\\n0                         NaN                          NaN   \n1                         NaN                          NaN   \n2                         NaN                          NaN   \n3                         NaN                          NaN   \n4                         NaN                          NaN   \n\n   headpiece_bottomfrontleft_x  headpiece_bottomfrontright_x  \\\n0                          NaN                           NaN   \n1                          NaN                           NaN   \n2                          NaN                           NaN   \n3                          NaN                           NaN   \n4                          NaN                           NaN   \n\n   headpiece_topbackleft_x  ...  lateral_right_y  neck_y      nose_y  \\\n0                      NaN  ...       394.701996     NaN         NaN   \n1                      NaN  ...       394.506989     NaN  345.783997   \n2                      NaN  ...       395.022003     NaN  345.334991   \n3                      NaN  ...       394.940002     NaN  345.649994   \n4                      NaN  ...       394.585999     NaN  343.752991   \n\n   spine_1_y  spine_2_y  tail_base_y  tail_middle_1_y  tail_middle_2_y  \\\n0        NaN        NaN   399.122986              NaN              NaN   \n1        NaN        NaN   398.941986              NaN              NaN   \n2        NaN        NaN   399.053009              NaN              NaN   \n3        NaN        NaN   399.550995              NaN              NaN   \n4        NaN        NaN   399.796997              NaN              NaN   \n\n   tail_midpoint_y  tail_tip_y  \n0       429.868011  457.080994  \n1       429.381989  457.319000  \n2       429.507996  457.307007  \n3       429.911011  457.341003  \n4       430.269989  457.445007  \n\n[5 rows x 51 columns]\n\nFinal DataFrame Shape: (5353673, 51)\n",
          "output_type": "stream"
        },
        {
          "name": "stderr",
          "text": "/usr/local/lib/python3.11/dist-packages/pandas/io/formats/format.py:1458: RuntimeWarning: invalid value encountered in greater\n  has_large_values = (abs_vals > 1e6).any()\n/usr/local/lib/python3.11/dist-packages/pandas/io/formats/format.py:1459: RuntimeWarning: invalid value encountered in less\n  has_small_values = ((abs_vals < 10 ** (-self.digits)) & (abs_vals > 0)).any()\n/usr/local/lib/python3.11/dist-packages/pandas/io/formats/format.py:1459: RuntimeWarning: invalid value encountered in greater\n  has_small_values = ((abs_vals < 10 ** (-self.digits)) & (abs_vals > 0)).any()\n",
          "output_type": "stream"
        }
      ],
      "execution_count": null
    },
    {
      "cell_type": "code",
      "source": [
        "#count_total = sum(1 for col in df_final.columns if col.endswith('_x') or col.endswith('_y'))\n",
        "#print(f\"Total columns ending with '_x' or '_y': {count_total}\")"
      ],
      "metadata": {
        "trusted": true,
        "execution": {
          "iopub.status.busy": "2025-10-09T07:36:22.842477Z",
          "iopub.execute_input": "2025-10-09T07:36:22.842823Z",
          "iopub.status.idle": "2025-10-09T07:36:22.846091Z",
          "shell.execute_reply.started": "2025-10-09T07:36:22.842798Z",
          "shell.execute_reply": "2025-10-09T07:36:22.845284Z"
        },
        "id": "a2axyf8Kaec7"
      },
      "outputs": [],
      "execution_count": null
    },
    {
      "cell_type": "code",
      "source": [
        "# --- Setup ---\n",
        "# 1. Define the directory where files will be saved\n",
        "OUTPUT_DIR = '/kaggle/working/train'\n",
        "# Create the output directory if it doesn't exist\n",
        "os.makedirs(OUTPUT_DIR, exist_ok=True)\n",
        "\n",
        "# 2. Define the maximum rows per file (1.8 million)\n",
        "CHUNK_SIZE = 1_800_0000\n",
        "\n",
        "# 1. Calculate the number of chunks needed\n",
        "num_rows = len(df_final)\n",
        "num_chunks = int(np.ceil(num_rows / CHUNK_SIZE))\n",
        "print(f\"Total rows: {num_rows:,}\")\n",
        "print(f\"Saving to {num_chunks} files with a max size of {CHUNK_SIZE:,} rows.\")\n",
        "\n",
        "# 2. Split the DataFrame indices into chunks\n",
        "# This is memory efficient as it only creates small lists/arrays of index labels,\n",
        "# NOT copies of the DataFrame data itself.\n",
        "indices_chunks = np.array_split(df_final.index, num_chunks)\n",
        "\n",
        "# 3. Loop through the chunks and save to Parquet files\n",
        "for i, chunk_indices in enumerate(indices_chunks):\n",
        "\n",
        "    # Select the slice of the DataFrame using .loc[]\n",
        "    # This loads only the current chunk into memory\n",
        "    df_chunk = df_final.loc[chunk_indices]\n",
        "\n",
        "    # Define the output file path\n",
        "    file_name = f'chunk_{i+1:03d}.parquet'\n",
        "    file_path = os.path.join(OUTPUT_DIR, file_name)\n",
        "\n",
        "    # Save the chunk to a Parquet file\n",
        "    df_chunk.to_parquet(file_path, index=False)\n",
        "\n",
        "    print(f\"Saved {len(df_chunk):,} rows to {file_name}\")\n",
        "\n",
        "print(f\"Partitioning complete. Files saved in the '{OUTPUT_DIR}' directory.\")"
      ],
      "metadata": {
        "trusted": true,
        "execution": {
          "iopub.status.busy": "2025-10-09T07:36:22.84682Z",
          "iopub.execute_input": "2025-10-09T07:36:22.847059Z",
          "iopub.status.idle": "2025-10-09T07:36:30.305517Z",
          "shell.execute_reply.started": "2025-10-09T07:36:22.847032Z",
          "shell.execute_reply": "2025-10-09T07:36:30.304639Z"
        },
        "id": "t7-lnNFPaec8",
        "outputId": "a84366a6-3649-4500-92e4-37d1b982bed1"
      },
      "outputs": [
        {
          "name": "stdout",
          "text": "Total rows: 5,353,673\nSaving to 1 files with a max size of 18,000,000 rows.\nSaved 5,353,673 rows to chunk_001.parquet\nPartitioning complete. Files saved in the '/kaggle/working/train' directory.\n",
          "output_type": "stream"
        }
      ],
      "execution_count": null
    },
    {
      "cell_type": "code",
      "source": [
        "del action_df\n",
        "del df_final\n",
        "del df_half\n",
        "del df_pivoted\n",
        "del df_chunk\n",
        "gc.collect()\n"
      ],
      "metadata": {
        "trusted": true,
        "execution": {
          "iopub.status.busy": "2025-10-09T07:36:30.306378Z",
          "iopub.execute_input": "2025-10-09T07:36:30.306761Z",
          "iopub.status.idle": "2025-10-09T07:36:30.557549Z",
          "shell.execute_reply.started": "2025-10-09T07:36:30.306735Z",
          "shell.execute_reply": "2025-10-09T07:36:30.556807Z"
        },
        "id": "M4bznrsfaec8",
        "outputId": "741da138-6f6a-4730-e360-4541f89d6b94"
      },
      "outputs": [
        {
          "execution_count": 22,
          "output_type": "execute_result",
          "data": {
            "text/plain": "0"
          },
          "metadata": {}
        }
      ],
      "execution_count": null
    },
    {
      "cell_type": "code",
      "source": [
        "# Define your data directory (assuming you placed the 'parquet_chunks' folder\n",
        "# in the same working directory or a linked dataset)\n",
        "OUTPUT_DIR = '/kaggle/working/train'\n",
        "\n",
        "# --- Load and Prepare Data ---\n",
        "\n",
        "# 1. Load All Parquet Files\n",
        "try:\n",
        "    all_files = glob.glob(os.path.join(OUTPUT_DIR, \"*.parquet\"))\n",
        "    list_of_dfs = [pd.read_parquet(f) for f in all_files]\n",
        "    df_final = pd.concat(list_of_dfs, ignore_index=True)\n",
        "    print(f\"Successfully loaded {len(all_files)} files.\")\n",
        "    print(f\"Total rows: {len(df_final):,}\")\n",
        "except Exception as e:\n",
        "    print(f\"Error loading files. Check directory path: {e}\")\n",
        "    # Create a dummy DataFrame if loading fails to prevent kernel crash\n",
        "    # df_final = pd.DataFrame()\n",
        "\n",
        "print(f\"Total NaN values remaining: {df_final.isna().sum().sum()}\")"
      ],
      "metadata": {
        "trusted": true,
        "execution": {
          "iopub.status.busy": "2025-10-09T07:36:30.558515Z",
          "iopub.execute_input": "2025-10-09T07:36:30.558812Z",
          "iopub.status.idle": "2025-10-09T07:36:33.029476Z",
          "shell.execute_reply.started": "2025-10-09T07:36:30.558783Z",
          "shell.execute_reply": "2025-10-09T07:36:33.028741Z"
        },
        "id": "lJPX3n02aec9",
        "outputId": "f016e224-32eb-4016-c702-5d034f2a12eb"
      },
      "outputs": [
        {
          "name": "stdout",
          "text": "Successfully loaded 1 files.\nTotal rows: 5,353,673\nTotal NaN values remaining: 202399732\n",
          "output_type": "stream"
        }
      ],
      "execution_count": null
    },
    {
      "cell_type": "code",
      "source": [
        "# Assuming 'df_final' is your DataFrame after concatenating all Parquet files\n",
        "\n",
        "# 1. Forward Fill (ffill)\n",
        "# This uses the LAST VALID observation to fill the missing values.\n",
        "# This is ideal for time-series data, assuming the mouse stayed in the last known pose.\n",
        "print(\"Starting Forward Fill (ffill)...\")\n",
        "df_final.fillna(method='ffill', inplace=True)\n",
        "print(\"Forward Fill complete.\")\n",
        "\n",
        "# 2. Backward Fill (bfill) - CRITICAL STEP\n",
        "# After ffill, any NaNs remaining are those at the very beginning of the dataset\n",
        "# (where there is no preceding observation). bfill uses the NEXT valid observation.\n",
        "print(\"Starting Backward Fill (bfill)...\")\n",
        "df_final.fillna(method='bfill', inplace=True)\n",
        "print(\"Backward Fill complete. All NaN values should now be resolved.\")\n",
        "\n",
        "# You can add a quick check to verify:\n",
        "print(f\"Total NaN values remaining: {df_final.isna().sum().sum()}\")"
      ],
      "metadata": {
        "trusted": true,
        "execution": {
          "iopub.status.busy": "2025-10-09T07:36:33.030476Z",
          "iopub.execute_input": "2025-10-09T07:36:33.030752Z",
          "iopub.status.idle": "2025-10-09T07:36:36.85339Z",
          "shell.execute_reply.started": "2025-10-09T07:36:33.030725Z",
          "shell.execute_reply": "2025-10-09T07:36:36.852709Z"
        },
        "id": "DxMJHa2Qaec9",
        "outputId": "4913a025-0e4a-42f2-c56f-7002072d0d19"
      },
      "outputs": [
        {
          "name": "stdout",
          "text": "Starting Forward Fill (ffill)...\n",
          "output_type": "stream"
        },
        {
          "name": "stderr",
          "text": "/tmp/ipykernel_36/2425156436.py:7: FutureWarning: DataFrame.fillna with 'method' is deprecated and will raise in a future version. Use obj.ffill() or obj.bfill() instead.\n  df_final.fillna(method='ffill', inplace=True)\n",
          "output_type": "stream"
        },
        {
          "name": "stdout",
          "text": "Forward Fill complete.\nStarting Backward Fill (bfill)...\n",
          "output_type": "stream"
        },
        {
          "name": "stderr",
          "text": "/tmp/ipykernel_36/2425156436.py:14: FutureWarning: DataFrame.fillna with 'method' is deprecated and will raise in a future version. Use obj.ffill() or obj.bfill() instead.\n  df_final.fillna(method='bfill', inplace=True)\n",
          "output_type": "stream"
        },
        {
          "name": "stdout",
          "text": "Backward Fill complete. All NaN values should now be resolved.\nTotal NaN values remaining: 0\n",
          "output_type": "stream"
        }
      ],
      "execution_count": null
    },
    {
      "cell_type": "code",
      "source": [
        "print(df_final.head())"
      ],
      "metadata": {
        "trusted": true,
        "execution": {
          "iopub.status.busy": "2025-10-09T07:36:36.85414Z",
          "iopub.execute_input": "2025-10-09T07:36:36.854356Z",
          "iopub.status.idle": "2025-10-09T07:36:36.865004Z",
          "shell.execute_reply.started": "2025-10-09T07:36:36.854336Z",
          "shell.execute_reply": "2025-10-09T07:36:36.864177Z"
        },
        "id": "puwYs46Faec-",
        "outputId": "8e2c56c6-85c6-4e6a-d35b-13ec15cc7e4c"
      },
      "outputs": [
        {
          "name": "stdout",
          "text": "  action  body_center_x  ear_left_x  ear_right_x      head_x  \\\n0  chase     495.295013  493.692993   517.568970  248.142365   \n1  chase     494.980011  493.643005   517.301025  248.142365   \n2  chase     495.061005  493.787994   519.041992  248.142365   \n3  chase     495.018005  494.544006   519.635010  248.142365   \n4  chase     495.566010  496.365997   520.189026  248.142365   \n\n   headpiece_bottombackleft_x  headpiece_bottombackright_x  \\\n0                 1122.628052                  1119.015015   \n1                 1122.628052                  1119.015015   \n2                 1122.628052                  1119.015015   \n3                 1122.628052                  1119.015015   \n4                 1122.628052                  1119.015015   \n\n   headpiece_bottomfrontleft_x  headpiece_bottomfrontright_x  \\\n0                  1132.064941                   1073.786987   \n1                  1132.064941                   1073.786987   \n2                  1132.064941                   1073.786987   \n3                  1132.064941                   1073.786987   \n4                  1132.064941                   1073.786987   \n\n   headpiece_topbackleft_x  ...  lateral_right_y      neck_y      nose_y  \\\n0              1114.141968  ...       394.701996  451.424011  345.783997   \n1              1114.141968  ...       394.506989  451.424011  345.783997   \n2              1114.141968  ...       395.022003  451.424011  345.334991   \n3              1114.141968  ...       394.940002  451.424011  345.649994   \n4              1114.141968  ...       394.585999  451.424011  343.752991   \n\n    spine_1_y   spine_2_y  tail_base_y  tail_middle_1_y  tail_middle_2_y  \\\n0  374.420868  374.378876   399.122986       374.396698       364.999329   \n1  374.420868  374.378876   398.941986       374.396698       364.999329   \n2  374.420868  374.378876   399.053009       374.396698       364.999329   \n3  374.420868  374.378876   399.550995       374.396698       364.999329   \n4  374.420868  374.378876   399.796997       374.396698       364.999329   \n\n   tail_midpoint_y  tail_tip_y  \n0       429.868011  457.080994  \n1       429.381989  457.319000  \n2       429.507996  457.307007  \n3       429.911011  457.341003  \n4       430.269989  457.445007  \n\n[5 rows x 51 columns]\n",
          "output_type": "stream"
        }
      ],
      "execution_count": null
    },
    {
      "cell_type": "code",
      "source": [
        "# 2. Separate Features (X) and Target (y)\n",
        "feature_cols = [col for col in df_final.columns if col.endswith('_x') or col.endswith('_y')]\n",
        "X_all = df_final[feature_cols].values # Features (coordinates)\n",
        "y_all = df_final['action'].values     # Target (action label)\n"
      ],
      "metadata": {
        "trusted": true,
        "execution": {
          "iopub.status.busy": "2025-10-09T07:36:36.865894Z",
          "iopub.execute_input": "2025-10-09T07:36:36.866082Z",
          "iopub.status.idle": "2025-10-09T07:36:37.250005Z",
          "shell.execute_reply.started": "2025-10-09T07:36:36.866067Z",
          "shell.execute_reply": "2025-10-09T07:36:37.2494Z"
        },
        "id": "A0JwA4Xmaec_"
      },
      "outputs": [],
      "execution_count": null
    },
    {
      "cell_type": "code",
      "source": [
        "# --- 1. Calculate Raw Class Frequencies ---\n",
        "# Convert the NumPy array of training labels (y_all or y_train) to a Series\n",
        "# and use value_counts() to get the frequency of each action string.\n",
        "# NOTE: Replace 'y_all' with the variable containing your training action labels.\n",
        "action_counts = pd.Series(y_all).value_counts().sort_index()\n",
        "\n",
        "# --- 2. Align Counts with LabelEncoder Order ---\n",
        "# CRITICAL: Reindex the calculated counts using the order of le.classes_\n",
        "# This ensures Class 0 (e.g., 'NIL') corresponds to Index 0 in the weights tensor, and so on.\n",
        "# Use fill_value=0 in case any class is missing from the subset (e.g., if using y_train)\n",
        "# 3. Encode Action Labels (NIL, NON-NIL, etc. to 0, 1, ...)\n",
        "le = LabelEncoder()\n",
        "y_encoded = le.fit_transform(y_all)\n",
        "counts_aligned = action_counts.reindex(le.classes_, fill_value=0)\n",
        "\n",
        "# --- 3. Calculate Inverse Frequency Weights ---\n",
        "total_samples = counts_aligned.sum()\n",
        "num_classes = len(counts_aligned)\n",
        "\n",
        "# Calculate weights: Use the inverse frequency method\n",
        "# Higher weight for less frequent classes\n",
        "class_weights = total_samples / (num_classes * counts_aligned.values)"
      ],
      "metadata": {
        "trusted": true,
        "execution": {
          "iopub.status.busy": "2025-10-09T07:36:37.251037Z",
          "iopub.execute_input": "2025-10-09T07:36:37.251288Z",
          "iopub.status.idle": "2025-10-09T07:36:38.244064Z",
          "shell.execute_reply.started": "2025-10-09T07:36:37.251269Z",
          "shell.execute_reply": "2025-10-09T07:36:38.243469Z"
        },
        "id": "WRj5P_iNaedA"
      },
      "outputs": [],
      "execution_count": null
    },
    {
      "cell_type": "code",
      "source": [
        "del df_final"
      ],
      "metadata": {
        "trusted": true,
        "execution": {
          "iopub.status.busy": "2025-10-09T07:36:38.244851Z",
          "iopub.execute_input": "2025-10-09T07:36:38.245144Z",
          "iopub.status.idle": "2025-10-09T07:36:38.248787Z",
          "shell.execute_reply.started": "2025-10-09T07:36:38.2451Z",
          "shell.execute_reply": "2025-10-09T07:36:38.248178Z"
        },
        "id": "V6wPzJbiaedA"
      },
      "outputs": [],
      "execution_count": null
    },
    {
      "cell_type": "code",
      "source": [
        "NUM_CLASSES = len(le.classes_)\n",
        "print(f\"Action classes encoded to {NUM_CLASSES} classes.\")"
      ],
      "metadata": {
        "trusted": true,
        "execution": {
          "iopub.status.busy": "2025-10-09T07:36:38.249506Z",
          "iopub.execute_input": "2025-10-09T07:36:38.249742Z",
          "iopub.status.idle": "2025-10-09T07:36:38.263927Z",
          "shell.execute_reply.started": "2025-10-09T07:36:38.249716Z",
          "shell.execute_reply": "2025-10-09T07:36:38.26334Z"
        },
        "id": "Cb5KZKa2aedA",
        "outputId": "a6abb61b-d4a0-4af2-9d55-cbba059e3378"
      },
      "outputs": [
        {
          "name": "stdout",
          "text": "Action classes encoded to 37 classes.\n",
          "output_type": "stream"
        }
      ],
      "execution_count": null
    },
    {
      "cell_type": "code",
      "source": [
        "# 4. Train/Validation Split\n",
        "X_train, X_val, y_train, y_val = train_test_split(\n",
        "    X_all, y_encoded, test_size=0.2, random_state=42, stratify=y_encoded\n",
        ")"
      ],
      "metadata": {
        "trusted": true,
        "execution": {
          "iopub.status.busy": "2025-10-09T07:36:38.264678Z",
          "iopub.execute_input": "2025-10-09T07:36:38.264877Z",
          "iopub.status.idle": "2025-10-09T07:36:43.766703Z",
          "shell.execute_reply.started": "2025-10-09T07:36:38.264862Z",
          "shell.execute_reply": "2025-10-09T07:36:43.7659Z"
        },
        "id": "mhZAy6zlaedB"
      },
      "outputs": [],
      "execution_count": null
    },
    {
      "cell_type": "code",
      "source": [
        "# Convert to PyTorch Tensors\n",
        "X_train_tensor = torch.tensor(X_train, dtype=torch.float32)\n",
        "X_val_tensor = torch.tensor(X_val, dtype=torch.float32)\n",
        "y_train_tensor = torch.tensor(y_train, dtype=torch.long)\n",
        "y_val_tensor = torch.tensor(y_val, dtype=torch.long)"
      ],
      "metadata": {
        "trusted": true,
        "execution": {
          "iopub.status.busy": "2025-10-09T07:36:43.767419Z",
          "iopub.execute_input": "2025-10-09T07:36:43.767617Z",
          "iopub.status.idle": "2025-10-09T07:36:44.278754Z",
          "shell.execute_reply.started": "2025-10-09T07:36:43.767602Z",
          "shell.execute_reply": "2025-10-09T07:36:44.277827Z"
        },
        "id": "2PY1hSp1aedB"
      },
      "outputs": [],
      "execution_count": null
    },
    {
      "cell_type": "code",
      "source": [
        "del y_all\n",
        "del X_all\n",
        "del y_encoded\n",
        "del X_train\n",
        "del X_val\n",
        "del y_train\n",
        "del y_val\n",
        "gc.collect()"
      ],
      "metadata": {
        "trusted": true,
        "execution": {
          "iopub.status.busy": "2025-10-09T07:36:44.279356Z",
          "iopub.execute_input": "2025-10-09T07:36:44.279571Z",
          "iopub.status.idle": "2025-10-09T07:36:44.45344Z",
          "shell.execute_reply.started": "2025-10-09T07:36:44.279553Z",
          "shell.execute_reply": "2025-10-09T07:36:44.452654Z"
        },
        "id": "pjIb9446aedC",
        "outputId": "fb4343e6-9ed4-480b-d9a8-1be63504c215"
      },
      "outputs": [
        {
          "execution_count": 32,
          "output_type": "execute_result",
          "data": {
            "text/plain": "0"
          },
          "metadata": {}
        }
      ],
      "execution_count": null
    },
    {
      "cell_type": "code",
      "source": [
        "# --- Configuration ---\n",
        "SEQUENCE_LENGTH = 30  # How many previous frames to include in one sequence sample\n",
        "BATCH_SIZE = 1024     # Size of data batches for training\n",
        "INPUT_SIZE = X_train_tensor.shape[1] # Number of features (e.g., 50 if 25 bodyparts * 2 coords)\n",
        "print(INPUT_SIZE)\n",
        "# --- Custom Dataset Class for Sequence Data ---\n",
        "class PoseSequenceDataset(Dataset):\n",
        "    def __init__(self, features, labels, sequence_length):\n",
        "        self.features = features\n",
        "        self.labels = labels\n",
        "        self.sequence_length = sequence_length\n",
        "        self.indices = self._create_indices()\n",
        "\n",
        "    def _create_indices(self):\n",
        "        # Create indices for the start of each sequence.\n",
        "        # The last possible start index is len(features) - sequence_length\n",
        "        return np.arange(len(self.features) - self.sequence_length)\n",
        "\n",
        "    def __len__(self):\n",
        "        # The number of available sequences\n",
        "        return len(self.indices)\n",
        "\n",
        "    def __getitem__(self, idx):\n",
        "        start_idx = self.indices[idx]\n",
        "        end_idx = start_idx + self.sequence_length\n",
        "\n",
        "        # X: Sequence of features (e.g., 30 frames x 50 coordinates)\n",
        "        x_sequence = self.features[start_idx:end_idx]\n",
        "\n",
        "        # Y: The label for the *last frame* in the sequence\n",
        "        y_label = self.labels[end_idx - 1]\n",
        "\n",
        "        return x_sequence, y_label\n",
        "\n",
        "# Create Dataset and DataLoader instances\n",
        "train_dataset = PoseSequenceDataset(X_train_tensor, y_train_tensor, SEQUENCE_LENGTH)\n",
        "val_dataset = PoseSequenceDataset(X_val_tensor, y_val_tensor, SEQUENCE_LENGTH)\n",
        "\n",
        "train_loader = DataLoader(train_dataset, batch_size=BATCH_SIZE, shuffle=True)\n",
        "val_loader = DataLoader(val_dataset, batch_size=BATCH_SIZE, shuffle=False)"
      ],
      "metadata": {
        "trusted": true,
        "execution": {
          "iopub.status.busy": "2025-10-09T07:36:44.454229Z",
          "iopub.execute_input": "2025-10-09T07:36:44.454442Z",
          "iopub.status.idle": "2025-10-09T07:36:44.483502Z",
          "shell.execute_reply.started": "2025-10-09T07:36:44.454422Z",
          "shell.execute_reply": "2025-10-09T07:36:44.482825Z"
        },
        "id": "g6N1mqqkaedC",
        "outputId": "f3725cab-88fe-4914-cfbe-ed2692abbcfd"
      },
      "outputs": [
        {
          "name": "stdout",
          "text": "50\n",
          "output_type": "stream"
        }
      ],
      "execution_count": null
    },
    {
      "cell_type": "code",
      "source": [
        "# --- Model Definition ---\n",
        "class MouseActionLSTM(nn.Module):\n",
        "    def __init__(self, input_size, hidden_size, num_layers, num_classes):\n",
        "        super(MouseActionLSTM, self).__init__()\n",
        "        self.hidden_size = hidden_size\n",
        "        self.num_layers = num_layers\n",
        "\n",
        "        # 1. LSTM Layer: Processes the time sequence\n",
        "        self.lstm = nn.LSTM(input_size, hidden_size, num_layers, batch_first=True)\n",
        "        self.dropout = nn.Dropout(0.3)\n",
        "        # 2. Fully Connected Layer: Maps the final hidden state to the class prediction\n",
        "        self.fc = nn.Linear(hidden_size, num_classes)\n",
        "\n",
        "    def forward(self, x):\n",
        "        # Initialize hidden state and cell state (optional, but good practice)\n",
        "        # h0 and c0 will be created automatically if not passed, but explicit is cleaner\n",
        "\n",
        "        # Pass the sequence through the LSTM\n",
        "        # out has shape (batch_size, sequence_length, hidden_size)\n",
        "        out, _ = self.lstm(x)\n",
        "\n",
        "        # We only care about the output from the LAST frame in the sequence\n",
        "        # out[:, -1, :] extracts the last time step output\n",
        "        out = self.fc(out[:, -1, :])\n",
        "        return out\n",
        "\n",
        "# Instantiate the model\n",
        "HIDDEN_SIZE = 128\n",
        "NUM_LAYERS = 2\n",
        "model = MouseActionLSTM(INPUT_SIZE, HIDDEN_SIZE, NUM_LAYERS, NUM_CLASSES)\n",
        "\n",
        "print(\"LSTM model defined successfully.\")"
      ],
      "metadata": {
        "trusted": true,
        "execution": {
          "iopub.status.busy": "2025-10-09T07:36:44.484303Z",
          "iopub.execute_input": "2025-10-09T07:36:44.484579Z",
          "iopub.status.idle": "2025-10-09T07:36:44.515834Z",
          "shell.execute_reply.started": "2025-10-09T07:36:44.48455Z",
          "shell.execute_reply": "2025-10-09T07:36:44.515187Z"
        },
        "id": "ObFDroZ5aedN",
        "outputId": "ebdb9d77-2836-458c-a7cd-7a58f7dd31e5"
      },
      "outputs": [
        {
          "name": "stdout",
          "text": "LSTM model defined successfully.\n",
          "output_type": "stream"
        }
      ],
      "execution_count": null
    },
    {
      "cell_type": "code",
      "source": [
        "# --- Training Configuration ---\n",
        "LEARNING_RATE = 0.00005\n",
        "NUM_EPOCHS = 50\n",
        "DEVICE = torch.device('cuda' if torch.cuda.is_available() else 'cpu')\n",
        "\n",
        "# Assuming class_weights_tensor is defined and moved to device\n",
        "class_weights_tensor = torch.tensor(class_weights, dtype=torch.float32).to(DEVICE)\n",
        "print(class_weights_tensor[:5])\n",
        "\n",
        "# Move model to device (GPU if available)\n",
        "model.to(DEVICE)\n",
        "\n",
        "# Loss and Optimizer\n",
        "criterion = nn.CrossEntropyLoss(weight=class_weights_tensor)\n",
        "optimizer = torch.optim.Adam(model.parameters(), lr=LEARNING_RATE)\n",
        "\n",
        "# --- Training Loop ---\n",
        "for epoch in range(NUM_EPOCHS):\n",
        "    start_time = time.perf_counter()\n",
        "    model.train()\n",
        "    total_loss = 0\n",
        "\n",
        "    for i, (sequences, labels) in enumerate(train_loader):\n",
        "        # ... (Training steps: Forward, Loss, Backward, Step) ...\n",
        "        sequences = sequences.to(DEVICE)\n",
        "        labels = labels.to(DEVICE)\n",
        "\n",
        "        outputs = model(sequences)\n",
        "        loss = criterion(outputs, labels)\n",
        "\n",
        "        optimizer.zero_grad()\n",
        "        loss.backward()\n",
        "        optimizer.step()\n",
        "\n",
        "        total_loss += loss.item()\n",
        "\n",
        "    avg_loss = total_loss / len(train_loader)\n",
        "\n",
        "    # --- Validation ---\n",
        "    model.eval()\n",
        "    with torch.no_grad():\n",
        "\n",
        "        # Lists to store all labels and predictions for per-class analysis\n",
        "        val_true_labels = []\n",
        "        val_predicted_indices = []\n",
        "\n",
        "        for sequences, labels in val_loader:\n",
        "            sequences = sequences.to(DEVICE)\n",
        "            labels = labels.to(DEVICE)\n",
        "\n",
        "            outputs = model(sequences)\n",
        "            _, predicted = torch.max(outputs.data, 1)\n",
        "\n",
        "            # Accumulate data\n",
        "            val_true_labels.extend(labels.cpu().numpy())\n",
        "            val_predicted_indices.extend(predicted.cpu().numpy())\n",
        "\n",
        "        # Convert accumulated lists to NumPy arrays\n",
        "        val_true_labels = np.array(val_true_labels)\n",
        "        val_predicted_indices = np.array(val_predicted_indices)\n",
        "\n",
        "        # Calculate Overall Accuracy\n",
        "        total_samples = len(val_true_labels)\n",
        "        overall_correct = np.sum(val_predicted_indices == val_true_labels)\n",
        "        overall_accuracy = 100 * overall_correct / total_samples\n",
        "\n",
        "        # --- Calculate Per-Class Accuracy ---\n",
        "        class_names = le.classes_ # Get class names from the fitted LabelEncoder\n",
        "\n",
        "        print(\"\\n--- Individual Class Validation Accuracy ---\")\n",
        "\n",
        "        # Loop through each class index (0 to NUM_CLASSES - 1)\n",
        "        for i in range(NUM_CLASSES):\n",
        "            # 1. Get indices where the true label matches the current class 'i'\n",
        "            class_indices = (val_true_labels == i)\n",
        "\n",
        "            # 2. Get the total number of samples for this class\n",
        "            class_total = np.sum(class_indices)\n",
        "\n",
        "            if class_total == 0:\n",
        "                continue\n",
        "\n",
        "            # 3. Get the predictions ONLY for this class's samples\n",
        "            class_correct = np.sum(val_predicted_indices[class_indices] == i)\n",
        "\n",
        "            # 4. Calculate accuracy\n",
        "            class_accuracy = 100 * class_correct / class_total\n",
        "\n",
        "            # Print results\n",
        "            print(f\"  {class_names[i]:<20}: {class_accuracy:.2f}% ({class_correct}/{class_total})\")\n",
        "\n",
        "    end_time = time.perf_counter()\n",
        "    elapsed_time = end_time - start_time\n",
        "\n",
        "    print(f'\\nEpoch [{epoch+1}/{NUM_EPOCHS}], Loss: {avg_loss:.4f}, Overall Validation Accuracy: {overall_accuracy:.2f}%')\n",
        "    print(f\"The operation took {elapsed_time:.4f} seconds to complete.\")\n",
        "\n",
        "print(\"Training complete!\")"
      ],
      "metadata": {
        "trusted": true,
        "execution": {
          "iopub.status.busy": "2025-10-09T07:36:44.519582Z",
          "iopub.execute_input": "2025-10-09T07:36:44.519809Z",
          "execution_failed": "2025-10-09T12:09:31.515Z"
        },
        "id": "RqtMCmXHaedO",
        "outputId": "b91625de-7e6b-43eb-a262-375847653c22"
      },
      "outputs": [
        {
          "name": "stdout",
          "text": "tensor([19.3700,  1.6311,  0.2793, 26.1937,  6.4621], device='cuda:0')\n\n--- Individual Class Validation Accuracy ---\n  allogroom           : 41.37% (618/1494)\n  approach            : 0.00% (0/17742)\n  attack              : 8.04% (8327/103629)\n  attemptmount        : 0.09% (1/1105)\n  avoid               : 38.23% (1712/4478)\n  biteobject          : 21.40% (101/472)\n  chase               : 10.03% (480/4785)\n  chaseattack         : 48.24% (451/935)\n  climb               : 49.63% (5911/11911)\n  defend              : 6.22% (1133/18218)\n  dig                 : 0.09% (14/15948)\n  disengage           : 95.24% (2343/2460)\n  dominance           : 99.77% (7679/7697)\n  dominancegroom      : 71.80% (685/954)\n  dominancemount      : 43.05% (1537/3570)\n  ejaculate           : 73.83% (189/256)\n  escape              : 0.20% (37/18398)\n  exploreobject       : 10.04% (76/757)\n  flinch              : 10.22% (38/372)\n  follow              : 82.04% (6588/8030)\n  freeze              : 90.87% (5254/5782)\n  genitalgroom        : 4.43% (56/1264)\n  huddle              : 98.65% (4606/4669)\n  intromit            : 12.20% (8207/67244)\n  mount               : 0.51% (290/56520)\n  rear                : 4.41% (2059/46675)\n  reciprocalsniff     : 9.07% (761/8394)\n  rest                : 99.43% (17365/17465)\n  run                 : 0.00% (0/359)\n  selfgroom           : 0.08% (13/16603)\n  shepherd            : 100.00% (5930/5930)\n  sniff               : 1.14% (4971/436084)\n  sniffbody           : 13.00% (2743/21098)\n  sniffface           : 0.02% (3/14776)\n  sniffgenital        : 11.79% (16757/142111)\n  submit              : 71.23% (1057/1484)\n  tussle              : 43.05% (446/1036)\n\nEpoch [1/50], Loss: 2.6304, Overall Validation Accuracy: 10.13%\nThe operation took 175.0072 seconds to complete.\n\n--- Individual Class Validation Accuracy ---\n  allogroom           : 45.18% (675/1494)\n  approach            : 0.03% (6/17742)\n  attack              : 8.03% (8326/103629)\n  attemptmount        : 1.09% (12/1105)\n  avoid               : 40.69% (1822/4478)\n  biteobject          : 8.69% (41/472)\n  chase               : 12.23% (585/4785)\n  chaseattack         : 59.68% (558/935)\n  climb               : 10.67% (1271/11911)\n  defend              : 17.05% (3106/18218)\n  dig                 : 0.36% (57/15948)\n  disengage           : 83.13% (2045/2460)\n  dominance           : 99.95% (7693/7697)\n  dominancegroom      : 72.96% (696/954)\n  dominancemount      : 57.37% (2048/3570)\n  ejaculate           : 88.28% (226/256)\n  escape              : 0.25% (46/18398)\n  exploreobject       : 82.56% (625/757)\n  flinch              : 25.00% (93/372)\n  follow              : 82.73% (6643/8030)\n  freeze              : 93.50% (5406/5782)\n  genitalgroom        : 32.28% (408/1264)\n  huddle              : 93.49% (4365/4669)\n  intromit            : 10.37% (6974/67244)\n  mount               : 3.46% (1955/56520)\n  rear                : 10.35% (4832/46675)\n  reciprocalsniff     : 36.59% (3071/8394)\n  rest                : 97.97% (17111/17465)\n  run                 : 4.18% (15/359)\n  selfgroom           : 0.01% (2/16603)\n  shepherd            : 100.00% (5930/5930)\n  sniff               : 1.07% (4664/436084)\n  sniffbody           : 6.96% (1468/21098)\n  sniffface           : 0.02% (3/14776)\n  sniffgenital        : 3.21% (4556/142111)\n  submit              : 70.62% (1048/1484)\n  tussle              : 80.60% (835/1036)\n\nEpoch [2/50], Loss: 1.9408, Overall Validation Accuracy: 9.27%\nThe operation took 175.2473 seconds to complete.\n\n--- Individual Class Validation Accuracy ---\n  allogroom           : 48.26% (721/1494)\n  approach            : 0.07% (13/17742)\n  attack              : 8.59% (8903/103629)\n  attemptmount        : 7.15% (79/1105)\n  avoid               : 46.18% (2068/4478)\n  biteobject          : 17.58% (83/472)\n  chase               : 12.20% (584/4785)\n  chaseattack         : 64.06% (599/935)\n  climb               : 14.74% (1756/11911)\n  defend              : 21.29% (3878/18218)\n  dig                 : 1.25% (199/15948)\n  disengage           : 87.15% (2144/2460)\n  dominance           : 100.00% (7697/7697)\n  dominancegroom      : 74.84% (714/954)\n  dominancemount      : 28.96% (1034/3570)\n  ejaculate           : 98.83% (253/256)\n  escape              : 0.28% (52/18398)\n  exploreobject       : 83.36% (631/757)\n  flinch              : 10.75% (40/372)\n  follow              : 84.42% (6779/8030)\n  freeze              : 91.35% (5282/5782)\n  genitalgroom        : 68.83% (870/1264)\n  huddle              : 93.68% (4374/4669)\n  intromit            : 23.77% (15981/67244)\n  mount               : 4.99% (2818/56520)\n  rear                : 10.37% (4842/46675)\n  reciprocalsniff     : 44.73% (3755/8394)\n  rest                : 85.98% (15017/17465)\n  run                 : 53.48% (192/359)\n  selfgroom           : 0.90% (149/16603)\n  shepherd            : 100.00% (5930/5930)\n  sniff               : 4.39% (19151/436084)\n  sniffbody           : 10.01% (2111/21098)\n  sniffface           : 0.03% (5/14776)\n  sniffgenital        : 5.25% (7462/142111)\n  submit              : 74.06% (1099/1484)\n  tussle              : 82.14% (851/1036)\n\nEpoch [3/50], Loss: 1.8094, Overall Validation Accuracy: 11.97%\nThe operation took 175.8058 seconds to complete.\n\n--- Individual Class Validation Accuracy ---\n  allogroom           : 53.75% (803/1494)\n  approach            : 0.21% (37/17742)\n  attack              : 10.67% (11057/103629)\n  attemptmount        : 12.76% (141/1105)\n  avoid               : 45.82% (2052/4478)\n  biteobject          : 7.42% (35/472)\n  chase               : 13.40% (641/4785)\n  chaseattack         : 70.16% (656/935)\n  climb               : 26.67% (3177/11911)\n  defend              : 20.75% (3780/18218)\n  dig                 : 5.67% (905/15948)\n  disengage           : 90.08% (2216/2460)\n  dominance           : 99.97% (7695/7697)\n  dominancegroom      : 82.29% (785/954)\n  dominancemount      : 26.47% (945/3570)\n  ejaculate           : 99.22% (254/256)\n  escape              : 0.89% (164/18398)\n  exploreobject       : 79.52% (602/757)\n  flinch              : 13.98% (52/372)\n  follow              : 84.16% (6758/8030)\n  freeze              : 91.11% (5268/5782)\n  genitalgroom        : 69.07% (873/1264)\n  huddle              : 91.60% (4277/4669)\n  intromit            : 22.48% (15116/67244)\n  mount               : 6.89% (3894/56520)\n  rear                : 10.20% (4762/46675)\n  reciprocalsniff     : 53.47% (4488/8394)\n  rest                : 78.39% (13691/17465)\n  run                 : 78.83% (283/359)\n  selfgroom           : 2.43% (403/16603)\n  shepherd            : 100.00% (5930/5930)\n  sniff               : 9.69% (42277/436084)\n  sniffbody           : 22.86% (4823/21098)\n  sniffface           : 0.12% (18/14776)\n  sniffgenital        : 6.71% (9538/142111)\n  submit              : 81.27% (1206/1484)\n  tussle              : 86.00% (891/1036)\n\nEpoch [4/50], Loss: 1.7310, Overall Validation Accuracy: 14.99%\nThe operation took 174.7921 seconds to complete.\n\n--- Individual Class Validation Accuracy ---\n  allogroom           : 47.59% (711/1494)\n  approach            : 0.13% (23/17742)\n  attack              : 12.83% (13298/103629)\n  attemptmount        : 10.50% (116/1105)\n  avoid               : 48.79% (2185/4478)\n  biteobject          : 16.31% (77/472)\n  chase               : 19.04% (911/4785)\n  chaseattack         : 58.40% (546/935)\n  climb               : 26.19% (3120/11911)\n  defend              : 35.93% (6545/18218)\n  dig                 : 14.23% (2269/15948)\n  disengage           : 87.11% (2143/2460)\n  dominance           : 99.99% (7696/7697)\n  dominancegroom      : 92.24% (880/954)\n  dominancemount      : 33.98% (1213/3570)\n  ejaculate           : 98.83% (253/256)\n  escape              : 1.06% (195/18398)\n  exploreobject       : 76.62% (580/757)\n  flinch              : 17.74% (66/372)\n  follow              : 84.87% (6815/8030)\n  freeze              : 78.87% (4560/5782)\n  genitalgroom        : 69.62% (880/1264)\n  huddle              : 92.33% (4311/4669)\n  intromit            : 17.09% (11489/67244)\n  mount               : 10.86% (6136/56520)\n  rear                : 13.38% (6244/46675)\n  reciprocalsniff     : 60.88% (5110/8394)\n  rest                : 73.30% (12801/17465)\n  run                 : 81.89% (294/359)\n  selfgroom           : 5.50% (913/16603)\n  shepherd            : 100.00% (5930/5930)\n  sniff               : 7.66% (33388/436084)\n  sniffbody           : 22.42% (4731/21098)\n  sniffface           : 0.35% (51/14776)\n  sniffgenital        : 11.49% (16331/142111)\n  submit              : 85.44% (1268/1484)\n  tussle              : 91.51% (948/1036)\n\nEpoch [5/50], Loss: 1.6740, Overall Validation Accuracy: 15.41%\nThe operation took 174.8761 seconds to complete.\n\n--- Individual Class Validation Accuracy ---\n  allogroom           : 58.43% (873/1494)\n  approach            : 0.28% (49/17742)\n  attack              : 8.98% (9302/103629)\n  attemptmount        : 19.10% (211/1105)\n  avoid               : 48.97% (2193/4478)\n  biteobject          : 15.25% (72/472)\n  chase               : 15.59% (746/4785)\n  chaseattack         : 67.91% (635/935)\n  climb               : 36.76% (4378/11911)\n  defend              : 27.75% (5056/18218)\n  dig                 : 9.55% (1523/15948)\n  disengage           : 90.33% (2222/2460)\n  dominance           : 99.99% (7696/7697)\n  dominancegroom      : 89.94% (858/954)\n  dominancemount      : 15.66% (559/3570)\n  ejaculate           : 99.22% (254/256)\n  escape              : 2.69% (495/18398)\n  exploreobject       : 76.35% (578/757)\n  flinch              : 11.56% (43/372)\n  follow              : 84.84% (6813/8030)\n  freeze              : 87.56% (5063/5782)\n  genitalgroom        : 77.37% (978/1264)\n  huddle              : 91.00% (4249/4669)\n  intromit            : 34.30% (23064/67244)\n  mount               : 12.00% (6784/56520)\n  rear                : 10.43% (4868/46675)\n  reciprocalsniff     : 64.97% (5454/8394)\n  rest                : 78.41% (13694/17465)\n  run                 : 81.62% (293/359)\n  selfgroom           : 4.70% (780/16603)\n  shepherd            : 100.00% (5930/5930)\n  sniff               : 3.84% (16726/436084)\n  sniffbody           : 25.16% (5308/21098)\n  sniffface           : 0.21% (31/14776)\n  sniffgenital        : 9.20% (13072/142111)\n  submit              : 86.86% (1289/1484)\n  tussle              : 89.29% (925/1036)\n\nEpoch [6/50], Loss: 1.6273, Overall Validation Accuracy: 14.30%\nThe operation took 175.3320 seconds to complete.\n\n--- Individual Class Validation Accuracy ---\n  allogroom           : 66.67% (996/1494)\n  approach            : 0.23% (40/17742)\n  attack              : 11.42% (11831/103629)\n  attemptmount        : 12.76% (141/1105)\n  avoid               : 52.19% (2337/4478)\n  biteobject          : 21.82% (103/472)\n  chase               : 19.52% (934/4785)\n  chaseattack         : 69.09% (646/935)\n  climb               : 33.70% (4014/11911)\n  defend              : 21.31% (3883/18218)\n  dig                 : 10.67% (1702/15948)\n  disengage           : 91.30% (2246/2460)\n  dominance           : 99.99% (7696/7697)\n  dominancegroom      : 92.66% (884/954)\n  dominancemount      : 38.10% (1360/3570)\n  ejaculate           : 99.22% (254/256)\n  escape              : 2.55% (469/18398)\n  exploreobject       : 80.85% (612/757)\n  flinch              : 13.17% (49/372)\n  follow              : 84.96% (6822/8030)\n  freeze              : 91.09% (5267/5782)\n  genitalgroom        : 76.66% (969/1264)\n  huddle              : 86.55% (4041/4669)\n  intromit            : 25.93% (17439/67244)\n  mount               : 13.19% (7455/56520)\n  rear                : 11.28% (5263/46675)\n  reciprocalsniff     : 70.79% (5942/8394)\n  rest                : 79.22% (13835/17465)\n  run                 : 83.57% (300/359)\n  selfgroom           : 6.89% (1144/16603)\n  shepherd            : 100.00% (5930/5930)\n  sniff               : 4.13% (18030/436084)\n  sniffbody           : 36.07% (7609/21098)\n  sniffface           : 0.30% (44/14776)\n  sniffgenital        : 11.68% (16601/142111)\n  submit              : 84.30% (1251/1484)\n  tussle              : 88.51% (917/1036)\n\nEpoch [7/50], Loss: 1.5945, Overall Validation Accuracy: 14.86%\nThe operation took 175.6834 seconds to complete.\n\n--- Individual Class Validation Accuracy ---\n  allogroom           : 56.96% (851/1494)\n  approach            : 0.25% (45/17742)\n  attack              : 11.21% (11618/103629)\n  attemptmount        : 21.90% (242/1105)\n  avoid               : 52.66% (2358/4478)\n  biteobject          : 18.86% (89/472)\n  chase               : 20.48% (980/4785)\n  chaseattack         : 66.74% (624/935)\n  climb               : 38.09% (4537/11911)\n  defend              : 33.96% (6187/18218)\n  dig                 : 4.31% (687/15948)\n  disengage           : 90.85% (2235/2460)\n  dominance           : 100.00% (7697/7697)\n  dominancegroom      : 95.60% (912/954)\n  dominancemount      : 32.61% (1164/3570)\n  ejaculate           : 100.00% (256/256)\n  escape              : 1.72% (316/18398)\n  exploreobject       : 82.03% (621/757)\n  flinch              : 13.71% (51/372)\n  follow              : 84.52% (6787/8030)\n  freeze              : 83.36% (4820/5782)\n  genitalgroom        : 79.75% (1008/1264)\n  huddle              : 89.36% (4172/4669)\n  intromit            : 21.56% (14501/67244)\n  mount               : 21.33% (12056/56520)\n  rear                : 14.50% (6770/46675)\n  reciprocalsniff     : 64.80% (5439/8394)\n  rest                : 73.69% (12870/17465)\n  run                 : 89.42% (321/359)\n  selfgroom           : 5.81% (964/16603)\n  shepherd            : 100.00% (5930/5930)\n  sniff               : 3.18% (13868/436084)\n  sniffbody           : 33.96% (7164/21098)\n  sniffface           : 1.08% (159/14776)\n  sniffgenital        : 3.74% (5317/142111)\n  submit              : 85.92% (1275/1484)\n  tussle              : 88.32% (915/1036)\n\nEpoch [8/50], Loss: 1.5692, Overall Validation Accuracy: 13.62%\nThe operation took 174.9226 seconds to complete.\n\n--- Individual Class Validation Accuracy ---\n  allogroom           : 77.24% (1154/1494)\n  approach            : 0.15% (26/17742)\n  attack              : 12.51% (12969/103629)\n  attemptmount        : 18.28% (202/1105)\n  avoid               : 46.20% (2069/4478)\n  biteobject          : 22.88% (108/472)\n  chase               : 17.68% (846/4785)\n  chaseattack         : 79.57% (744/935)\n  climb               : 34.17% (4070/11911)\n  defend              : 26.12% (4758/18218)\n  dig                 : 8.66% (1381/15948)\n  disengage           : 88.17% (2169/2460)\n  dominance           : 99.99% (7696/7697)\n  dominancegroom      : 83.12% (793/954)\n  dominancemount      : 21.06% (752/3570)\n  ejaculate           : 98.44% (252/256)\n  escape              : 1.57% (289/18398)\n  exploreobject       : 80.45% (609/757)\n  flinch              : 16.94% (63/372)\n  follow              : 85.01% (6826/8030)\n  freeze              : 88.19% (5099/5782)\n  genitalgroom        : 71.12% (899/1264)\n  huddle              : 92.70% (4328/4669)\n  intromit            : 39.22% (26376/67244)\n  mount               : 24.75% (13990/56520)\n  rear                : 12.88% (6012/46675)\n  reciprocalsniff     : 65.98% (5538/8394)\n  rest                : 81.60% (14252/17465)\n  run                 : 81.62% (293/359)\n  selfgroom           : 1.96% (326/16603)\n  shepherd            : 100.00% (5930/5930)\n  sniff               : 6.58% (28699/436084)\n  sniffbody           : 32.70% (6898/21098)\n  sniffface           : 1.00% (148/14776)\n  sniffgenital        : 18.17% (25815/142111)\n  submit              : 86.73% (1287/1484)\n  tussle              : 86.87% (900/1036)\n\nEpoch [9/50], Loss: 1.5450, Overall Validation Accuracy: 18.17%\nThe operation took 174.9738 seconds to complete.\n\n--- Individual Class Validation Accuracy ---\n  allogroom           : 79.25% (1184/1494)\n  approach            : 0.33% (58/17742)\n  attack              : 11.12% (11525/103629)\n  attemptmount        : 22.35% (247/1105)\n  avoid               : 57.59% (2579/4478)\n  biteobject          : 16.74% (79/472)\n  chase               : 20.25% (969/4785)\n  chaseattack         : 69.84% (653/935)\n  climb               : 38.66% (4605/11911)\n  defend              : 33.74% (6146/18218)\n  dig                 : 13.38% (2134/15948)\n  disengage           : 89.23% (2195/2460)\n  dominance           : 99.99% (7696/7697)\n  dominancegroom      : 83.02% (792/954)\n  dominancemount      : 34.48% (1231/3570)\n  ejaculate           : 98.83% (253/256)\n  escape              : 3.49% (643/18398)\n  exploreobject       : 73.98% (560/757)\n  flinch              : 30.65% (114/372)\n  follow              : 84.73% (6804/8030)\n  freeze              : 84.02% (4858/5782)\n  genitalgroom        : 84.73% (1071/1264)\n  huddle              : 94.97% (4434/4669)\n  intromit            : 29.49% (19833/67244)\n  mount               : 19.60% (11078/56520)\n  rear                : 14.33% (6688/46675)\n  reciprocalsniff     : 63.77% (5353/8394)\n  rest                : 81.23% (14187/17465)\n  run                 : 80.78% (290/359)\n  selfgroom           : 7.08% (1175/16603)\n  shepherd            : 100.00% (5930/5930)\n  sniff               : 3.80% (16571/436084)\n  sniffbody           : 29.28% (6177/21098)\n  sniffface           : 0.87% (129/14776)\n  sniffgenital        : 14.18% (20155/142111)\n  submit              : 85.44% (1268/1484)\n  tussle              : 80.02% (829/1036)\n\nEpoch [10/50], Loss: 1.5274, Overall Validation Accuracy: 15.92%\nThe operation took 174.6473 seconds to complete.\n\n--- Individual Class Validation Accuracy ---\n  allogroom           : 74.03% (1106/1494)\n  approach            : 1.04% (184/17742)\n  attack              : 13.09% (13567/103629)\n  attemptmount        : 22.71% (251/1105)\n  avoid               : 53.46% (2394/4478)\n  biteobject          : 19.92% (94/472)\n  chase               : 25.98% (1243/4785)\n  chaseattack         : 68.34% (639/935)\n  climb               : 39.48% (4703/11911)\n  defend              : 32.28% (5880/18218)\n  dig                 : 17.09% (2725/15948)\n  disengage           : 89.23% (2195/2460)\n  dominance           : 99.99% (7696/7697)\n  dominancegroom      : 91.09% (869/954)\n  dominancemount      : 39.19% (1399/3570)\n  ejaculate           : 98.83% (253/256)\n  escape              : 4.38% (805/18398)\n  exploreobject       : 79.13% (599/757)\n  flinch              : 19.62% (73/372)\n  follow              : 85.12% (6835/8030)\n  freeze              : 83.66% (4837/5782)\n  genitalgroom        : 80.85% (1022/1264)\n  huddle              : 92.27% (4308/4669)\n  intromit            : 26.93% (18112/67244)\n  mount               : 22.74% (12852/56520)\n  rear                : 12.64% (5901/46675)\n  reciprocalsniff     : 71.73% (6021/8394)\n  rest                : 78.22% (13661/17465)\n  run                 : 76.04% (273/359)\n  selfgroom           : 12.92% (2145/16603)\n  shepherd            : 100.00% (5930/5930)\n  sniff               : 3.96% (17252/436084)\n  sniffbody           : 37.07% (7822/21098)\n  sniffface           : 0.81% (120/14776)\n  sniffgenital        : 15.67% (22275/142111)\n  submit              : 87.13% (1293/1484)\n  tussle              : 82.34% (853/1036)\n\nEpoch [11/50], Loss: 1.5096, Overall Validation Accuracy: 16.64%\nThe operation took 174.7240 seconds to complete.\n\n--- Individual Class Validation Accuracy ---\n  allogroom           : 74.77% (1117/1494)\n  approach            : 0.91% (161/17742)\n  attack              : 10.98% (11376/103629)\n  attemptmount        : 27.60% (305/1105)\n  avoid               : 59.36% (2658/4478)\n  biteobject          : 23.94% (113/472)\n  chase               : 20.75% (993/4785)\n  chaseattack         : 75.08% (702/935)\n  climb               : 43.32% (5160/11911)\n  defend              : 36.85% (6713/18218)\n  dig                 : 16.00% (2552/15948)\n  disengage           : 90.16% (2218/2460)\n  dominance           : 99.97% (7695/7697)\n  dominancegroom      : 90.78% (866/954)\n  dominancemount      : 36.50% (1303/3570)\n  ejaculate           : 99.22% (254/256)\n  escape              : 5.79% (1065/18398)\n  exploreobject       : 69.62% (527/757)\n  flinch              : 21.24% (79/372)\n  follow              : 85.03% (6828/8030)\n  freeze              : 79.23% (4581/5782)\n  genitalgroom        : 80.30% (1015/1264)\n  huddle              : 91.35% (4265/4669)\n  intromit            : 31.77% (21362/67244)\n  mount               : 25.54% (14434/56520)\n  rear                : 15.03% (7016/46675)\n  reciprocalsniff     : 70.48% (5916/8394)\n  rest                : 76.05% (13282/17465)\n  run                 : 85.79% (308/359)\n  selfgroom           : 12.14% (2016/16603)\n  shepherd            : 100.00% (5930/5930)\n  sniff               : 3.86% (16820/436084)\n  sniffbody           : 28.86% (6088/21098)\n  sniffface           : 1.24% (183/14776)\n  sniffgenital        : 17.77% (25249/142111)\n  submit              : 83.22% (1235/1484)\n  tussle              : 82.63% (856/1036)\n\nEpoch [12/50], Loss: 1.4963, Overall Validation Accuracy: 17.11%\nThe operation took 173.7569 seconds to complete.\n\n--- Individual Class Validation Accuracy ---\n  allogroom           : 73.63% (1100/1494)\n  approach            : 0.46% (82/17742)\n  attack              : 12.43% (12879/103629)\n  attemptmount        : 29.23% (323/1105)\n  avoid               : 59.96% (2685/4478)\n  biteobject          : 34.32% (162/472)\n  chase               : 22.30% (1067/4785)\n  chaseattack         : 72.09% (674/935)\n  climb               : 42.18% (5024/11911)\n  defend              : 36.13% (6582/18218)\n  dig                 : 17.52% (2794/15948)\n  disengage           : 86.99% (2140/2460)\n  dominance           : 99.99% (7696/7697)\n  dominancegroom      : 89.83% (857/954)\n  dominancemount      : 37.28% (1331/3570)\n  ejaculate           : 99.61% (255/256)\n  escape              : 6.73% (1238/18398)\n  exploreobject       : 69.48% (526/757)\n  flinch              : 23.92% (89/372)\n  follow              : 85.09% (6833/8030)\n  freeze              : 77.38% (4474/5782)\n  genitalgroom        : 82.59% (1044/1264)\n  huddle              : 94.05% (4391/4669)\n  intromit            : 24.26% (16313/67244)\n  mount               : 28.79% (16270/56520)\n  rear                : 14.35% (6700/46675)\n  reciprocalsniff     : 66.02% (5542/8394)\n  rest                : 79.74% (13926/17465)\n  run                 : 73.54% (264/359)\n  selfgroom           : 12.67% (2103/16603)\n  shepherd            : 100.00% (5930/5930)\n  sniff               : 3.42% (14923/436084)\n  sniffbody           : 41.42% (8739/21098)\n  sniffface           : 1.46% (216/14776)\n  sniffgenital        : 9.14% (12987/142111)\n  submit              : 87.80% (1303/1484)\n  tussle              : 73.07% (757/1036)\n\nEpoch [13/50], Loss: 1.4879, Overall Validation Accuracy: 15.90%\nThe operation took 175.1607 seconds to complete.\n\n--- Individual Class Validation Accuracy ---\n  allogroom           : 79.65% (1190/1494)\n  approach            : 1.01% (180/17742)\n  attack              : 11.64% (12063/103629)\n  attemptmount        : 26.97% (298/1105)\n  avoid               : 53.71% (2405/4478)\n  biteobject          : 31.78% (150/472)\n  chase               : 23.07% (1104/4785)\n  chaseattack         : 72.19% (675/935)\n  climb               : 38.66% (4605/11911)\n  defend              : 31.45% (5729/18218)\n  dig                 : 20.86% (3327/15948)\n  disengage           : 82.32% (2025/2460)\n  dominance           : 99.99% (7696/7697)\n  dominancegroom      : 89.41% (853/954)\n  dominancemount      : 24.23% (865/3570)\n  ejaculate           : 99.22% (254/256)\n  escape              : 5.25% (966/18398)\n  exploreobject       : 68.03% (515/757)\n  flinch              : 26.34% (98/372)\n  follow              : 85.39% (6857/8030)\n  freeze              : 85.59% (4949/5782)\n  genitalgroom        : 81.17% (1026/1264)\n  huddle              : 91.39% (4267/4669)\n  intromit            : 29.51% (19846/67244)\n  mount               : 21.83% (12338/56520)\n  rear                : 13.87% (6476/46675)\n  reciprocalsniff     : 75.54% (6341/8394)\n  rest                : 74.69% (13044/17465)\n  run                 : 83.84% (301/359)\n  selfgroom           : 10.81% (1794/16603)\n  shepherd            : 100.00% (5930/5930)\n  sniff               : 6.07% (26450/436084)\n  sniffbody           : 38.94% (8215/21098)\n  sniffface           : 0.93% (138/14776)\n  sniffgenital        : 21.48% (30519/142111)\n  submit              : 88.95% (1320/1484)\n  tussle              : 74.71% (774/1036)\n\nEpoch [14/50], Loss: 1.4760, Overall Validation Accuracy: 18.27%\nThe operation took 174.7485 seconds to complete.\n\n--- Individual Class Validation Accuracy ---\n  allogroom           : 77.84% (1163/1494)\n  approach            : 1.43% (254/17742)\n  attack              : 12.67% (13134/103629)\n  attemptmount        : 26.15% (289/1105)\n  avoid               : 59.71% (2674/4478)\n  biteobject          : 23.73% (112/472)\n  chase               : 23.85% (1141/4785)\n  chaseattack         : 76.90% (719/935)\n  climb               : 37.46% (4462/11911)\n  defend              : 43.25% (7880/18218)\n  dig                 : 21.63% (3450/15948)\n  disengage           : 89.47% (2201/2460)\n  dominance           : 99.99% (7696/7697)\n  dominancegroom      : 91.93% (877/954)\n  dominancemount      : 22.94% (819/3570)\n  ejaculate           : 98.44% (252/256)\n  escape              : 9.47% (1743/18398)\n  exploreobject       : 74.11% (561/757)\n  flinch              : 26.88% (100/372)\n  follow              : 85.38% (6856/8030)\n  freeze              : 71.20% (4117/5782)\n  genitalgroom        : 86.16% (1089/1264)\n  huddle              : 92.87% (4336/4669)\n  intromit            : 32.14% (21609/67244)\n  mount               : 24.39% (13786/56520)\n  rear                : 15.06% (7028/46675)\n  reciprocalsniff     : 73.34% (6156/8394)\n  rest                : 78.30% (13675/17465)\n  run                 : 78.27% (281/359)\n  selfgroom           : 13.93% (2313/16603)\n  shepherd            : 100.00% (5930/5930)\n  sniff               : 4.59% (20013/436084)\n  sniffbody           : 32.52% (6861/21098)\n  sniffface           : 3.92% (579/14776)\n  sniffgenital        : 20.60% (29272/142111)\n  submit              : 86.32% (1281/1484)\n  tussle              : 84.85% (879/1036)\n\nEpoch [15/50], Loss: 1.4636, Overall Validation Accuracy: 18.27%\nThe operation took 175.0459 seconds to complete.\n\n--- Individual Class Validation Accuracy ---\n  allogroom           : 79.52% (1188/1494)\n  approach            : 0.64% (114/17742)\n  attack              : 12.07% (12509/103629)\n  attemptmount        : 28.96% (320/1105)\n  avoid               : 59.74% (2675/4478)\n  biteobject          : 38.56% (182/472)\n  chase               : 21.59% (1033/4785)\n  chaseattack         : 78.18% (731/935)\n  climb               : 43.35% (5163/11911)\n  defend              : 45.91% (8364/18218)\n  dig                 : 16.95% (2703/15948)\n  disengage           : 86.50% (2128/2460)\n  dominance           : 99.96% (7694/7697)\n  dominancegroom      : 92.35% (881/954)\n  dominancemount      : 32.94% (1176/3570)\n  ejaculate           : 99.22% (254/256)\n  escape              : 8.89% (1636/18398)\n  exploreobject       : 67.24% (509/757)\n  flinch              : 20.97% (78/372)\n  follow              : 85.14% (6837/8030)\n  freeze              : 69.41% (4013/5782)\n  genitalgroom        : 84.41% (1067/1264)\n  huddle              : 94.20% (4398/4669)\n  intromit            : 37.01% (24889/67244)\n  mount               : 28.37% (16032/56520)\n  rear                : 14.68% (6854/46675)\n  reciprocalsniff     : 72.72% (6104/8394)\n  rest                : 81.86% (14296/17465)\n  run                 : 78.55% (282/359)\n  selfgroom           : 14.12% (2344/16603)\n  shepherd            : 100.00% (5930/5930)\n  sniff               : 3.72% (16230/436084)\n  sniffbody           : 35.28% (7443/21098)\n  sniffface           : 2.32% (343/14776)\n  sniffgenital        : 15.31% (21762/142111)\n  submit              : 88.07% (1307/1484)\n  tussle              : 83.01% (860/1036)\n\nEpoch [16/50], Loss: 1.4544, Overall Validation Accuracy: 17.78%\nThe operation took 175.6653 seconds to complete.\n\n--- Individual Class Validation Accuracy ---\n  allogroom           : 81.79% (1222/1494)\n  approach            : 3.73% (661/17742)\n  attack              : 11.97% (12407/103629)\n  attemptmount        : 21.27% (235/1105)\n  avoid               : 54.62% (2446/4478)\n  biteobject          : 30.08% (142/472)\n  chase               : 24.18% (1157/4785)\n  chaseattack         : 77.86% (728/935)\n  climb               : 43.52% (5184/11911)\n  defend              : 37.31% (6798/18218)\n  dig                 : 15.61% (2489/15948)\n  disengage           : 90.65% (2230/2460)\n  dominance           : 99.99% (7696/7697)\n  dominancegroom      : 91.61% (874/954)\n  dominancemount      : 34.71% (1239/3570)\n  ejaculate           : 99.61% (255/256)\n  escape              : 9.27% (1705/18398)\n  exploreobject       : 80.85% (612/757)\n  flinch              : 23.12% (86/372)\n  follow              : 84.62% (6795/8030)\n  freeze              : 78.19% (4521/5782)\n  genitalgroom        : 82.28% (1040/1264)\n  huddle              : 93.36% (4359/4669)\n  intromit            : 38.35% (25788/67244)\n  mount               : 26.31% (14871/56520)\n  rear                : 14.97% (6989/46675)\n  reciprocalsniff     : 73.59% (6177/8394)\n  rest                : 77.61% (13554/17465)\n  run                 : 84.68% (304/359)\n  selfgroom           : 12.84% (2132/16603)\n  shepherd            : 100.00% (5930/5930)\n  sniff               : 5.92% (25820/436084)\n  sniffbody           : 29.93% (6315/21098)\n  sniffface           : 1.50% (222/14776)\n  sniffgenital        : 16.29% (23153/142111)\n  submit              : 90.57% (1344/1484)\n  tussle              : 83.11% (861/1036)\n\nEpoch [17/50], Loss: 1.4440, Overall Validation Accuracy: 18.52%\nThe operation took 174.4024 seconds to complete.\n\n--- Individual Class Validation Accuracy ---\n  allogroom           : 86.14% (1287/1494)\n  approach            : 1.94% (344/17742)\n  attack              : 15.75% (16319/103629)\n  attemptmount        : 26.61% (294/1105)\n  avoid               : 61.21% (2741/4478)\n  biteobject          : 26.91% (127/472)\n  chase               : 23.51% (1125/4785)\n  chaseattack         : 77.33% (723/935)\n  climb               : 46.10% (5491/11911)\n  defend              : 32.35% (5893/18218)\n  dig                 : 25.76% (4108/15948)\n  disengage           : 87.89% (2162/2460)\n  dominance           : 99.99% (7696/7697)\n  dominancegroom      : 87.21% (832/954)\n  dominancemount      : 25.85% (923/3570)\n  ejaculate           : 100.00% (256/256)\n  escape              : 6.63% (1219/18398)\n  exploreobject       : 71.20% (539/757)\n  flinch              : 27.96% (104/372)\n  follow              : 84.69% (6801/8030)\n  freeze              : 85.07% (4919/5782)\n  genitalgroom        : 83.39% (1054/1264)\n  huddle              : 91.07% (4252/4669)\n  intromit            : 33.13% (22279/67244)\n  mount               : 21.79% (12316/56520)\n  rear                : 15.31% (7148/46675)\n  reciprocalsniff     : 78.73% (6609/8394)\n  rest                : 75.76% (13231/17465)\n  run                 : 72.70% (261/359)\n  selfgroom           : 13.37% (2219/16603)\n  shepherd            : 100.00% (5930/5930)\n  sniff               : 7.39% (32232/436084)\n  sniffbody           : 47.40% (10000/21098)\n  sniffface           : 3.38% (500/14776)\n  sniffgenital        : 11.70% (16620/142111)\n  submit              : 85.71% (1272/1484)\n  tussle              : 82.05% (850/1036)\n\nEpoch [18/50], Loss: 1.4359, Overall Validation Accuracy: 18.74%\nThe operation took 174.9025 seconds to complete.\n\n--- Individual Class Validation Accuracy ---\n  allogroom           : 79.32% (1185/1494)\n  approach            : 5.42% (961/17742)\n  attack              : 15.04% (15590/103629)\n  attemptmount        : 30.86% (341/1105)\n  avoid               : 59.98% (2686/4478)\n  biteobject          : 38.35% (181/472)\n  chase               : 22.30% (1067/4785)\n  chaseattack         : 75.94% (710/935)\n  climb               : 36.44% (4340/11911)\n  defend              : 36.04% (6566/18218)\n  dig                 : 16.77% (2675/15948)\n  disengage           : 84.02% (2067/2460)\n  dominance           : 99.97% (7695/7697)\n  dominancegroom      : 95.91% (915/954)\n  dominancemount      : 30.56% (1091/3570)\n  ejaculate           : 100.00% (256/256)\n  escape              : 9.78% (1800/18398)\n  exploreobject       : 79.00% (598/757)\n  flinch              : 28.49% (106/372)\n  follow              : 85.31% (6850/8030)\n  freeze              : 79.26% (4583/5782)\n  genitalgroom        : 80.85% (1022/1264)\n  huddle              : 92.50% (4319/4669)\n  intromit            : 41.99% (28238/67244)\n  mount               : 28.74% (16243/56520)\n  rear                : 17.03% (7949/46675)\n  reciprocalsniff     : 74.42% (6247/8394)\n  rest                : 80.66% (14087/17465)\n  run                 : 82.45% (296/359)\n  selfgroom           : 13.79% (2290/16603)\n  shepherd            : 100.00% (5930/5930)\n  sniff               : 7.43% (32403/436084)\n  sniffbody           : 34.99% (7383/21098)\n  sniffface           : 2.45% (362/14776)\n  sniffgenital        : 15.63% (22215/142111)\n  submit              : 86.79% (1288/1484)\n  tussle              : 83.59% (866/1036)\n\nEpoch [19/50], Loss: 1.4299, Overall Validation Accuracy: 19.93%\nThe operation took 174.4123 seconds to complete.\n\n--- Individual Class Validation Accuracy ---\n  allogroom           : 77.44% (1157/1494)\n  approach            : 5.44% (966/17742)\n  attack              : 13.92% (14422/103629)\n  attemptmount        : 29.41% (325/1105)\n  avoid               : 58.84% (2635/4478)\n  biteobject          : 26.69% (126/472)\n  chase               : 26.62% (1274/4785)\n  chaseattack         : 76.90% (719/935)\n  climb               : 34.37% (4094/11911)\n  defend              : 38.69% (7048/18218)\n  dig                 : 21.45% (3421/15948)\n  disengage           : 91.91% (2261/2460)\n  dominance           : 99.99% (7696/7697)\n  dominancegroom      : 95.07% (907/954)\n  dominancemount      : 32.44% (1158/3570)\n  ejaculate           : 98.83% (253/256)\n  escape              : 11.27% (2073/18398)\n  exploreobject       : 81.24% (615/757)\n  flinch              : 28.76% (107/372)\n  follow              : 84.23% (6764/8030)\n  freeze              : 77.60% (4487/5782)\n  genitalgroom        : 86.16% (1089/1264)\n  huddle              : 92.03% (4297/4669)\n  intromit            : 35.60% (23942/67244)\n  mount               : 25.63% (14486/56520)\n  rear                : 16.61% (7755/46675)\n  reciprocalsniff     : 73.54% (6173/8394)\n  rest                : 80.46% (14053/17465)\n  run                 : 75.77% (272/359)\n  selfgroom           : 14.87% (2469/16603)\n  shepherd            : 100.00% (5930/5930)\n  sniff               : 6.09% (26573/436084)\n  sniffbody           : 33.09% (6982/21098)\n  sniffface           : 6.67% (985/14776)\n  sniffgenital        : 14.09% (20018/142111)\n  submit              : 88.14% (1308/1484)\n  tussle              : 87.45% (906/1036)\n\nEpoch [20/50], Loss: 1.4214, Overall Validation Accuracy: 18.66%\nThe operation took 174.4429 seconds to complete.\n\n--- Individual Class Validation Accuracy ---\n  allogroom           : 79.72% (1191/1494)\n  approach            : 8.17% (1449/17742)\n  attack              : 12.76% (13224/103629)\n  attemptmount        : 35.75% (395/1105)\n  avoid               : 64.56% (2891/4478)\n  biteobject          : 48.94% (231/472)\n  chase               : 23.68% (1133/4785)\n  chaseattack         : 74.55% (697/935)\n  climb               : 43.93% (5233/11911)\n  defend              : 28.78% (5243/18218)\n  dig                 : 16.83% (2684/15948)\n  disengage           : 86.34% (2124/2460)\n  dominance           : 99.97% (7695/7697)\n  dominancegroom      : 93.19% (889/954)\n  dominancemount      : 39.80% (1421/3570)\n  ejaculate           : 99.22% (254/256)\n  escape              : 17.68% (3252/18398)\n  exploreobject       : 70.94% (537/757)\n  flinch              : 26.34% (98/372)\n  follow              : 84.88% (6816/8030)\n  freeze              : 77.93% (4506/5782)\n  genitalgroom        : 87.10% (1101/1264)\n  huddle              : 90.15% (4209/4669)\n  intromit            : 42.36% (28484/67244)\n  mount               : 23.15% (13086/56520)\n  rear                : 16.37% (7643/46675)\n  reciprocalsniff     : 77.13% (6474/8394)\n  rest                : 73.86% (12899/17465)\n  run                 : 86.63% (311/359)\n  selfgroom           : 16.44% (2729/16603)\n  shepherd            : 100.00% (5930/5930)\n  sniff               : 3.86% (16825/436084)\n  sniffbody           : 28.87% (6092/21098)\n  sniffface           : 5.57% (823/14776)\n  sniffgenital        : 12.99% (18462/142111)\n  submit              : 88.21% (1309/1484)\n  tussle              : 70.75% (733/1036)\n\nEpoch [21/50], Loss: 1.4174, Overall Validation Accuracy: 17.66%\nThe operation took 174.1114 seconds to complete.\n\n--- Individual Class Validation Accuracy ---\n  allogroom           : 74.10% (1107/1494)\n  approach            : 6.17% (1094/17742)\n  attack              : 14.47% (14996/103629)\n  attemptmount        : 34.66% (383/1105)\n  avoid               : 61.03% (2733/4478)\n  biteobject          : 27.75% (131/472)\n  chase               : 24.66% (1180/4785)\n  chaseattack         : 77.01% (720/935)\n  climb               : 46.29% (5514/11911)\n  defend              : 40.33% (7347/18218)\n  dig                 : 20.11% (3207/15948)\n  disengage           : 84.67% (2083/2460)\n  dominance           : 100.00% (7697/7697)\n  dominancegroom      : 94.86% (905/954)\n  dominancemount      : 24.03% (858/3570)\n  ejaculate           : 99.61% (255/256)\n  escape              : 8.17% (1503/18398)\n  exploreobject       : 78.60% (595/757)\n  flinch              : 40.32% (150/372)\n  follow              : 85.09% (6833/8030)\n  freeze              : 72.21% (4175/5782)\n  genitalgroom        : 81.88% (1035/1264)\n  huddle              : 93.96% (4387/4669)\n  intromit            : 37.53% (25237/67244)\n  mount               : 26.49% (14971/56520)\n  rear                : 16.28% (7597/46675)\n  reciprocalsniff     : 70.75% (5939/8394)\n  rest                : 80.58% (14074/17465)\n  run                 : 75.49% (271/359)\n  selfgroom           : 12.49% (2073/16603)\n  shepherd            : 100.00% (5930/5930)\n  sniff               : 6.19% (26976/436084)\n  sniffbody           : 39.57% (8348/21098)\n  sniffface           : 4.23% (625/14776)\n  sniffgenital        : 20.21% (28716/142111)\n  submit              : 88.07% (1307/1484)\n  tussle              : 69.40% (719/1036)\n\nEpoch [22/50], Loss: 1.4116, Overall Validation Accuracy: 19.77%\nThe operation took 173.8296 seconds to complete.\n\n--- Individual Class Validation Accuracy ---\n  allogroom           : 77.51% (1158/1494)\n  approach            : 5.01% (889/17742)\n  attack              : 15.22% (15774/103629)\n  attemptmount        : 34.39% (380/1105)\n  avoid               : 60.67% (2717/4478)\n  biteobject          : 43.64% (206/472)\n  chase               : 26.71% (1278/4785)\n  chaseattack         : 80.32% (751/935)\n  climb               : 50.80% (6051/11911)\n  defend              : 32.36% (5896/18218)\n  dig                 : 16.15% (2576/15948)\n  disengage           : 92.56% (2277/2460)\n  dominance           : 99.99% (7696/7697)\n  dominancegroom      : 95.81% (914/954)\n  dominancemount      : 34.90% (1246/3570)\n  ejaculate           : 98.05% (251/256)\n  escape              : 7.85% (1445/18398)\n  exploreobject       : 78.86% (597/757)\n  flinch              : 23.12% (86/372)\n  follow              : 84.55% (6789/8030)\n  freeze              : 84.76% (4901/5782)\n  genitalgroom        : 90.66% (1146/1264)\n  huddle              : 92.93% (4339/4669)\n  intromit            : 35.21% (23675/67244)\n  mount               : 25.57% (14451/56520)\n  rear                : 17.40% (8120/46675)\n  reciprocalsniff     : 74.87% (6285/8394)\n  rest                : 77.41% (13519/17465)\n  run                 : 81.89% (294/359)\n  selfgroom           : 15.01% (2492/16603)\n  shepherd            : 100.00% (5930/5930)\n  sniff               : 3.40% (14829/436084)\n  sniffbody           : 30.50% (6435/21098)\n  sniffface           : 4.56% (674/14776)\n  sniffgenital        : 12.31% (17500/142111)\n  submit              : 89.76% (1332/1484)\n  tussle              : 78.96% (818/1036)\n\nEpoch [23/50], Loss: 1.4092, Overall Validation Accuracy: 17.35%\nThe operation took 173.9084 seconds to complete.\n\n--- Individual Class Validation Accuracy ---\n  allogroom           : 85.54% (1278/1494)\n  approach            : 3.55% (630/17742)\n  attack              : 14.38% (14899/103629)\n  attemptmount        : 27.96% (309/1105)\n  avoid               : 59.98% (2686/4478)\n  biteobject          : 56.78% (268/472)\n  chase               : 23.85% (1141/4785)\n  chaseattack         : 78.29% (732/935)\n  climb               : 46.61% (5552/11911)\n  defend              : 32.33% (5890/18218)\n  dig                 : 21.54% (3435/15948)\n  disengage           : 90.45% (2225/2460)\n  dominance           : 99.96% (7694/7697)\n  dominancegroom      : 85.22% (813/954)\n  dominancemount      : 30.31% (1082/3570)\n  ejaculate           : 98.83% (253/256)\n  escape              : 7.83% (1441/18398)\n  exploreobject       : 63.28% (479/757)\n  flinch              : 33.33% (124/372)\n  follow              : 84.26% (6766/8030)\n  freeze              : 83.15% (4808/5782)\n  genitalgroom        : 84.89% (1073/1264)\n  huddle              : 94.35% (4405/4669)\n  intromit            : 43.02% (28930/67244)\n  mount               : 29.27% (16541/56520)\n  rear                : 15.85% (7396/46675)\n  reciprocalsniff     : 71.49% (6001/8394)\n  rest                : 74.36% (12987/17465)\n  run                 : 86.91% (312/359)\n  selfgroom           : 10.43% (1731/16603)\n  shepherd            : 100.00% (5930/5930)\n  sniff               : 5.72% (24943/436084)\n  sniffbody           : 35.62% (7515/21098)\n  sniffface           : 2.79% (412/14776)\n  sniffgenital        : 12.69% (18029/142111)\n  submit              : 92.39% (1371/1484)\n  tussle              : 73.65% (763/1036)\n\nEpoch [24/50], Loss: 1.4013, Overall Validation Accuracy: 18.76%\nThe operation took 174.0655 seconds to complete.\n\n--- Individual Class Validation Accuracy ---\n  allogroom           : 82.33% (1230/1494)\n  approach            : 7.44% (1320/17742)\n  attack              : 13.20% (13683/103629)\n  attemptmount        : 39.19% (433/1105)\n  avoid               : 61.66% (2761/4478)\n  biteobject          : 34.32% (162/472)\n  chase               : 29.97% (1434/4785)\n  chaseattack         : 72.41% (677/935)\n  climb               : 53.19% (6335/11911)\n  defend              : 31.41% (5722/18218)\n  dig                 : 22.10% (3524/15948)\n  disengage           : 88.54% (2178/2460)\n  dominance           : 99.96% (7694/7697)\n  dominancegroom      : 89.94% (858/954)\n  dominancemount      : 28.38% (1013/3570)\n  ejaculate           : 100.00% (256/256)\n  escape              : 12.00% (2207/18398)\n  exploreobject       : 78.86% (597/757)\n  flinch              : 25.27% (94/372)\n  follow              : 85.17% (6839/8030)\n  freeze              : 81.91% (4736/5782)\n  genitalgroom        : 86.47% (1093/1264)\n  huddle              : 87.51% (4086/4669)\n  intromit            : 41.64% (27998/67244)\n  mount               : 27.49% (15539/56520)\n  rear                : 16.99% (7932/46675)\n  reciprocalsniff     : 78.46% (6586/8394)\n  rest                : 77.66% (13564/17465)\n  run                 : 77.99% (280/359)\n  selfgroom           : 13.22% (2195/16603)\n  shepherd            : 100.00% (5930/5930)\n  sniff               : 6.63% (28920/436084)\n  sniffbody           : 27.02% (5701/21098)\n  sniffface           : 6.47% (956/14776)\n  sniffgenital        : 17.82% (25319/142111)\n  submit              : 90.30% (1340/1484)\n  tussle              : 80.50% (834/1036)\n\nEpoch [25/50], Loss: 1.3974, Overall Validation Accuracy: 19.80%\nThe operation took 174.4433 seconds to complete.\n\n--- Individual Class Validation Accuracy ---\n  allogroom           : 82.13% (1227/1494)\n  approach            : 5.01% (888/17742)\n  attack              : 13.39% (13879/103629)\n  attemptmount        : 29.77% (329/1105)\n  avoid               : 59.62% (2670/4478)\n  biteobject          : 47.46% (224/472)\n  chase               : 30.45% (1457/4785)\n  chaseattack         : 83.53% (781/935)\n  climb               : 46.78% (5572/11911)\n  defend              : 32.81% (5977/18218)\n  dig                 : 30.89% (4926/15948)\n  disengage           : 88.33% (2173/2460)\n  dominance           : 99.99% (7696/7697)\n  dominancegroom      : 95.60% (912/954)\n  dominancemount      : 31.32% (1118/3570)\n  ejaculate           : 98.05% (251/256)\n  escape              : 7.59% (1397/18398)\n  exploreobject       : 69.35% (525/757)\n  flinch              : 37.37% (139/372)\n  follow              : 84.81% (6810/8030)\n  freeze              : 84.19% (4868/5782)\n  genitalgroom        : 78.80% (996/1264)\n  huddle              : 93.96% (4387/4669)\n  intromit            : 38.86% (26131/67244)\n  mount               : 29.78% (16829/56520)\n  rear                : 18.49% (8630/46675)\n  reciprocalsniff     : 76.19% (6395/8394)\n  rest                : 71.72% (12526/17465)\n  run                 : 86.63% (311/359)\n  selfgroom           : 13.09% (2174/16603)\n  shepherd            : 100.00% (5930/5930)\n  sniff               : 6.30% (27494/436084)\n  sniffbody           : 35.25% (7437/21098)\n  sniffface           : 6.09% (900/14776)\n  sniffgenital        : 19.61% (27875/142111)\n  submit              : 89.35% (1326/1484)\n  tussle              : 76.45% (792/1036)\n\nEpoch [26/50], Loss: 1.3918, Overall Validation Accuracy: 19.98%\nThe operation took 171.4497 seconds to complete.\n\n--- Individual Class Validation Accuracy ---\n  allogroom           : 85.21% (1273/1494)\n  approach            : 3.80% (675/17742)\n  attack              : 12.73% (13190/103629)\n  attemptmount        : 36.92% (408/1105)\n  avoid               : 60.74% (2720/4478)\n  biteobject          : 32.42% (153/472)\n  chase               : 27.31% (1307/4785)\n  chaseattack         : 80.43% (752/935)\n  climb               : 45.88% (5465/11911)\n  defend              : 39.00% (7105/18218)\n  dig                 : 25.38% (4048/15948)\n  disengage           : 88.58% (2179/2460)\n  dominance           : 99.99% (7696/7697)\n  dominancegroom      : 95.91% (915/954)\n  dominancemount      : 35.99% (1285/3570)\n  ejaculate           : 99.22% (254/256)\n  escape              : 10.43% (1918/18398)\n  exploreobject       : 81.64% (618/757)\n  flinch              : 41.67% (155/372)\n  follow              : 84.92% (6819/8030)\n  freeze              : 75.80% (4383/5782)\n  genitalgroom        : 86.55% (1094/1264)\n  huddle              : 94.41% (4408/4669)\n  intromit            : 39.99% (26888/67244)\n  mount               : 28.73% (16239/56520)\n  rear                : 18.01% (8406/46675)\n  reciprocalsniff     : 76.10% (6388/8394)\n  rest                : 74.92% (13085/17465)\n  run                 : 72.98% (262/359)\n  selfgroom           : 10.09% (1676/16603)\n  shepherd            : 100.00% (5930/5930)\n  sniff               : 6.46% (28155/436084)\n  sniffbody           : 35.67% (7526/21098)\n  sniffface           : 6.73% (995/14776)\n  sniffgenital        : 16.39% (23287/142111)\n  submit              : 91.31% (1355/1484)\n  tussle              : 67.76% (702/1036)\n\nEpoch [27/50], Loss: 1.3886, Overall Validation Accuracy: 19.59%\nThe operation took 171.3431 seconds to complete.\n",
          "output_type": "stream"
        }
      ],
      "execution_count": null
    },
    {
      "cell_type": "code",
      "source": [
        "# Iterate through the classes_ array. The index 'i' is the encoded value.\n",
        "for i, class_label in enumerate(le.classes_):\n",
        "    print(f\"     {i:<12} | {class_label}\")"
      ],
      "metadata": {
        "trusted": true,
        "execution": {
          "execution_failed": "2025-10-09T12:09:31.516Z"
        },
        "id": "3OpbxjsRaedP"
      },
      "outputs": [],
      "execution_count": null
    },
    {
      "cell_type": "code",
      "source": [
        "MODEL_DIR = '/kaggle/working/model'\n",
        "# Create the output directory if it doesn't exist\n",
        "os.makedirs(MODEL_DIR, exist_ok=True)\n",
        "\n",
        "MODEL_FILE = os.path.join(MODEL_DIR, 'mouse_action_lstm.pth')\n",
        "\n",
        "# Ensure your model is on the CPU before saving to avoid GPU compatibility issues when loading\n",
        "model.to('cpu')\n",
        "\n",
        "# Save only the model's state dictionary\n",
        "torch.save(model.state_dict(), MODEL_FILE)\n",
        "\n",
        "print(f\"Model successfully saved to: {MODEL_FILE}\")"
      ],
      "metadata": {
        "trusted": true,
        "execution": {
          "execution_failed": "2025-10-09T12:09:31.516Z"
        },
        "id": "lAOxY3eAaedP"
      },
      "outputs": [],
      "execution_count": null
    },
    {
      "cell_type": "code",
      "source": [
        "gc.collect()"
      ],
      "metadata": {
        "trusted": true,
        "execution": {
          "execution_failed": "2025-10-09T12:09:31.516Z"
        },
        "id": "glwBdknIaedQ"
      },
      "outputs": [],
      "execution_count": null
    },
    {
      "cell_type": "code",
      "source": [
        "# Define your data directory (assuming you placed the 'parquet_chunks' folder\n",
        "# in the same working directory or a linked dataset)\n",
        "OUTPUT_DIR = '/kaggle/working/stratified_split'\n",
        "\n",
        "# --- Load and Prepare Data ---\n",
        "\n",
        "# 1. Load All Parquet Files\n",
        "try:\n",
        "    all_files = glob.glob(os.path.join(OUTPUT_DIR, \"data_test_10percent.parquet\"))\n",
        "    list_of_dfs = [pd.read_parquet(f) for f in all_files]\n",
        "    df_test = pd.concat(list_of_dfs, ignore_index=True)\n",
        "    print(f\"Successfully loaded {len(all_files)} files.\")\n",
        "    print(f\"Total rows: {len(df_test):,}\")\n",
        "except Exception as e:\n",
        "    print(f\"Error loading files. Check directory path: {e}\")\n",
        "    # Create a dummy DataFrame if loading fails to prevent kernel crash\n",
        "    # df_final = pd.DataFrame()"
      ],
      "metadata": {
        "trusted": true,
        "execution": {
          "execution_failed": "2025-10-09T12:09:31.516Z"
        },
        "id": "VeUQ3uXvaedQ"
      },
      "outputs": [],
      "execution_count": null
    },
    {
      "cell_type": "code",
      "source": [
        "# 1. Count the true labels in the original test labels\n",
        "print(\"True label counts in the data used for inference:\")\n",
        "# Use the un-encoded labels before they went into the DataLoader\n",
        "print(df_test['action'].value_counts())"
      ],
      "metadata": {
        "trusted": true,
        "execution": {
          "execution_failed": "2025-10-09T12:09:31.516Z"
        },
        "id": "ncxpAtUnaedQ"
      },
      "outputs": [],
      "execution_count": null
    },
    {
      "cell_type": "code",
      "source": [
        "# --- 1. Define the Index Columns ---\n",
        "# These columns will define the unique rows in the resulting DataFrame.\n",
        "ID_COLS = ['lab_id', 'video_id', 'video_frame', 'mouse_id', 'target_id']\n",
        "\n",
        "# --- 2. Separate Action for Merging ---\n",
        "# Since 'Action' is constant for a given combination of ID_COLS,\n",
        "# we extract it separately to avoid issues with the pivot,\n",
        "# then merge it back later. This is often necessary when the value\n",
        "# column (like 'x'/'y') is not strictly unique.\n",
        "\n",
        "# Keep only the unique combinations of ID_COLS and action\n",
        "action_df = df_test[ID_COLS + ['action']].drop_duplicates()\n",
        "\n",
        "# --- 3. Perform the Pivot Operation ---\n",
        "# This transforms the 'bodypart' rows into columns.\n",
        "df_pivoted = df_test.pivot_table(\n",
        "    index=ID_COLS,           # The columns that form the new unique row identifier\n",
        "    columns='bodypart',      # The column whose unique values become the new column headers\n",
        "    values=['x', 'y'],       # The columns whose values will be aggregated\n",
        "    aggfunc='mean'           # CRITICAL: Calculates the mean of the 'x' and 'y' duplicates\n",
        ")\n",
        "\n",
        "# --- 4. Clean Up Column Names ---\n",
        "# The pivot operation creates multi-level columns (e.g., ('x', 'headpiece_bottombackright')).\n",
        "# We flatten and rename them for easier use: 'bodypart_x', 'bodypart_y'.\n",
        "df_pivoted.columns = [f'{col[1]}_{col[0]}' for col in df_pivoted.columns.values]\n",
        "\n",
        "# --- 5. Reset Index and Merge Action ---\n",
        "# Reset the index to turn the ID_COLS back into regular columns\n",
        "df_pivoted = df_pivoted.reset_index()\n",
        "\n",
        "# Merge the action column back into the pivoted DataFrame\n",
        "df_final = pd.merge(\n",
        "    df_pivoted,\n",
        "    action_df,\n",
        "    on=ID_COLS,\n",
        "    how='left'  # Use a left merge to keep all the pivoted data\n",
        ")\n",
        "\n",
        "# --- 6. Reorder Columns for Clarity ---\n",
        "# Move 'action' to be near the ID columns\n",
        "final_columns = ID_COLS + ['action'] + [col for col in df_final.columns if col not in ID_COLS + ['action']]\n",
        "df_final = df_final[final_columns]\n"
      ],
      "metadata": {
        "trusted": true,
        "execution": {
          "execution_failed": "2025-10-09T12:09:31.516Z"
        },
        "id": "aRR0048oaedR"
      },
      "outputs": [],
      "execution_count": null
    },
    {
      "cell_type": "code",
      "source": [
        "df_final.drop(columns=ID_COLS, axis=1, inplace=True)\n",
        "print(\"--- Final Reshaped DataFrame Head ---\")\n",
        "print(df_final.head())\n",
        "print(f\"\\nFinal DataFrame Shape: {df_final.shape}\")"
      ],
      "metadata": {
        "trusted": true,
        "execution": {
          "execution_failed": "2025-10-09T12:09:31.516Z"
        },
        "id": "uP68W-QWaedR"
      },
      "outputs": [],
      "execution_count": null
    },
    {
      "cell_type": "code",
      "source": [
        "INPUT_SIZE = sum(1 for col in df_final.columns if col.endswith('_x') or col.endswith('_y'))\n",
        "print(INPUT_SIZE)\n",
        "\n",
        "NUM_CLASSES = len(df_final['action'].unique())\n",
        "print(NUM_CLASSES)"
      ],
      "metadata": {
        "trusted": true,
        "execution": {
          "execution_failed": "2025-10-09T12:09:31.516Z"
        },
        "id": "BOwzhHu1aedR"
      },
      "outputs": [],
      "execution_count": null
    },
    {
      "cell_type": "code",
      "source": [
        "# --- Model Definition ---\n",
        "class MouseActionLSTM(nn.Module):\n",
        "    def __init__(self, input_size, hidden_size, num_layers, num_classes):\n",
        "        super(MouseActionLSTM, self).__init__()\n",
        "        self.hidden_size = hidden_size\n",
        "        self.num_layers = num_layers\n",
        "\n",
        "        # 1. LSTM Layer: Processes the time sequence\n",
        "        self.lstm = nn.LSTM(input_size, hidden_size, num_layers, batch_first=True)\n",
        "        self.dropout = nn.Dropout(0.3)\n",
        "        # 2. Fully Connected Layer: Maps the final hidden state to the class prediction\n",
        "        self.fc = nn.Linear(hidden_size, num_classes)\n",
        "\n",
        "    def forward(self, x):\n",
        "        # Initialize hidden state and cell state (optional, but good practice)\n",
        "        # h0 and c0 will be created automatically if not passed, but explicit is cleaner\n",
        "\n",
        "        # Pass the sequence through the LSTM\n",
        "        # out has shape (batch_size, sequence_length, hidden_size)\n",
        "        out, _ = self.lstm(x)\n",
        "\n",
        "        # We only care about the output from the LAST frame in the sequence\n",
        "        # out[:, -1, :] extracts the last time step output\n",
        "        out = self.fc(out[:, -1, :])\n",
        "        return out\n",
        "\n",
        "# Instantiate the model\n",
        "HIDDEN_SIZE = 128\n",
        "NUM_LAYERS = 2\n",
        "MODEL_FILE = '/kaggle/working/model/mouse_action_lstm.pth'\n",
        "loaded_model  = MouseActionLSTM(INPUT_SIZE, HIDDEN_SIZE, NUM_LAYERS, NUM_CLASSES)\n",
        "loaded_model.load_state_dict(torch.load(MODEL_FILE))\n",
        "print(\"LSTM model defined successfully.\")"
      ],
      "metadata": {
        "trusted": true,
        "execution": {
          "execution_failed": "2025-10-09T12:09:31.516Z"
        },
        "id": "5ncWtURkaedS"
      },
      "outputs": [],
      "execution_count": null
    },
    {
      "cell_type": "code",
      "source": [
        "class PoseSequenceDataset(Dataset):\n",
        "    def __init__(self, features, labels, sequence_length):\n",
        "        self.features = features\n",
        "        self.labels = labels\n",
        "        self.sequence_length = sequence_length\n",
        "        self.indices = self._create_indices()\n",
        "\n",
        "    def _create_indices(self):\n",
        "        # Create indices for the start of each sequence.\n",
        "        # The last possible start index is len(features) - sequence_length\n",
        "        return np.arange(len(self.features) - self.sequence_length)\n",
        "\n",
        "    def __len__(self):\n",
        "        # The number of available sequences\n",
        "        return len(self.indices)\n",
        "\n",
        "    def __getitem__(self, idx):\n",
        "        start_idx = self.indices[idx]\n",
        "        end_idx = start_idx + self.sequence_length\n",
        "\n",
        "        # X: Sequence of features (e.g., 30 frames x 50 coordinates)\n",
        "        x_sequence = self.features[start_idx:end_idx]\n",
        "\n",
        "        # Y: The label for the *last frame* in the sequence\n",
        "        y_label = self.labels[end_idx - 1]\n",
        "\n",
        "        return x_sequence, y_label\n",
        "\n",
        "# --- Configuration (MUST match training) ---\n",
        "SEQUENCE_LENGTH = 30  # Same as used for training\n",
        "# Assuming you have the trained LabelEncoder 'le' from the training script\n",
        "# If not, you must save and load it, or recreate it with ALL known classes.\n",
        "# For simplicity, we assume le is available.\n",
        "\n",
        "# --- 1. Impute NaN Values ---\n",
        "print(\"Applying ffill and bfill to df_test...\")\n",
        "# Select only the feature columns for imputation\n",
        "feature_cols = [col for col in df_final.columns if col.endswith('_x') or col.endswith('_y')]\n",
        "\n",
        "# Apply FFill and BFill in sequence\n",
        "df_final[feature_cols].fillna(method='ffill', inplace=True)\n",
        "df_final[feature_cols].fillna(method='bfill', inplace=True)\n",
        "\n",
        "# --- 2. Separate Features (X_test) and Target (y_test) ---\n",
        "X_test_np = df_final[feature_cols].values\n",
        "y_test_labels = df_final['action'].values # Keep original labels for comparison\n",
        "y_test_encoded = le.transform(y_test_labels)\n",
        "# Convert to PyTorch Tensor\n",
        "X_test_tensor = torch.tensor(X_test_np, dtype=torch.float32)\n",
        "\n",
        "# --- 3. Create Sequence Dataset ---\n",
        "# We reuse the PoseSequenceDataset class defined during training.\n",
        "# Since we need to match the structure, we use a simple DataLoader.\n",
        "\n",
        "# IMPORTANT: Skip encoding the test labels to suppress the ValueError\n",
        "# We use a placeholder tensor for the labels, which will be the correct size.\n",
        "# NOTE: This means you CANNOT use 'y_test_tensor' to calculate accuracy with le.transform()\n",
        "# You must handle the evaluation comparison manually later.\n",
        "\n",
        "# ORIGINAL LINE (Caused Error): y_test_encoded = le.transform(y_test_labels)\n",
        "# ORIGINAL LINE (Caused Error): y_test_tensor = torch.tensor(y_test_encoded, dtype=torch.long)\n",
        "y_test_tensor = torch.tensor(y_test_encoded, dtype=torch.long)\n",
        "\n",
        "test_dataset = PoseSequenceDataset(X_test_tensor, y_test_tensor, SEQUENCE_LENGTH)\n",
        "test_loader = DataLoader(test_dataset, batch_size=1024, shuffle=False)\n",
        "\n",
        "print(f\"Test data ready. Total sequences: {len(test_dataset):,}\")"
      ],
      "metadata": {
        "trusted": true,
        "execution": {
          "execution_failed": "2025-10-09T12:09:31.516Z"
        },
        "id": "T29g7NFjaedT"
      },
      "outputs": [],
      "execution_count": null
    },
    {
      "cell_type": "code",
      "source": [
        "del df_final\n",
        "del df_test\n",
        "del df_pivoted\n",
        "del X_test_np\n",
        "del y_test_labels\n",
        "del y_test_tensor\n",
        "del test_dataset"
      ],
      "metadata": {
        "trusted": true,
        "execution": {
          "execution_failed": "2025-10-09T12:09:31.516Z"
        },
        "id": "qmqWBykeaedU"
      },
      "outputs": [],
      "execution_count": null
    },
    {
      "cell_type": "code",
      "source": [
        "# --- Inference Execution ---\n",
        "\n",
        "# Ensure the model is in evaluation mode and on the correct device\n",
        "DEVICE = torch.device('cuda' if torch.cuda.is_available() else 'cpu')\n",
        "loaded_model.to(DEVICE)\n",
        "loaded_model.eval()\n",
        "\n",
        "all_predictions = []\n",
        "all_true_labels = []\n",
        "\n",
        "print(\"Starting inference...\")\n",
        "\n",
        "with torch.no_grad(): # Essential: disables gradient calculation to save memory and speed\n",
        "    for sequences, labels in test_loader:\n",
        "\n",
        "        sequences = sequences.to(DEVICE)\n",
        "\n",
        "        # 1. Forward Pass\n",
        "        outputs = loaded_model(sequences)\n",
        "\n",
        "        # 2. Get Predicted Class Index\n",
        "        # torch.max returns (max_value, max_index). We want the index (the class ID).\n",
        "        _, predicted_indices = torch.max(outputs.data, 1)\n",
        "\n",
        "        # Store predictions and true labels\n",
        "        all_predictions.extend(predicted_indices.cpu().numpy())\n",
        "        all_true_labels.extend(labels.cpu().numpy()) # Store true encoded labels\n",
        "\n",
        "print(\"Inference complete.\")\n",
        "\n"
      ],
      "metadata": {
        "trusted": true,
        "execution": {
          "execution_failed": "2025-10-09T12:09:31.516Z"
        },
        "id": "gzhxOT3EaedU"
      },
      "outputs": [],
      "execution_count": null
    },
    {
      "cell_type": "code",
      "source": [
        "# --- 3. Decode and Evaluate ---\n",
        "# Decode the predicted indices back into their original string labels\n",
        "print(le)\n",
        "predicted_actions = le.inverse_transform(all_predictions)\n",
        "\n",
        "# Create a final DataFrame for review\n",
        "results_df = pd.DataFrame({\n",
        "    'True_Action': le.inverse_transform(all_true_labels),\n",
        "    'Predicted_Action': predicted_actions\n",
        "})\n",
        "\n",
        "# Calculate Final Accuracy\n",
        "final_accuracy = accuracy_score(all_true_labels, all_predictions)\n",
        "\n",
        "print(\"\\n--- Inference Results ---\")\n",
        "print(f\"Overall Test Accuracy: {final_accuracy:.4f}\")\n",
        "print(\"\\nSample Predictions:\")\n",
        "print(results_df)"
      ],
      "metadata": {
        "trusted": true,
        "execution": {
          "execution_failed": "2025-10-09T12:09:31.516Z"
        },
        "id": "JcGavVKJaedW"
      },
      "outputs": [],
      "execution_count": null
    },
    {
      "cell_type": "code",
      "source": [
        "# Filter the DataFrame where the 'True_Action' column is not 'NIL'\n",
        "non_nil_actions = results_df[results_df['Predicted_Action'] != 'NIL']\n",
        "\n",
        "# Display the resulting DataFrame\n",
        "print(\"--- Rows where True_Action is NOT 'NIL' ---\")\n",
        "print(len(non_nil_actions))"
      ],
      "metadata": {
        "trusted": true,
        "execution": {
          "execution_failed": "2025-10-09T12:09:31.516Z"
        },
        "id": "MdTDwWj6aedW"
      },
      "outputs": [],
      "execution_count": null
    }
  ]
}